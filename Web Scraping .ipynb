{
 "cells": [
  {
   "cell_type": "markdown",
   "metadata": {},
   "source": [
    "# Text Analysis"
   ]
  },
  {
   "cell_type": "markdown",
   "metadata": {},
   "source": [
    "# Web Scraping\n",
    "- Let us go to Yahoo Finance \n",
    "- And try to get some data for AAPL"
   ]
  },
  {
   "cell_type": "markdown",
   "metadata": {},
   "source": [
    "- the landing page URL is \n",
    "https://finance.yahoo.com/quote/AAPL?p=AAPL&.tsrc=fin-srch\n",
    "- The base url here is \n",
    "    https://finance.yahoo.com/quote/AAPL\n",
    "- The query is \n",
    "      - ?p=AAPL&.tsrc=fin-srch\n",
    "      - p and .tsrc are query keys\n",
    "      - AAPL and fin-srch are corresponding values\n",
    "      - & is the query separator\n",
    "    \n",
    "- try look at statistics. The statistics URL is \n",
    "https://finance.yahoo.com/quote/AAPL/key-statistics?p=AAPL\n",
    "\n",
    "- We will use \n",
    "    - Requests to fetch the html page\n",
    "    - Beautiful Soup to parse the html\n",
    "    - pandas read_html to get the tables\n"
   ]
  },
  {
   "cell_type": "code",
   "execution_count": 17,
   "metadata": {},
   "outputs": [],
   "source": [
    "# Import the necessary packages\n",
    "import numpy as np\n",
    "import pandas as pd\n",
    "from bs4 import BeautifulSoup\n",
    "import requests\n",
    "import lxml\n",
    "from lxml import html"
   ]
  },
  {
   "cell_type": "code",
   "execution_count": 18,
   "metadata": {},
   "outputs": [
    {
     "data": {
      "text/plain": [
       "<Response [200]>"
      ]
     },
     "execution_count": 18,
     "metadata": {},
     "output_type": "execute_result"
    }
   ],
   "source": [
    "# Extract Data of AAPL from Yahoo\n",
    "# Use requests to get the page\n",
    "page=requests.get(\"https://finance.yahoo.com/quote/AAPL?p=AAPL&.tsrc=fin-srch\")\n",
    "page"
   ]
  },
  {
   "cell_type": "markdown",
   "metadata": {},
   "source": [
    "- 200 is the status code and it means the page was successfuly obtained\n",
    "- Let us use BeautifulSoup to parse the data"
   ]
  },
  {
   "cell_type": "code",
   "execution_count": 19,
   "metadata": {
    "scrolled": false
   },
   "outputs": [],
   "source": [
    "soup=BeautifulSoup(page.content,'lxml')"
   ]
  },
  {
   "cell_type": "code",
   "execution_count": 20,
   "metadata": {},
   "outputs": [
    {
     "data": {
      "text/plain": [
       "[<title>Apple Inc. (AAPL) Stock Price, News, Quote &amp; History - Yahoo Finance</title>]"
      ]
     },
     "execution_count": 20,
     "metadata": {},
     "output_type": "execute_result"
    }
   ],
   "source": [
    "# You can search by tags by using find_all function in Beautiful Soup\n",
    "title=soup.find_all('title')\n",
    "title"
   ]
  },
  {
   "cell_type": "code",
   "execution_count": 21,
   "metadata": {},
   "outputs": [
    {
     "data": {
      "text/plain": [
       "bs4.element.ResultSet"
      ]
     },
     "execution_count": 21,
     "metadata": {},
     "output_type": "execute_result"
    }
   ],
   "source": [
    "type(title)"
   ]
  },
  {
   "cell_type": "code",
   "execution_count": 22,
   "metadata": {},
   "outputs": [
    {
     "data": {
      "text/plain": [
       "1"
      ]
     },
     "execution_count": 22,
     "metadata": {},
     "output_type": "execute_result"
    }
   ],
   "source": [
    "len(title)"
   ]
  },
  {
   "cell_type": "code",
   "execution_count": 23,
   "metadata": {},
   "outputs": [
    {
     "data": {
      "text/plain": [
       "'Apple Inc. (AAPL) Stock Price, News, Quote & History - Yahoo Finance'"
      ]
     },
     "execution_count": 23,
     "metadata": {},
     "output_type": "execute_result"
    }
   ],
   "source": [
    "title[0].text"
   ]
  },
  {
   "cell_type": "code",
   "execution_count": 24,
   "metadata": {
    "scrolled": true
   },
   "outputs": [
    {
     "data": {
      "text/plain": [
       "[<table class=\"W(100%)\" data-reactid=\"92\"><tbody data-reactid=\"93\"><tr class=\"Bxz(bb) Bdbw(1px) Bdbs(s) Bdc($seperatorColor) H(36px)\" data-reactid=\"94\"><td class=\"C($primaryColor) W(51%)\" data-reactid=\"95\"><span data-reactid=\"96\">Previous Close</span></td><td class=\"Ta(end) Fw(600) Lh(14px)\" data-reactid=\"97\" data-test=\"PREV_CLOSE-value\"><span class=\"Trsdu(0.3s)\" data-reactid=\"98\">119.21</span></td></tr><tr class=\"Bxz(bb) Bdbw(1px) Bdbs(s) Bdc($seperatorColor) H(36px)\" data-reactid=\"99\"><td class=\"C($primaryColor) W(51%)\" data-reactid=\"100\"><span data-reactid=\"101\">Open</span></td><td class=\"Ta(end) Fw(600) Lh(14px)\" data-reactid=\"102\" data-test=\"OPEN-value\"><span class=\"Trsdu(0.3s)\" data-reactid=\"103\">119.44</span></td></tr><tr class=\"Bxz(bb) Bdbw(1px) Bdbs(s) Bdc($seperatorColor) H(36px)\" data-reactid=\"104\"><td class=\"C($primaryColor) W(51%)\" data-reactid=\"105\"><span data-reactid=\"106\">Bid</span></td><td class=\"Ta(end) Fw(600) Lh(14px)\" data-reactid=\"107\" data-test=\"BID-value\"><span class=\"Trsdu(0.3s)\" data-reactid=\"108\">119.12 x 1800</span></td></tr><tr class=\"Bxz(bb) Bdbw(1px) Bdbs(s) Bdc($seperatorColor) H(36px)\" data-reactid=\"109\"><td class=\"C($primaryColor) W(51%)\" data-reactid=\"110\"><span data-reactid=\"111\">Ask</span></td><td class=\"Ta(end) Fw(600) Lh(14px)\" data-reactid=\"112\" data-test=\"ASK-value\"><span class=\"Trsdu(0.3s)\" data-reactid=\"113\">119.15 x 900</span></td></tr><tr class=\"Bxz(bb) Bdbw(1px) Bdbs(s) Bdc($seperatorColor) H(36px)\" data-reactid=\"114\"><td class=\"C($primaryColor) W(51%)\" data-reactid=\"115\"><span data-reactid=\"116\">Day's Range</span></td><td class=\"Ta(end) Fw(600) Lh(14px)\" data-reactid=\"117\" data-test=\"DAYS_RANGE-value\">117.87 - 119.67</td></tr><tr class=\"Bxz(bb) Bdbw(1px) Bdbs(s) Bdc($seperatorColor) H(36px)\" data-reactid=\"118\"><td class=\"C($primaryColor) W(51%)\" data-reactid=\"119\"><span data-reactid=\"120\">52 Week Range</span></td><td class=\"Ta(end) Fw(600) Lh(14px)\" data-reactid=\"121\" data-test=\"FIFTY_TWO_WK_RANGE-value\">53.15 - 137.98</td></tr><tr class=\"Bxz(bb) Bdbw(1px) Bdbs(s) Bdc($seperatorColor) H(36px)\" data-reactid=\"122\"><td class=\"C($primaryColor) W(51%)\" data-reactid=\"123\"><span data-reactid=\"124\">Volume</span></td><td class=\"Ta(end) Fw(600) Lh(14px)\" data-reactid=\"125\" data-test=\"TD_VOLUME-value\"><span class=\"Trsdu(0.3s)\" data-reactid=\"126\">78,857,203</span></td></tr><tr class=\"Bxz(bb) Bdbw(1px) Bdbs(s) Bdc($seperatorColor) H(36px) Bdbw(0)!\" data-reactid=\"127\"><td class=\"C($primaryColor) W(51%)\" data-reactid=\"128\"><span data-reactid=\"129\">Avg. Volume</span></td><td class=\"Ta(end) Fw(600) Lh(14px)\" data-reactid=\"130\" data-test=\"AVERAGE_VOLUME_3MONTH-value\"><span class=\"Trsdu(0.3s)\" data-reactid=\"131\">158,008,226</span></td></tr></tbody></table>,\n",
       " <table class=\"W(100%) M(0) Bdcl(c)\" data-reactid=\"133\"><tbody data-reactid=\"134\"><tr class=\"Bxz(bb) Bdbw(1px) Bdbs(s) Bdc($seperatorColor) H(36px)\" data-reactid=\"135\"><td class=\"C($primaryColor) W(51%)\" data-reactid=\"136\"><span data-reactid=\"137\">Market Cap</span></td><td class=\"Ta(end) Fw(600) Lh(14px)\" data-reactid=\"138\" data-test=\"MARKET_CAP-value\"><span class=\"Trsdu(0.3s)\" data-reactid=\"139\">2.028T</span></td></tr><tr class=\"Bxz(bb) Bdbw(1px) Bdbs(s) Bdc($seperatorColor) H(36px)\" data-reactid=\"140\"><td class=\"C($primaryColor) W(51%)\" data-reactid=\"141\"><span data-reactid=\"142\">Beta (5Y Monthly)</span></td><td class=\"Ta(end) Fw(600) Lh(14px)\" data-reactid=\"143\" data-test=\"BETA_5Y-value\"><span class=\"Trsdu(0.3s)\" data-reactid=\"144\">1.35</span></td></tr><tr class=\"Bxz(bb) Bdbw(1px) Bdbs(s) Bdc($seperatorColor) H(36px)\" data-reactid=\"145\"><td class=\"C($primaryColor) W(51%)\" data-reactid=\"146\"><span data-reactid=\"147\">PE Ratio (TTM)</span></td><td class=\"Ta(end) Fw(600) Lh(14px)\" data-reactid=\"148\" data-test=\"PE_RATIO-value\"><span class=\"Trsdu(0.3s)\" data-reactid=\"149\">36.36</span></td></tr><tr class=\"Bxz(bb) Bdbw(1px) Bdbs(s) Bdc($seperatorColor) H(36px)\" data-reactid=\"150\"><td class=\"C($primaryColor) W(51%)\" data-reactid=\"151\"><span data-reactid=\"152\">EPS (TTM)</span></td><td class=\"Ta(end) Fw(600) Lh(14px)\" data-reactid=\"153\" data-test=\"EPS_RATIO-value\"><span class=\"Trsdu(0.3s)\" data-reactid=\"154\">3.28</span></td></tr><tr class=\"Bxz(bb) Bdbw(1px) Bdbs(s) Bdc($seperatorColor) H(36px)\" data-reactid=\"155\"><td class=\"C($primaryColor) W(51%)\" data-reactid=\"156\"><span data-reactid=\"157\">Earnings Date</span></td><td class=\"Ta(end) Fw(600) Lh(14px)\" data-reactid=\"158\" data-test=\"EARNINGS_DATE-value\"><span data-reactid=\"159\">Jan 26, 2021</span><!-- react-text: 160 --> - <!-- /react-text --><span data-reactid=\"161\">Feb 01, 2021</span></td></tr><tr class=\"Bxz(bb) Bdbw(1px) Bdbs(s) Bdc($seperatorColor) H(36px)\" data-reactid=\"162\"><td class=\"C($primaryColor) W(51%)\" data-reactid=\"163\"><span data-reactid=\"164\">Forward Dividend &amp; Yield</span></td><td class=\"Ta(end) Fw(600) Lh(14px)\" data-reactid=\"165\" data-test=\"DIVIDEND_AND_YIELD-value\">0.82 (0.69%)</td></tr><tr class=\"Bxz(bb) Bdbw(1px) Bdbs(s) Bdc($seperatorColor) H(36px)\" data-reactid=\"166\"><td class=\"C($primaryColor) W(51%)\" data-reactid=\"167\"><span data-reactid=\"168\">Ex-Dividend Date</span></td><td class=\"Ta(end) Fw(600) Lh(14px)\" data-reactid=\"169\" data-test=\"EX_DIVIDEND_DATE-value\"><span data-reactid=\"170\">Nov 06, 2020</span></td></tr><tr class=\"Bxz(bb) Bdbw(1px) Bdbs(s) Bdc($seperatorColor) H(36px) Bdbw(0)!\" data-reactid=\"171\"><td class=\"C($primaryColor) W(51%)\" data-reactid=\"172\"><span data-reactid=\"173\">1y Target Est</span></td><td class=\"Ta(end) Fw(600) Lh(14px)\" data-reactid=\"174\" data-test=\"ONE_YEAR_TARGET_PRICE-value\"><span class=\"Trsdu(0.3s)\" data-reactid=\"175\">123.11</span></td></tr></tbody></table>]"
      ]
     },
     "execution_count": 24,
     "metadata": {},
     "output_type": "execute_result"
    }
   ],
   "source": [
    "# We need tables from the soup.\n",
    "# Use find_all function that looks at table tags\n",
    "tables=soup.find_all('table')\n",
    "tables"
   ]
  },
  {
   "cell_type": "code",
   "execution_count": 25,
   "metadata": {},
   "outputs": [
    {
     "data": {
      "text/plain": [
       "2"
      ]
     },
     "execution_count": 25,
     "metadata": {},
     "output_type": "execute_result"
    }
   ],
   "source": [
    "# There are two tables\n",
    "len(tables)"
   ]
  },
  {
   "cell_type": "code",
   "execution_count": 26,
   "metadata": {},
   "outputs": [
    {
     "data": {
      "text/plain": [
       "<table class=\"W(100%)\" data-reactid=\"92\"><tbody data-reactid=\"93\"><tr class=\"Bxz(bb) Bdbw(1px) Bdbs(s) Bdc($seperatorColor) H(36px)\" data-reactid=\"94\"><td class=\"C($primaryColor) W(51%)\" data-reactid=\"95\"><span data-reactid=\"96\">Previous Close</span></td><td class=\"Ta(end) Fw(600) Lh(14px)\" data-reactid=\"97\" data-test=\"PREV_CLOSE-value\"><span class=\"Trsdu(0.3s)\" data-reactid=\"98\">119.21</span></td></tr><tr class=\"Bxz(bb) Bdbw(1px) Bdbs(s) Bdc($seperatorColor) H(36px)\" data-reactid=\"99\"><td class=\"C($primaryColor) W(51%)\" data-reactid=\"100\"><span data-reactid=\"101\">Open</span></td><td class=\"Ta(end) Fw(600) Lh(14px)\" data-reactid=\"102\" data-test=\"OPEN-value\"><span class=\"Trsdu(0.3s)\" data-reactid=\"103\">119.44</span></td></tr><tr class=\"Bxz(bb) Bdbw(1px) Bdbs(s) Bdc($seperatorColor) H(36px)\" data-reactid=\"104\"><td class=\"C($primaryColor) W(51%)\" data-reactid=\"105\"><span data-reactid=\"106\">Bid</span></td><td class=\"Ta(end) Fw(600) Lh(14px)\" data-reactid=\"107\" data-test=\"BID-value\"><span class=\"Trsdu(0.3s)\" data-reactid=\"108\">119.12 x 1800</span></td></tr><tr class=\"Bxz(bb) Bdbw(1px) Bdbs(s) Bdc($seperatorColor) H(36px)\" data-reactid=\"109\"><td class=\"C($primaryColor) W(51%)\" data-reactid=\"110\"><span data-reactid=\"111\">Ask</span></td><td class=\"Ta(end) Fw(600) Lh(14px)\" data-reactid=\"112\" data-test=\"ASK-value\"><span class=\"Trsdu(0.3s)\" data-reactid=\"113\">119.15 x 900</span></td></tr><tr class=\"Bxz(bb) Bdbw(1px) Bdbs(s) Bdc($seperatorColor) H(36px)\" data-reactid=\"114\"><td class=\"C($primaryColor) W(51%)\" data-reactid=\"115\"><span data-reactid=\"116\">Day's Range</span></td><td class=\"Ta(end) Fw(600) Lh(14px)\" data-reactid=\"117\" data-test=\"DAYS_RANGE-value\">117.87 - 119.67</td></tr><tr class=\"Bxz(bb) Bdbw(1px) Bdbs(s) Bdc($seperatorColor) H(36px)\" data-reactid=\"118\"><td class=\"C($primaryColor) W(51%)\" data-reactid=\"119\"><span data-reactid=\"120\">52 Week Range</span></td><td class=\"Ta(end) Fw(600) Lh(14px)\" data-reactid=\"121\" data-test=\"FIFTY_TWO_WK_RANGE-value\">53.15 - 137.98</td></tr><tr class=\"Bxz(bb) Bdbw(1px) Bdbs(s) Bdc($seperatorColor) H(36px)\" data-reactid=\"122\"><td class=\"C($primaryColor) W(51%)\" data-reactid=\"123\"><span data-reactid=\"124\">Volume</span></td><td class=\"Ta(end) Fw(600) Lh(14px)\" data-reactid=\"125\" data-test=\"TD_VOLUME-value\"><span class=\"Trsdu(0.3s)\" data-reactid=\"126\">78,857,203</span></td></tr><tr class=\"Bxz(bb) Bdbw(1px) Bdbs(s) Bdc($seperatorColor) H(36px) Bdbw(0)!\" data-reactid=\"127\"><td class=\"C($primaryColor) W(51%)\" data-reactid=\"128\"><span data-reactid=\"129\">Avg. Volume</span></td><td class=\"Ta(end) Fw(600) Lh(14px)\" data-reactid=\"130\" data-test=\"AVERAGE_VOLUME_3MONTH-value\"><span class=\"Trsdu(0.3s)\" data-reactid=\"131\">158,008,226</span></td></tr></tbody></table>"
      ]
     },
     "execution_count": 26,
     "metadata": {},
     "output_type": "execute_result"
    }
   ],
   "source": [
    "# First table\n",
    "tables[0]"
   ]
  },
  {
   "cell_type": "code",
   "execution_count": 27,
   "metadata": {},
   "outputs": [
    {
     "name": "stdout",
     "output_type": "stream",
     "text": [
      "Previous Close119.21\n",
      "Open119.44\n",
      "Bid119.12 x 1800\n",
      "Ask119.15 x 900\n",
      "Day's Range117.87 - 119.67\n",
      "52 Week Range53.15 - 137.98\n",
      "Volume78,857,203\n",
      "Avg. Volume158,008,226\n"
     ]
    }
   ],
   "source": [
    "table1=soup.find('table',{\"data-reactid\":\"92\"})\n",
    "trows=table1.find_all('tr')\n",
    "for row in trows:\n",
    "    print(row.get_text())"
   ]
  },
  {
   "cell_type": "code",
   "execution_count": 28,
   "metadata": {},
   "outputs": [
    {
     "name": "stdout",
     "output_type": "stream",
     "text": [
      "Previous Close\n",
      "119.21\n",
      "Open\n",
      "119.44\n",
      "Bid\n",
      "119.12 x 1800\n",
      "Ask\n",
      "119.15 x 900\n",
      "Day's Range\n",
      "117.87 - 119.67\n",
      "52 Week Range\n",
      "53.15 - 137.98\n",
      "Volume\n",
      "78,857,203\n",
      "Avg. Volume\n",
      "158,008,226\n"
     ]
    }
   ],
   "source": [
    "td=table1.find_all('td')\n",
    "for d in td:\n",
    "    print(d.get_text())"
   ]
  },
  {
   "cell_type": "code",
   "execution_count": 29,
   "metadata": {
    "scrolled": true
   },
   "outputs": [
    {
     "data": {
      "text/plain": [
       "[                0                1\n",
       " 0  Previous Close           119.21\n",
       " 1            Open           119.44\n",
       " 2             Bid    119.12 x 1800\n",
       " 3             Ask     119.15 x 900\n",
       " 4     Day's Range  117.87 - 119.67\n",
       " 5   52 Week Range   53.15 - 137.98\n",
       " 6          Volume         78857203\n",
       " 7     Avg. Volume        158008226]"
      ]
     },
     "execution_count": 29,
     "metadata": {},
     "output_type": "execute_result"
    }
   ],
   "source": [
    "# How to read the data\n",
    "# Use read_html function in pandas\n",
    "# read_html accepts string \n",
    "# So convert the tables to string and use it\n",
    "t=pd.read_html(str(tables[0]))\n",
    "t"
   ]
  },
  {
   "cell_type": "code",
   "execution_count": 30,
   "metadata": {},
   "outputs": [
    {
     "data": {
      "text/plain": [
       "list"
      ]
     },
     "execution_count": 30,
     "metadata": {},
     "output_type": "execute_result"
    }
   ],
   "source": [
    "# The ouput is a list\n",
    "type(t)"
   ]
  },
  {
   "cell_type": "code",
   "execution_count": 31,
   "metadata": {},
   "outputs": [
    {
     "data": {
      "text/plain": [
       "pandas.core.frame.DataFrame"
      ]
     },
     "execution_count": 31,
     "metadata": {},
     "output_type": "execute_result"
    }
   ],
   "source": [
    "# The first element is a dataframe\n",
    "type(t[0])"
   ]
  },
  {
   "cell_type": "code",
   "execution_count": 32,
   "metadata": {},
   "outputs": [],
   "source": [
    "# Copy into a dataframe\n",
    "t1=t[0].copy()"
   ]
  },
  {
   "cell_type": "code",
   "execution_count": 33,
   "metadata": {},
   "outputs": [
    {
     "data": {
      "text/plain": [
       "0    Previous Close\n",
       "1            119.21\n",
       "Name: 0, dtype: object"
      ]
     },
     "execution_count": 33,
     "metadata": {},
     "output_type": "execute_result"
    }
   ],
   "source": [
    "# First row\n",
    "t1.loc[0]"
   ]
  },
  {
   "cell_type": "code",
   "execution_count": 34,
   "metadata": {},
   "outputs": [
    {
     "data": {
      "text/plain": [
       "0    Previous Close\n",
       "1              Open\n",
       "2               Bid\n",
       "3               Ask\n",
       "4       Day's Range\n",
       "5     52 Week Range\n",
       "6            Volume\n",
       "7       Avg. Volume\n",
       "Name: 0, dtype: object"
      ]
     },
     "execution_count": 34,
     "metadata": {},
     "output_type": "execute_result"
    }
   ],
   "source": [
    "# First column\n",
    "t1[0]"
   ]
  },
  {
   "cell_type": "code",
   "execution_count": 38,
   "metadata": {},
   "outputs": [
    {
     "data": {
      "text/plain": [
       "RangeIndex(start=0, stop=8, step=1)"
      ]
     },
     "execution_count": 38,
     "metadata": {},
     "output_type": "execute_result"
    }
   ],
   "source": [
    "t1.index"
   ]
  },
  {
   "cell_type": "code",
   "execution_count": 39,
   "metadata": {},
   "outputs": [
    {
     "data": {
      "text/html": [
       "<div>\n",
       "<style scoped>\n",
       "    .dataframe tbody tr th:only-of-type {\n",
       "        vertical-align: middle;\n",
       "    }\n",
       "\n",
       "    .dataframe tbody tr th {\n",
       "        vertical-align: top;\n",
       "    }\n",
       "\n",
       "    .dataframe thead th {\n",
       "        text-align: right;\n",
       "    }\n",
       "</style>\n",
       "<table border=\"1\" class=\"dataframe\">\n",
       "  <thead>\n",
       "    <tr style=\"text-align: right;\">\n",
       "      <th></th>\n",
       "      <th>0</th>\n",
       "      <th>1</th>\n",
       "    </tr>\n",
       "    <tr>\n",
       "      <th>0</th>\n",
       "      <th></th>\n",
       "      <th></th>\n",
       "    </tr>\n",
       "  </thead>\n",
       "  <tbody>\n",
       "    <tr>\n",
       "      <td>Previous Close</td>\n",
       "      <td>Previous Close</td>\n",
       "      <td>119.21</td>\n",
       "    </tr>\n",
       "    <tr>\n",
       "      <td>Open</td>\n",
       "      <td>Open</td>\n",
       "      <td>119.44</td>\n",
       "    </tr>\n",
       "    <tr>\n",
       "      <td>Bid</td>\n",
       "      <td>Bid</td>\n",
       "      <td>119.12 x 1800</td>\n",
       "    </tr>\n",
       "    <tr>\n",
       "      <td>Ask</td>\n",
       "      <td>Ask</td>\n",
       "      <td>119.15 x 900</td>\n",
       "    </tr>\n",
       "    <tr>\n",
       "      <td>Day's Range</td>\n",
       "      <td>Day's Range</td>\n",
       "      <td>117.87 - 119.67</td>\n",
       "    </tr>\n",
       "    <tr>\n",
       "      <td>52 Week Range</td>\n",
       "      <td>52 Week Range</td>\n",
       "      <td>53.15 - 137.98</td>\n",
       "    </tr>\n",
       "    <tr>\n",
       "      <td>Volume</td>\n",
       "      <td>Volume</td>\n",
       "      <td>78857203</td>\n",
       "    </tr>\n",
       "    <tr>\n",
       "      <td>Avg. Volume</td>\n",
       "      <td>Avg. Volume</td>\n",
       "      <td>158008226</td>\n",
       "    </tr>\n",
       "  </tbody>\n",
       "</table>\n",
       "</div>"
      ],
      "text/plain": [
       "                             0                1\n",
       "0                                              \n",
       "Previous Close  Previous Close           119.21\n",
       "Open                      Open           119.44\n",
       "Bid                        Bid    119.12 x 1800\n",
       "Ask                        Ask     119.15 x 900\n",
       "Day's Range        Day's Range  117.87 - 119.67\n",
       "52 Week Range    52 Week Range   53.15 - 137.98\n",
       "Volume                  Volume         78857203\n",
       "Avg. Volume        Avg. Volume        158008226"
      ]
     },
     "execution_count": 39,
     "metadata": {},
     "output_type": "execute_result"
    }
   ],
   "source": [
    "t1.index=t1[0]\n",
    "t1"
   ]
  },
  {
   "cell_type": "code",
   "execution_count": 19,
   "metadata": {},
   "outputs": [
    {
     "data": {
      "text/plain": [
       "0\n",
       "Previous Close             115.97\n",
       "Open                       117.19\n",
       "Bid                 119.31 x 1100\n",
       "Ask                  119.35 x 800\n",
       "Day's Range       116.44 - 119.63\n",
       "52 Week Range      53.15 - 137.98\n",
       "Volume                  112294954\n",
       "Avg. Volume             162108573\n",
       "Name: 1, dtype: object"
      ]
     },
     "execution_count": 19,
     "metadata": {},
     "output_type": "execute_result"
    }
   ],
   "source": [
    "# Change the index to first columns\n",
    "t1.index=t1[0]\n",
    "t2=t1[1]\n",
    "t2"
   ]
  },
  {
   "cell_type": "code",
   "execution_count": 20,
   "metadata": {},
   "outputs": [
    {
     "data": {
      "text/plain": [
       "115.97"
      ]
     },
     "execution_count": 20,
     "metadata": {},
     "output_type": "execute_result"
    }
   ],
   "source": [
    "# I want Apple's previous close \n",
    "float(t2.loc[\"Previous Close\"])"
   ]
  },
  {
   "cell_type": "markdown",
   "metadata": {},
   "source": [
    "- Now there were two tables in the html\n",
    "- Let us extract both\n"
   ]
  },
  {
   "cell_type": "code",
   "execution_count": 13,
   "metadata": {
    "scrolled": true
   },
   "outputs": [
    {
     "data": {
      "text/plain": [
       "0\n",
       "Previous Close                                   119.21\n",
       "Open                                             119.44\n",
       "Bid                                       119.12 x 1800\n",
       "Ask                                        119.15 x 900\n",
       "Day's Range                             117.87 - 119.67\n",
       "52 Week Range                            53.15 - 137.98\n",
       "Volume                                         78857203\n",
       "Avg. Volume                                   158008226\n",
       "Market Cap                                       2.028T\n",
       "Beta (5Y Monthly)                                  1.35\n",
       "PE Ratio (TTM)                                    36.36\n",
       "EPS (TTM)                                          3.28\n",
       "Earnings Date               Jan 26, 2021 - Feb 01, 2021\n",
       "Forward Dividend & Yield                   0.82 (0.69%)\n",
       "Ex-Dividend Date                           Nov 06, 2020\n",
       "1y Target Est                                    123.11\n",
       "Name: 1, dtype: object"
      ]
     },
     "execution_count": 13,
     "metadata": {},
     "output_type": "execute_result"
    }
   ],
   "source": [
    "# write a for loop\n",
    "df_tables=pd.DataFrame()\n",
    "for table in tables:\n",
    "# The first element of of each table object is a dataframe\n",
    "    df_tables=df_tables.append(pd.read_html(str(table))[0])\n",
    "df_tables_1=df_tables.copy()\n",
    "# Use the first column as index\n",
    "df_tables_1.index=df_tables_1[0]\n",
    "# Extract the second column as it containst the values\n",
    "df_tables_1[1]"
   ]
  },
  {
   "cell_type": "markdown",
   "metadata": {},
   "source": [
    "# Task\n",
    "- Extract all the tables and values from statistics page for AAPL\n",
    "- The output must be a dataframe \n",
    "    - The index of the dataframe must be the variable name\n",
    "    - The only column must contain the latest values "
   ]
  },
  {
   "cell_type": "code",
   "execution_count": null,
   "metadata": {},
   "outputs": [],
   "source": [
    "https://finance.yahoo.com/quote/AAPL/key-statistics?p=AAPL"
   ]
  },
  {
   "cell_type": "code",
   "execution_count": 40,
   "metadata": {},
   "outputs": [
    {
     "data": {
      "text/plain": [
       "<Response [200]>"
      ]
     },
     "execution_count": 40,
     "metadata": {},
     "output_type": "execute_result"
    }
   ],
   "source": [
    "page1=requests.get(\"https://finance.yahoo.com/quote/AAPL/key-statistics?p=AAPL\")\n",
    "page1"
   ]
  },
  {
   "cell_type": "code",
   "execution_count": 66,
   "metadata": {
    "scrolled": false
   },
   "outputs": [
    {
     "data": {
      "text/plain": [
       "<table class=\"W(100%) Bdcl(c) M(0) Whs(n) BdEnd Bdc($seperatorColor) D(itb)\" data-reactid=\"52\"><thead data-reactid=\"53\"><tr class=\"Bdtw(0px) C($primaryColor)\" data-reactid=\"54\"><th class=\"Fw(400) Pend(10px) Pos(st) Start(0) Pend(10px) Bgc($lv2BgColor) Z(1)\" data-reactid=\"55\"><!-- react-text: 56 --> <!-- /react-text --><div class=\"W(3px) Pos(a) Start(100%) T(0) H(100%) Bg($pfColumnFakeShadowGradient) Pe(n) Pend(5px)\" data-reactid=\"57\"></div></th><th class=\"Fw(b) Ta(c) Pstart(6px) Pend(4px) Py(6px) Miw(fc) Miw(fc)--pnclg Bgc($lv1BgColor) Pend(0)\" data-reactid=\"58\"><span class=\"Pos(r) smplTblTooltip\" data-reactid=\"59\"><span class=\"Pos(a) Z(3) Bgc($lv3BgColor) Bd($featurePromoBorder) Bxsh($boxAreaShadow) smplTblTooltip:h_V(v) V(h) W(150px) P(10px) D(ib) Fz(12px) C($tertiaryColor) Fw(500) Mt(25px)\" data-reactid=\"60\"><!-- react-text: 61 -->As of Date: 11/14/2020<!-- /react-text --><div class=\"Pos(a) H(0) W(0) Bdbc($seperatorColor) End(100%) Bds(s) Bdw(10px) Bdstartc(t) Bdendc(t) Bdtc(t)\" data-reactid=\"62\" style=\"left:41px;top:-20px;\"></div><div class=\"Pos(a) H(0) W(0) Bdbc($lv3BgColor) End(100%) Bds(s) Bdw(10px) Bdstartc(t) Bdendc(t) Bdtc(t)\" data-reactid=\"63\" style=\"left:42px;top:-20px;\"></div></span><span data-reactid=\"64\">Current</span><div class=\"Lh(14px) D(ib) Va(m) Pstart(1px)\" data-reactid=\"65\"><svg class=\"Fill($iconColor)! Stk($iconColor)! Cur(p)\" data-icon=\"help\" data-reactid=\"66\" height=\"14\" style=\"fill:#000;stroke:#000;stroke-width:0;vertical-align:bottom;\" viewbox=\"0 0 48 48\" width=\"14\"><path d=\"M22.993 35.28a2 2 0 1 0 4 0 2 2 0 1 0-4 0zM24.993 2.28c-12.13 0-22 9.87-22 22s9.87 22 22 22 22-9.868 22-22c0-12.13-9.87-22-22-22zm0 40c-9.925 0-18-8.074-18-18s8.075-18 18-18 18 8.074 18 18-8.075 18-18 18zM24.993 11.28c-4.41 0-8 3.59-8 8 0 1.105.896 2 2 2s2-.895 2-2c0-2.205 1.794-4 4-4s4 1.795 4 4c0 2.206-1.794 4-4 4-1.104 0-2 .896-2 2v2.438c0 1.105.896 2 2 2s2-.895 2-2v-.7c3.444-.892 6-4.017 6-7.736 0-4.412-3.59-8.002-8-8.002z\" data-reactid=\"67\"></path></svg></div></span></th><th class=\"Fw(b) Ta(c) Pstart(6px) Pend(4px) Py(6px) Miw(fc) Miw(fc)--pnclg\" data-reactid=\"68\"><span data-reactid=\"69\">9/30/2020</span></th><th class=\"Fw(b) Ta(c) Pstart(6px) Pend(4px) Py(6px) Miw(fc) Miw(fc)--pnclg Bgc($lv1BgColor)\" data-reactid=\"70\"><span data-reactid=\"71\">6/30/2020</span></th><th class=\"Fw(b) Ta(c) Pstart(6px) Pend(4px) Py(6px) Miw(fc) Miw(fc)--pnclg\" data-reactid=\"72\"><span data-reactid=\"73\">3/31/2020</span></th><th class=\"Fw(b) Ta(c) Pstart(6px) Pend(4px) Py(6px) Miw(fc) Miw(fc)--pnclg Bgc($lv1BgColor)\" data-reactid=\"74\"><span data-reactid=\"75\">12/31/2019</span></th><th class=\"Fw(b) Ta(c) Pstart(6px) Pend(4px) Py(6px) Miw(fc) Miw(fc)--pnclg Pend(10px)\" data-reactid=\"76\"><span data-reactid=\"77\">9/30/2019</span></th></tr></thead><tbody data-reactid=\"78\"><tr class=\"Bxz(bb) H(36px) BdY Bdc($seperatorColor) fi-row Bgc($hoverBgColor):h\" data-reactid=\"79\"><td class=\"Pos(st) Start(0) Bgc($lv2BgColor) fi-row:h_Bgc($hoverBgColor) Pend(10px) Miw(140px)\" data-reactid=\"80\"><span data-reactid=\"81\">Market Cap (intraday)</span><!-- react-text: 82 --> <!-- /react-text --><!-- react-text: 83 --><!-- /react-text --><sup aria-label=\"Shares outstanding is taken from the most recently filed quarterly or annual report and Market Cap is calculated using shares outstanding.\" data-reactid=\"84\">5</sup><div class=\"W(3px) Pos(a) Start(100%) T(0) H(100%) Bg($pfColumnFakeShadowGradient) Pe(n) Pend(5px)\" data-reactid=\"85\"></div></td><td class=\"Ta(c) Pstart(10px) Miw(60px) Miw(80px)--pnclg Bgc($lv1BgColor) fi-row:h_Bgc($hoverBgColor)\" data-reactid=\"86\">2.03T</td><td class=\"Ta(c) Pstart(10px) Miw(60px) Miw(80px)--pnclg fi-row:h_Bgc($hoverBgColor)\" data-reactid=\"87\">1.97T</td><td class=\"Ta(c) Pstart(10px) Miw(60px) Miw(80px)--pnclg fi-row:h_Bgc($hoverBgColor) Bgc($lv1BgColor)\" data-reactid=\"88\">1.56T</td><td class=\"Ta(c) Pstart(10px) Miw(60px) Miw(80px)--pnclg fi-row:h_Bgc($hoverBgColor)\" data-reactid=\"89\">1.10T</td><td class=\"Ta(c) Pstart(10px) Miw(60px) Miw(80px)--pnclg fi-row:h_Bgc($hoverBgColor) Bgc($lv1BgColor)\" data-reactid=\"90\">1.29T</td><td class=\"Ta(c) Pstart(10px) Miw(60px) Miw(80px)--pnclg fi-row:h_Bgc($hoverBgColor) Pend(10px)\" data-reactid=\"91\">995.15B</td></tr><tr class=\"Bxz(bb) H(36px) BdB Bdbc($seperatorColor) fi-row Bgc($hoverBgColor):h\" data-reactid=\"92\"><td class=\"Pos(st) Start(0) Bgc($lv2BgColor) fi-row:h_Bgc($hoverBgColor) Pend(10px)\" data-reactid=\"93\"><span data-reactid=\"94\">Enterprise Value</span><!-- react-text: 95 --> <!-- /react-text --><!-- react-text: 96 --><!-- /react-text --><sup aria-label=\"Data derived from multiple sources or calculated by Yahoo Finance.\" data-reactid=\"97\">3</sup><div class=\"W(3px) Pos(a) Start(100%) T(0) H(100%) Bg($pfColumnFakeShadowGradient) Pe(n) Pend(5px)\" data-reactid=\"98\"></div></td><td class=\"Ta(c) Pstart(10px) Miw(60px) Miw(80px)--pnclg Bgc($lv1BgColor) fi-row:h_Bgc($hoverBgColor)\" data-reactid=\"99\">2.05T</td><td class=\"Ta(c) Pstart(10px) Miw(60px) Miw(80px)--pnclg fi-row:h_Bgc($hoverBgColor)\" data-reactid=\"100\">1.99T</td><td class=\"Ta(c) Pstart(10px) Miw(60px) Miw(80px)--pnclg fi-row:h_Bgc($hoverBgColor) Bgc($lv1BgColor)\" data-reactid=\"101\">1.58T</td><td class=\"Ta(c) Pstart(10px) Miw(60px) Miw(80px)--pnclg fi-row:h_Bgc($hoverBgColor)\" data-reactid=\"102\">1.10T</td><td class=\"Ta(c) Pstart(10px) Miw(60px) Miw(80px)--pnclg fi-row:h_Bgc($hoverBgColor) Bgc($lv1BgColor)\" data-reactid=\"103\">1.30T</td><td class=\"Ta(c) Pstart(10px) Miw(60px) Miw(80px)--pnclg fi-row:h_Bgc($hoverBgColor) Pend(10px)\" data-reactid=\"104\">1.01T</td></tr><tr class=\"Bxz(bb) H(36px) BdB Bdbc($seperatorColor) fi-row Bgc($hoverBgColor):h\" data-reactid=\"105\"><td class=\"Pos(st) Start(0) Bgc($lv2BgColor) fi-row:h_Bgc($hoverBgColor) Pend(10px)\" data-reactid=\"106\"><span data-reactid=\"107\">Trailing P/E</span><!-- react-text: 108 --> <!-- /react-text --><!-- react-text: 109 --><!-- /react-text --><sup aria-label=\"\" data-reactid=\"110\"></sup><div class=\"W(3px) Pos(a) Start(100%) T(0) H(100%) Bg($pfColumnFakeShadowGradient) Pe(n) Pend(5px)\" data-reactid=\"111\"></div></td><td class=\"Ta(c) Pstart(10px) Miw(60px) Miw(80px)--pnclg Bgc($lv1BgColor) fi-row:h_Bgc($hoverBgColor)\" data-reactid=\"112\">36.36</td><td class=\"Ta(c) Pstart(10px) Miw(60px) Miw(80px)--pnclg fi-row:h_Bgc($hoverBgColor)\" data-reactid=\"113\">35.12</td><td class=\"Ta(c) Pstart(10px) Miw(60px) Miw(80px)--pnclg fi-row:h_Bgc($hoverBgColor) Bgc($lv1BgColor)\" data-reactid=\"114\">28.52</td><td class=\"Ta(c) Pstart(10px) Miw(60px) Miw(80px)--pnclg fi-row:h_Bgc($hoverBgColor)\" data-reactid=\"115\">20.02</td><td class=\"Ta(c) Pstart(10px) Miw(60px) Miw(80px)--pnclg fi-row:h_Bgc($hoverBgColor) Bgc($lv1BgColor)\" data-reactid=\"116\">24.70</td><td class=\"Ta(c) Pstart(10px) Miw(60px) Miw(80px)--pnclg fi-row:h_Bgc($hoverBgColor) Pend(10px)\" data-reactid=\"117\">19.01</td></tr><tr class=\"Bxz(bb) H(36px) BdB Bdbc($seperatorColor) fi-row Bgc($hoverBgColor):h\" data-reactid=\"118\"><td class=\"Pos(st) Start(0) Bgc($lv2BgColor) fi-row:h_Bgc($hoverBgColor) Pend(10px)\" data-reactid=\"119\"><span data-reactid=\"120\">Forward P/E</span><!-- react-text: 121 --> <!-- /react-text --><!-- react-text: 122 --><!-- /react-text --><sup aria-label=\"Data provided by Thomson Reuters.\" data-reactid=\"123\">1</sup><div class=\"W(3px) Pos(a) Start(100%) T(0) H(100%) Bg($pfColumnFakeShadowGradient) Pe(n) Pend(5px)\" data-reactid=\"124\"></div></td><td class=\"Ta(c) Pstart(10px) Miw(60px) Miw(80px)--pnclg Bgc($lv1BgColor) fi-row:h_Bgc($hoverBgColor)\" data-reactid=\"125\">30.03</td><td class=\"Ta(c) Pstart(10px) Miw(60px) Miw(80px)--pnclg fi-row:h_Bgc($hoverBgColor)\" data-reactid=\"126\">30.12</td><td class=\"Ta(c) Pstart(10px) Miw(60px) Miw(80px)--pnclg fi-row:h_Bgc($hoverBgColor) Bgc($lv1BgColor)\" data-reactid=\"127\">24.33</td><td class=\"Ta(c) Pstart(10px) Miw(60px) Miw(80px)--pnclg fi-row:h_Bgc($hoverBgColor)\" data-reactid=\"128\">19.65</td><td class=\"Ta(c) Pstart(10px) Miw(60px) Miw(80px)--pnclg fi-row:h_Bgc($hoverBgColor) Bgc($lv1BgColor)\" data-reactid=\"129\">22.17</td><td class=\"Ta(c) Pstart(10px) Miw(60px) Miw(80px)--pnclg fi-row:h_Bgc($hoverBgColor) Pend(10px)\" data-reactid=\"130\">17.27</td></tr><tr class=\"Bxz(bb) H(36px) BdB Bdbc($seperatorColor) fi-row Bgc($hoverBgColor):h\" data-reactid=\"131\"><td class=\"Pos(st) Start(0) Bgc($lv2BgColor) fi-row:h_Bgc($hoverBgColor) Pend(10px)\" data-reactid=\"132\"><span data-reactid=\"133\">PEG Ratio (5 yr expected)</span><!-- react-text: 134 --> <!-- /react-text --><!-- react-text: 135 --><!-- /react-text --><sup aria-label=\"Data provided by Thomson Reuters.\" data-reactid=\"136\">1</sup><div class=\"W(3px) Pos(a) Start(100%) T(0) H(100%) Bg($pfColumnFakeShadowGradient) Pe(n) Pend(5px)\" data-reactid=\"137\"></div></td><td class=\"Ta(c) Pstart(10px) Miw(60px) Miw(80px)--pnclg Bgc($lv1BgColor) fi-row:h_Bgc($hoverBgColor)\" data-reactid=\"138\">2.99</td><td class=\"Ta(c) Pstart(10px) Miw(60px) Miw(80px)--pnclg fi-row:h_Bgc($hoverBgColor)\" data-reactid=\"139\">2.86</td><td class=\"Ta(c) Pstart(10px) Miw(60px) Miw(80px)--pnclg fi-row:h_Bgc($hoverBgColor) Bgc($lv1BgColor)\" data-reactid=\"140\">2.02</td><td class=\"Ta(c) Pstart(10px) Miw(60px) Miw(80px)--pnclg fi-row:h_Bgc($hoverBgColor)\" data-reactid=\"141\">1.58</td><td class=\"Ta(c) Pstart(10px) Miw(60px) Miw(80px)--pnclg fi-row:h_Bgc($hoverBgColor) Bgc($lv1BgColor)\" data-reactid=\"142\">2.03</td><td class=\"Ta(c) Pstart(10px) Miw(60px) Miw(80px)--pnclg fi-row:h_Bgc($hoverBgColor) Pend(10px)\" data-reactid=\"143\">2.04</td></tr><tr class=\"Bxz(bb) H(36px) BdB Bdbc($seperatorColor) fi-row Bgc($hoverBgColor):h\" data-reactid=\"144\"><td class=\"Pos(st) Start(0) Bgc($lv2BgColor) fi-row:h_Bgc($hoverBgColor) Pend(10px)\" data-reactid=\"145\"><span data-reactid=\"146\">Price/Sales</span><!-- react-text: 147 --> <!-- /react-text --><!-- react-text: 148 -->(ttm)<!-- /react-text --><sup aria-label=\"\" data-reactid=\"149\"></sup><div class=\"W(3px) Pos(a) Start(100%) T(0) H(100%) Bg($pfColumnFakeShadowGradient) Pe(n) Pend(5px)\" data-reactid=\"150\"></div></td><td class=\"Ta(c) Pstart(10px) Miw(60px) Miw(80px)--pnclg Bgc($lv1BgColor) fi-row:h_Bgc($hoverBgColor)\" data-reactid=\"151\">7.61</td><td class=\"Ta(c) Pstart(10px) Miw(60px) Miw(80px)--pnclg fi-row:h_Bgc($hoverBgColor)\" data-reactid=\"152\">7.50</td><td class=\"Ta(c) Pstart(10px) Miw(60px) Miw(80px)--pnclg fi-row:h_Bgc($hoverBgColor) Bgc($lv1BgColor)\" data-reactid=\"153\">6.12</td><td class=\"Ta(c) Pstart(10px) Miw(60px) Miw(80px)--pnclg fi-row:h_Bgc($hoverBgColor)\" data-reactid=\"154\">4.34</td><td class=\"Ta(c) Pstart(10px) Miw(60px) Miw(80px)--pnclg fi-row:h_Bgc($hoverBgColor) Bgc($lv1BgColor)\" data-reactid=\"155\">5.25</td><td class=\"Ta(c) Pstart(10px) Miw(60px) Miw(80px)--pnclg fi-row:h_Bgc($hoverBgColor) Pend(10px)\" data-reactid=\"156\">4.09</td></tr><tr class=\"Bxz(bb) H(36px) BdB Bdbc($seperatorColor) fi-row Bgc($hoverBgColor):h\" data-reactid=\"157\"><td class=\"Pos(st) Start(0) Bgc($lv2BgColor) fi-row:h_Bgc($hoverBgColor) Pend(10px)\" data-reactid=\"158\"><span data-reactid=\"159\">Price/Book</span><!-- react-text: 160 --> <!-- /react-text --><!-- react-text: 161 -->(mrq)<!-- /react-text --><sup aria-label=\"\" data-reactid=\"162\"></sup><div class=\"W(3px) Pos(a) Start(100%) T(0) H(100%) Bg($pfColumnFakeShadowGradient) Pe(n) Pend(5px)\" data-reactid=\"163\"></div></td><td class=\"Ta(c) Pstart(10px) Miw(60px) Miw(80px)--pnclg Bgc($lv1BgColor) fi-row:h_Bgc($hoverBgColor)\" data-reactid=\"164\">31.03</td><td class=\"Ta(c) Pstart(10px) Miw(60px) Miw(80px)--pnclg fi-row:h_Bgc($hoverBgColor)\" data-reactid=\"165\">27.20</td><td class=\"Ta(c) Pstart(10px) Miw(60px) Miw(80px)--pnclg fi-row:h_Bgc($hoverBgColor) Bgc($lv1BgColor)\" data-reactid=\"166\">19.93</td><td class=\"Ta(c) Pstart(10px) Miw(60px) Miw(80px)--pnclg fi-row:h_Bgc($hoverBgColor)\" data-reactid=\"167\">12.28</td><td class=\"Ta(c) Pstart(10px) Miw(60px) Miw(80px)--pnclg fi-row:h_Bgc($hoverBgColor) Bgc($lv1BgColor)\" data-reactid=\"168\">14.23</td><td class=\"Ta(c) Pstart(10px) Miw(60px) Miw(80px)--pnclg fi-row:h_Bgc($hoverBgColor) Pend(10px)\" data-reactid=\"169\">10.32</td></tr><tr class=\"Bxz(bb) H(36px) BdB Bdbc($seperatorColor) fi-row Bgc($hoverBgColor):h\" data-reactid=\"170\"><td class=\"Pos(st) Start(0) Bgc($lv2BgColor) fi-row:h_Bgc($hoverBgColor) Pend(10px)\" data-reactid=\"171\"><span data-reactid=\"172\">Enterprise Value/Revenue</span><!-- react-text: 173 --> <!-- /react-text --><!-- react-text: 174 --><!-- /react-text --><sup aria-label=\"Data derived from multiple sources or calculated by Yahoo Finance.\" data-reactid=\"175\">3</sup><div class=\"W(3px) Pos(a) Start(100%) T(0) H(100%) Bg($pfColumnFakeShadowGradient) Pe(n) Pend(5px)\" data-reactid=\"176\"></div></td><td class=\"Ta(c) Pstart(10px) Miw(60px) Miw(80px)--pnclg Bgc($lv1BgColor) fi-row:h_Bgc($hoverBgColor)\" data-reactid=\"177\">7.46</td><td class=\"Ta(c) Pstart(10px) Miw(60px) Miw(80px)--pnclg fi-row:h_Bgc($hoverBgColor)\" data-reactid=\"178\">30.69</td><td class=\"Ta(c) Pstart(10px) Miw(60px) Miw(80px)--pnclg fi-row:h_Bgc($hoverBgColor) Bgc($lv1BgColor)\" data-reactid=\"179\">26.44</td><td class=\"Ta(c) Pstart(10px) Miw(60px) Miw(80px)--pnclg fi-row:h_Bgc($hoverBgColor)\" data-reactid=\"180\">18.88</td><td class=\"Ta(c) Pstart(10px) Miw(60px) Miw(80px)--pnclg fi-row:h_Bgc($hoverBgColor) Bgc($lv1BgColor)\" data-reactid=\"181\">14.11</td><td class=\"Ta(c) Pstart(10px) Miw(60px) Miw(80px)--pnclg fi-row:h_Bgc($hoverBgColor) Pend(10px)\" data-reactid=\"182\">15.76</td></tr><tr class=\"Bxz(bb) H(36px) BdB Bdbc($seperatorColor) fi-row Bgc($hoverBgColor):h\" data-reactid=\"183\"><td class=\"Pos(st) Start(0) Bgc($lv2BgColor) fi-row:h_Bgc($hoverBgColor) Pend(10px)\" data-reactid=\"184\"><span data-reactid=\"185\">Enterprise Value/EBITDA</span><!-- react-text: 186 --> <!-- /react-text --><!-- react-text: 187 --><!-- /react-text --><sup aria-label=\"EBITDA is calculated by Capital IQ using methodology that may differ from that used by a company in its reporting.\" data-reactid=\"188\">6</sup><div class=\"W(3px) Pos(a) Start(100%) T(0) H(100%) Bg($pfColumnFakeShadowGradient) Pe(n) Pend(5px)\" data-reactid=\"189\"></div></td><td class=\"Ta(c) Pstart(10px) Miw(60px) Miw(80px)--pnclg Bgc($lv1BgColor) fi-row:h_Bgc($hoverBgColor)\" data-reactid=\"190\">25.29</td><td class=\"Ta(c) Pstart(10px) Miw(60px) Miw(80px)--pnclg fi-row:h_Bgc($hoverBgColor)\" data-reactid=\"191\">108.89</td><td class=\"Ta(c) Pstart(10px) Miw(60px) Miw(80px)--pnclg fi-row:h_Bgc($hoverBgColor) Bgc($lv1BgColor)\" data-reactid=\"192\">95.15</td><td class=\"Ta(c) Pstart(10px) Miw(60px) Miw(80px)--pnclg fi-row:h_Bgc($hoverBgColor)\" data-reactid=\"193\">66.00</td><td class=\"Ta(c) Pstart(10px) Miw(60px) Miw(80px)--pnclg fi-row:h_Bgc($hoverBgColor) Bgc($lv1BgColor)\" data-reactid=\"194\">43.87</td><td class=\"Ta(c) Pstart(10px) Miw(60px) Miw(80px)--pnclg fi-row:h_Bgc($hoverBgColor) Pend(10px)\" data-reactid=\"195\">50.16</td></tr></tbody></table>"
      ]
     },
     "execution_count": 66,
     "metadata": {},
     "output_type": "execute_result"
    }
   ],
   "source": [
    "soup=BeautifulSoup(page1.content,'lxml')\n",
    "tables1[0]"
   ]
  },
  {
   "cell_type": "code",
   "execution_count": 65,
   "metadata": {
    "scrolled": true
   },
   "outputs": [
    {
     "data": {
      "text/plain": [
       "Index(['Unnamed: 0', 'As of Date: 11/14/2020Current', '9/30/2020', '6/30/2020',\n",
       "       '3/31/2020', '12/31/2019', '9/30/2019'],\n",
       "      dtype='object')"
      ]
     },
     "execution_count": 65,
     "metadata": {},
     "output_type": "execute_result"
    }
   ],
   "source": [
    "# We need tables from the soup.\n",
    "# Use find_all function that looks at table tags\n",
    "tables1=soup.find_all('table')\n",
    "tables1\n",
    "len(tables1)\n",
    "t2=pd.read_html(str(tables1[0]))[0]\n",
    "type(t2)\n",
    "t2.columns"
   ]
  },
  {
   "cell_type": "code",
   "execution_count": 70,
   "metadata": {},
   "outputs": [
    {
     "data": {
      "text/plain": [
       "0\n",
       "Market Cap (intraday) 5                                  2.03T\n",
       "Enterprise Value 3                                       2.05T\n",
       "Trailing P/E                                             36.36\n",
       "Forward P/E 1                                            30.03\n",
       "PEG Ratio (5 yr expected) 1                               2.99\n",
       "Price/Sales (ttm)                                         7.61\n",
       "Price/Book (mrq)                                         31.03\n",
       "Enterprise Value/Revenue 3                                7.46\n",
       "Enterprise Value/EBITDA 6                                25.29\n",
       "Beta (5Y Monthly)                                         1.35\n",
       "52-Week Change 3                                        78.60%\n",
       "S&P500 52-Week Change 3                                 14.83%\n",
       "52 Week High 3                                          137.98\n",
       "52 Week Low 3                                            53.15\n",
       "50-Day Moving Average 3                                 116.12\n",
       "200-Day Moving Average 3                                101.94\n",
       "Avg Vol (3 month) 3                                    158.01M\n",
       "Avg Vol (10 day) 3                                     121.08M\n",
       "Shares Outstanding 5                                     17.1B\n",
       "Float                                                   16.98B\n",
       "% Held by Insiders 1                                     0.07%\n",
       "% Held by Institutions 1                                60.63%\n",
       "Shares Short (Oct 29, 2020) 4                           80.53M\n",
       "Short Ratio (Oct 29, 2020) 4                              0.61\n",
       "Short % of Float (Oct 29, 2020) 4                        0.47%\n",
       "Short % of Shares Outstanding (Oct 29, 2020) 4           0.47%\n",
       "Shares Short (prior month Sep 29, 2020) 4               88.09M\n",
       "Forward Annual Dividend Rate 4                            0.82\n",
       "Forward Annual Dividend Yield 4                          0.69%\n",
       "Trailing Annual Dividend Rate 3                           0.80\n",
       "Trailing Annual Dividend Yield 3                         0.67%\n",
       "5 Year Average Dividend Yield 4                           1.50\n",
       "Payout Ratio 4                                          24.24%\n",
       "Dividend Date 3                                   Nov 11, 2020\n",
       "Ex-Dividend Date 4                                Nov 05, 2020\n",
       "Last Split Factor 2                                        4:1\n",
       "Last Split Date 3                                 Aug 30, 2020\n",
       "Fiscal Year Ends                                  Sep 25, 2020\n",
       "Most Recent Quarter (mrq)                         Sep 25, 2020\n",
       "Profit Margin                                           20.91%\n",
       "Operating Margin (ttm)                                  24.15%\n",
       "Return on Assets (ttm)                                  12.51%\n",
       "Return on Equity (ttm)                                  73.69%\n",
       "Revenue (ttm)                                          274.52B\n",
       "Revenue Per Share (ttm)                                  15.82\n",
       "Quarterly Revenue Growth (yoy)                           1.00%\n",
       "Gross Profit (ttm)                                     104.96B\n",
       "EBITDA                                                  77.34B\n",
       "Net Income Avi to Common (ttm)                          57.41B\n",
       "Diluted EPS (ttm)                                         3.28\n",
       "Quarterly Earnings Growth (yoy)                         -7.40%\n",
       "Total Cash (mrq)                                        90.94B\n",
       "Total Cash Per Share (mrq)                                5.35\n",
       "Total Debt (mrq)                                       122.28B\n",
       "Total Debt/Equity (mrq)                                 187.14\n",
       "Current Ratio (mrq)                                       1.36\n",
       "Book Value Per Share (mrq)                                3.85\n",
       "Operating Cash Flow (ttm)                               80.67B\n",
       "Levered Free Cash Flow (ttm)                            60.39B\n",
       "Name: 1, dtype: object"
      ]
     },
     "execution_count": 70,
     "metadata": {},
     "output_type": "execute_result"
    }
   ],
   "source": [
    "page=requests.get(\"https://finance.yahoo.com/quote/AAPL/key-statistics?p=AAPL\")\n",
    "soup=BeautifulSoup(page.content,'lxml')\n",
    "tables=soup.find_all('table')\n",
    "df_tables=pd.DataFrame()\n",
    "for table in tables:\n",
    "    df1=pd.read_html(str(table))[0]\n",
    "    df1.columns=range(0,len(df1.columns))\n",
    "    df_tables=df_tables.append(df1)\n",
    "df_tables_1=df_tables.copy()\n",
    "df_tables_1.index=df_tables_1[0]\n",
    "df_tables_1[1] "
   ]
  },
  {
   "cell_type": "code",
   "execution_count": 58,
   "metadata": {},
   "outputs": [
    {
     "data": {
      "text/plain": [
       "[                    Unnamed: 0 As of Date: 11/14/2020Current 9/30/2020  \\\n",
       " 0      Market Cap (intraday) 5                         2.03T     1.97T   \n",
       " 1           Enterprise Value 3                         2.05T     1.99T   \n",
       " 2                 Trailing P/E                         36.36     35.12   \n",
       " 3                Forward P/E 1                         30.03     30.12   \n",
       " 4  PEG Ratio (5 yr expected) 1                          2.99      2.86   \n",
       " 5            Price/Sales (ttm)                          7.61      7.50   \n",
       " 6             Price/Book (mrq)                         31.03     27.20   \n",
       " 7   Enterprise Value/Revenue 3                          7.46     30.69   \n",
       " 8    Enterprise Value/EBITDA 6                         25.29    108.89   \n",
       " \n",
       "   6/30/2020 3/31/2020 12/31/2019 9/30/2019  \n",
       " 0     1.56T     1.10T      1.29T   995.15B  \n",
       " 1     1.58T     1.10T      1.30T     1.01T  \n",
       " 2     28.52     20.02      24.70     19.01  \n",
       " 3     24.33     19.65      22.17     17.27  \n",
       " 4      2.02      1.58       2.03      2.04  \n",
       " 5      6.12      4.34       5.25      4.09  \n",
       " 6     19.93     12.28      14.23     10.32  \n",
       " 7     26.44     18.88      14.11     15.76  \n",
       " 8     95.15     66.00      43.87     50.16  ,\n",
       "                           0       1\n",
       " 0         Beta (5Y Monthly)    1.35\n",
       " 1          52-Week Change 3  78.60%\n",
       " 2   S&P500 52-Week Change 3  14.83%\n",
       " 3            52 Week High 3  137.98\n",
       " 4             52 Week Low 3   53.15\n",
       " 5   50-Day Moving Average 3  116.12\n",
       " 6  200-Day Moving Average 3  101.94,\n",
       "                                                  0        1\n",
       " 0                              Avg Vol (3 month) 3  158.01M\n",
       " 1                               Avg Vol (10 day) 3  121.08M\n",
       " 2                             Shares Outstanding 5    17.1B\n",
       " 3                                            Float   16.98B\n",
       " 4                             % Held by Insiders 1    0.07%\n",
       " 5                         % Held by Institutions 1   60.63%\n",
       " 6                    Shares Short (Oct 29, 2020) 4   80.53M\n",
       " 7                     Short Ratio (Oct 29, 2020) 4     0.61\n",
       " 8                Short % of Float (Oct 29, 2020) 4    0.47%\n",
       " 9   Short % of Shares Outstanding (Oct 29, 2020) 4    0.47%\n",
       " 10       Shares Short (prior month Sep 29, 2020) 4   88.09M,\n",
       "                                   0             1\n",
       " 0    Forward Annual Dividend Rate 4          0.82\n",
       " 1   Forward Annual Dividend Yield 4         0.69%\n",
       " 2   Trailing Annual Dividend Rate 3          0.80\n",
       " 3  Trailing Annual Dividend Yield 3         0.67%\n",
       " 4   5 Year Average Dividend Yield 4          1.50\n",
       " 5                    Payout Ratio 4        24.24%\n",
       " 6                   Dividend Date 3  Nov 11, 2020\n",
       " 7                Ex-Dividend Date 4  Nov 05, 2020\n",
       " 8               Last Split Factor 2           4:1\n",
       " 9                 Last Split Date 3  Aug 30, 2020,\n",
       "                            0             1\n",
       " 0           Fiscal Year Ends  Sep 25, 2020\n",
       " 1  Most Recent Quarter (mrq)  Sep 25, 2020,\n",
       "                         0       1\n",
       " 0           Profit Margin  20.91%\n",
       " 1  Operating Margin (ttm)  24.15%,\n",
       "                         0       1\n",
       " 0  Return on Assets (ttm)  12.51%\n",
       " 1  Return on Equity (ttm)  73.69%,\n",
       "                                  0        1\n",
       " 0                    Revenue (ttm)  274.52B\n",
       " 1          Revenue Per Share (ttm)    15.82\n",
       " 2   Quarterly Revenue Growth (yoy)    1.00%\n",
       " 3               Gross Profit (ttm)  104.96B\n",
       " 4                           EBITDA   77.34B\n",
       " 5   Net Income Avi to Common (ttm)   57.41B\n",
       " 6                Diluted EPS (ttm)     3.28\n",
       " 7  Quarterly Earnings Growth (yoy)   -7.40%,\n",
       "                             0        1\n",
       " 0            Total Cash (mrq)   90.94B\n",
       " 1  Total Cash Per Share (mrq)     5.35\n",
       " 2            Total Debt (mrq)  122.28B\n",
       " 3     Total Debt/Equity (mrq)   187.14\n",
       " 4         Current Ratio (mrq)     1.36\n",
       " 5  Book Value Per Share (mrq)     3.85,\n",
       "                               0       1\n",
       " 0     Operating Cash Flow (ttm)  80.67B\n",
       " 1  Levered Free Cash Flow (ttm)  60.39B]"
      ]
     },
     "execution_count": 58,
     "metadata": {},
     "output_type": "execute_result"
    }
   ],
   "source": [
    "t=[]\n",
    "for table in tables1:\n",
    "    t.append(pd.read_html(str(table))[0])\n",
    "\n",
    "t"
   ]
  },
  {
   "cell_type": "code",
   "execution_count": 15,
   "metadata": {},
   "outputs": [],
   "source": [
    "def get_data_from_yahoo(ticker):\n",
    "    page=requests.get(\"https://finance.yahoo.com/quote/{0}?p={0}&.tsrc=fin-srch\".format(ticker))\n",
    "    soup=BeautifulSoup(page.content,'lxml')\n",
    "    tables=soup.find_all('table')\n",
    "    df_tables=pd.DataFrame()\n",
    "    for table in tables:\n",
    "        df1=pd.read_html(str(table))[0]\n",
    "        df1.columns=range(0,len(df1.columns))\n",
    "        df_tables=df_tables.append(df1)\n",
    "    df_tables_1=df_tables.copy()\n",
    "    df_tables_1.index=df_tables_1[0]\n",
    "    return df_tables_1[1]    "
   ]
  },
  {
   "cell_type": "code",
   "execution_count": null,
   "metadata": {},
   "outputs": [],
   "source": [
    "# write a for loop\n",
    "df_tables=pd.DataFrame()\n",
    "for table in tables1:\n",
    "# The first element of of each table object is a dataframe\n",
    "    df_tables=df_tables.append(pd.read_html(str(table))[0])\n",
    "df_tables_1=df_tables.copy()\n",
    "# Use the first column as index\n",
    "df_tables_1.index=df_tables_1[0]\n",
    "# Extract the second column as it containst the values\n",
    "df_tables_1[1]"
   ]
  },
  {
   "cell_type": "code",
   "execution_count": 45,
   "metadata": {},
   "outputs": [
    {
     "data": {
      "text/plain": [
       "10"
      ]
     },
     "execution_count": 45,
     "metadata": {},
     "output_type": "execute_result"
    }
   ],
   "source": [
    "# There are two tables\n",
    "len(tables1)"
   ]
  },
  {
   "cell_type": "code",
   "execution_count": 47,
   "metadata": {},
   "outputs": [
    {
     "data": {
      "text/plain": [
       "[                0                1\n",
       " 0  Previous Close           119.21\n",
       " 1            Open           119.44\n",
       " 2             Bid    119.12 x 1800\n",
       " 3             Ask     119.15 x 900\n",
       " 4     Day's Range  117.87 - 119.67\n",
       " 5   52 Week Range   53.15 - 137.98\n",
       " 6          Volume         78857203\n",
       " 7     Avg. Volume        158008226]"
      ]
     },
     "execution_count": 47,
     "metadata": {},
     "output_type": "execute_result"
    }
   ],
   "source": [
    "t1=pd.read_html(str(tables[0]))\n",
    "t1"
   ]
  },
  {
   "cell_type": "code",
   "execution_count": 14,
   "metadata": {},
   "outputs": [
    {
     "data": {
      "text/plain": [
       "'https://finance.yahoo.com/quote/AAPL?p=AAPL&.tsrc=fin-srch'"
      ]
     },
     "execution_count": 14,
     "metadata": {},
     "output_type": "execute_result"
    }
   ],
   "source": [
    "# Use format function\n",
    "# We can send a string \n",
    "# The string will be placed in the place of {}\n",
    "\"https://finance.yahoo.com/quote/{0}?p={0}&.tsrc=fin-srch\".format(\"AAPL\")"
   ]
  },
  {
   "cell_type": "code",
   "execution_count": 24,
   "metadata": {},
   "outputs": [
    {
     "data": {
      "text/plain": [
       "0\n",
       "Previous Close                          1740.39\n",
       "Open                                    1750.00\n",
       "Bid                              1,740.01 x 900\n",
       "Ask                              1,754.54 x 800\n",
       "Day's Range                 1,747.36 - 1,764.05\n",
       "52 Week Range               1,013.54 - 1,818.06\n",
       "Volume                                  1263966\n",
       "Avg. Volume                             1891973\n",
       "Market Cap                               1.185T\n",
       "Beta (5Y Monthly)                          1.02\n",
       "PE Ratio (TTM)                            33.87\n",
       "EPS (TTM)                                 51.75\n",
       "Earnings Date                               NaN\n",
       "Forward Dividend & Yield              N/A (N/A)\n",
       "Ex-Dividend Date                            NaN\n",
       "1y Target Est                           1839.17\n",
       "Name: 1, dtype: object"
      ]
     },
     "execution_count": 24,
     "metadata": {},
     "output_type": "execute_result"
    }
   ],
   "source": [
    "get_data_from_yahoo('GOOG')"
   ]
  },
  {
   "cell_type": "code",
   "execution_count": 25,
   "metadata": {},
   "outputs": [],
   "source": [
    "# Get news report\n",
    "page=requests.get(\"https://finance.yahoo.com/news/nikola-beats-third-quarter-forecast-212439967.html\")\n",
    "soup=BeautifulSoup(page.content,'lxml')\n",
    "title=soup.find_all('title')"
   ]
  },
  {
   "cell_type": "markdown",
   "metadata": {},
   "source": [
    "# Task 2\n",
    "- Extract the news article content alone from this webpage"
   ]
  },
  {
   "cell_type": "code",
   "execution_count": null,
   "metadata": {},
   "outputs": [],
   "source": []
  }
 ],
 "metadata": {
  "kernelspec": {
   "display_name": "Python 3",
   "language": "python",
   "name": "python3"
  },
  "language_info": {
   "codemirror_mode": {
    "name": "ipython",
    "version": 3
   },
   "file_extension": ".py",
   "mimetype": "text/x-python",
   "name": "python",
   "nbconvert_exporter": "python",
   "pygments_lexer": "ipython3",
   "version": "3.7.4"
  }
 },
 "nbformat": 4,
 "nbformat_minor": 4
}
