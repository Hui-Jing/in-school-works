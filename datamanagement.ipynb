{
 "cells": [
  {
   "cell_type": "markdown",
   "metadata": {},
   "source": [
    "# Final Project Group 8"
   ]
  },
  {
   "cell_type": "markdown",
   "metadata": {},
   "source": [
    "#### After a brief discussion, our group decided to select shopify app store data as our dataset. It contains the information about shopify app store apps (created by developers) and reviews (published by shops). It also reflects how online shop owners interact with apps and what features they need as well. In other words, the dataset can be used in multiple ways. From monitoring of the customer satisfaction index of existing apps to niche analysis before starting a new app.\n",
    "#### For this dataset, We want to investigate if it has a large user group, what is the most frequently used apps and how price or other factors affect the users' evaluation of their experience with those apps. It’s our expectation to wrangle the data and document the dimension modeling to explore the more valuable insights based on this dataset. "
   ]
  },
  {
   "cell_type": "markdown",
   "metadata": {},
   "source": [
    "#### Memeber Linyu Wang, Hui Jing, Kai Ling and Xiang Fan participate equally in the project"
   ]
  },
  {
   "cell_type": "code",
   "execution_count": 1,
   "metadata": {},
   "outputs": [],
   "source": [
    "## The ipython-sql library is loaded using the %load_ext iPython extension syntax and is pointed to the connection object \n",
    "%load_ext sql"
   ]
  },
  {
   "cell_type": "code",
   "execution_count": 2,
   "metadata": {},
   "outputs": [],
   "source": [
    "## drop database in case it is already created. Ignore error \"dbase_name does not exist\"\n",
    "!dropdb -U student FinalGP"
   ]
  },
  {
   "cell_type": "code",
   "execution_count": 3,
   "metadata": {},
   "outputs": [],
   "source": [
    "## create a new database for user student and name it FinalGP\n",
    "!createdb -U student FinalGP"
   ]
  },
  {
   "cell_type": "code",
   "execution_count": 4,
   "metadata": {},
   "outputs": [
    {
     "data": {
      "text/plain": [
       "'Connected: student@FinalGP'"
      ]
     },
     "execution_count": 4,
     "metadata": {},
     "output_type": "execute_result"
    }
   ],
   "source": [
    "## connect to the database. \n",
    "%sql postgresql://student@/FinalGP"
   ]
  },
  {
   "cell_type": "code",
   "execution_count": 5,
   "metadata": {},
   "outputs": [
    {
     "name": "stdout",
     "output_type": "stream",
     "text": [
      "--2019-12-10 17:17:33--  https://finalgp-istm6212.s3.amazonaws.com/shopify.zip\n",
      "Resolving finalgp-istm6212.s3.amazonaws.com (finalgp-istm6212.s3.amazonaws.com)... 52.216.89.67\n",
      "Connecting to finalgp-istm6212.s3.amazonaws.com (finalgp-istm6212.s3.amazonaws.com)|52.216.89.67|:443... connected.\n",
      "HTTP request sent, awaiting response... 200 OK\n",
      "Length: 5699368 (5.4M) [application/zip]\n",
      "Saving to: ‘shopify.zip.4’\n",
      "\n",
      "shopify.zip.4       100%[===================>]   5.43M  --.-KB/s    in 0.1s    \n",
      "\n",
      "2019-12-10 17:17:33 (46.3 MB/s) - ‘shopify.zip.4’ saved [5699368/5699368]\n",
      "\n"
     ]
    }
   ],
   "source": [
    "## upload the our shopify dataset and rename it to shopify_app.zip\n",
    "!wget \"https://finalgp-istm6212.s3.amazonaws.com/shopify.zip\""
   ]
  },
  {
   "cell_type": "code",
   "execution_count": 6,
   "metadata": {},
   "outputs": [
    {
     "name": "stdout",
     "output_type": "stream",
     "text": [
      "Archive:  shopify.zip\n",
      "  inflating: reviews.csv             \n",
      "  inflating: ._reviews.csv           \n",
      "  inflating: .DS_Store               \n",
      "  inflating: ._.DS_Store             \n",
      "  inflating: pricing_plans.csv       \n",
      "  inflating: ._pricing_plans.csv     \n",
      "  inflating: Time.csv                \n",
      "  inflating: ._Time.csv              \n",
      "  inflating: apps.csv                \n",
      "  inflating: ._apps.csv              \n"
     ]
    }
   ],
   "source": [
    "## unzip the trips file for 4 quarters\n",
    "!unzip -jo shopify.zip"
   ]
  },
  {
   "cell_type": "markdown",
   "metadata": {},
   "source": [
    "## Data Preparation: Check the original rows in table app_categories,apps,categories,pricing_plans,reviews,Time file"
   ]
  },
  {
   "cell_type": "markdown",
   "metadata": {},
   "source": [
    "#### Prepare spark"
   ]
  },
  {
   "cell_type": "code",
   "execution_count": 7,
   "metadata": {},
   "outputs": [],
   "source": [
    "import findspark"
   ]
  },
  {
   "cell_type": "code",
   "execution_count": 8,
   "metadata": {},
   "outputs": [],
   "source": [
    "findspark.init()"
   ]
  },
  {
   "cell_type": "code",
   "execution_count": 9,
   "metadata": {},
   "outputs": [],
   "source": [
    "from pyspark import SparkContext"
   ]
  },
  {
   "cell_type": "code",
   "execution_count": 10,
   "metadata": {},
   "outputs": [],
   "source": [
    "spark = SparkContext(appName='FinalGP')"
   ]
  },
  {
   "cell_type": "code",
   "execution_count": 11,
   "metadata": {},
   "outputs": [
    {
     "data": {
      "text/html": [
       "\n",
       "        <div>\n",
       "            <p><b>SparkContext</b></p>\n",
       "\n",
       "            <p><a href=\"http://ip-172-31-83-234:4040\">Spark UI</a></p>\n",
       "\n",
       "            <dl>\n",
       "              <dt>Version</dt>\n",
       "                <dd><code>v2.3.1</code></dd>\n",
       "              <dt>Master</dt>\n",
       "                <dd><code>local[*]</code></dd>\n",
       "              <dt>AppName</dt>\n",
       "                <dd><code>FinalGP</code></dd>\n",
       "            </dl>\n",
       "        </div>\n",
       "        "
      ],
      "text/plain": [
       "<SparkContext master=local[*] appName=FinalGP>"
      ]
     },
     "execution_count": 11,
     "metadata": {},
     "output_type": "execute_result"
    }
   ],
   "source": [
    "spark"
   ]
  },
  {
   "cell_type": "markdown",
   "metadata": {},
   "source": [
    "### apps file has 2831 records"
   ]
  },
  {
   "cell_type": "code",
   "execution_count": 12,
   "metadata": {},
   "outputs": [],
   "source": [
    "apps = spark.textFile('apps.csv')"
   ]
  },
  {
   "cell_type": "code",
   "execution_count": 13,
   "metadata": {},
   "outputs": [
    {
     "data": {
      "text/plain": [
       "2832"
      ]
     },
     "execution_count": 13,
     "metadata": {},
     "output_type": "execute_result"
    }
   ],
   "source": [
    "apps.count()"
   ]
  },
  {
   "cell_type": "markdown",
   "metadata": {},
   "source": [
    "### pricing_plan has 4928 records"
   ]
  },
  {
   "cell_type": "code",
   "execution_count": 14,
   "metadata": {},
   "outputs": [],
   "source": [
    "pricing_plans = spark.textFile('pricing_plans.csv')"
   ]
  },
  {
   "cell_type": "code",
   "execution_count": 15,
   "metadata": {},
   "outputs": [
    {
     "data": {
      "text/plain": [
       "4929"
      ]
     },
     "execution_count": 15,
     "metadata": {},
     "output_type": "execute_result"
    }
   ],
   "source": [
    "pricing_plans.count()"
   ]
  },
  {
   "cell_type": "markdown",
   "metadata": {},
   "source": [
    "### reviews has 292029 records"
   ]
  },
  {
   "cell_type": "code",
   "execution_count": 16,
   "metadata": {},
   "outputs": [],
   "source": [
    "reviews = spark.textFile('reviews.csv')"
   ]
  },
  {
   "cell_type": "code",
   "execution_count": 17,
   "metadata": {},
   "outputs": [
    {
     "data": {
      "text/plain": [
       "292030"
      ]
     },
     "execution_count": 17,
     "metadata": {},
     "output_type": "execute_result"
    }
   ],
   "source": [
    "reviews.count()"
   ]
  },
  {
   "cell_type": "markdown",
   "metadata": {},
   "source": [
    "### Time has 292029 records (comes from review table)"
   ]
  },
  {
   "cell_type": "code",
   "execution_count": 18,
   "metadata": {},
   "outputs": [],
   "source": [
    "Time = spark.textFile('Time.csv')"
   ]
  },
  {
   "cell_type": "code",
   "execution_count": 19,
   "metadata": {},
   "outputs": [
    {
     "data": {
      "text/plain": [
       "292030"
      ]
     },
     "execution_count": 19,
     "metadata": {},
     "output_type": "execute_result"
    }
   ],
   "source": [
    "Time.count()"
   ]
  },
  {
   "cell_type": "markdown",
   "metadata": {},
   "source": [
    "## Here is the schema"
   ]
  },
  {
   "cell_type": "markdown",
   "metadata": {},
   "source": [
    "Let's have a quick look of original datasets"
   ]
  },
  {
   "cell_type": "code",
   "execution_count": 20,
   "metadata": {},
   "outputs": [],
   "source": [
    "from IPython.display import Image"
   ]
  },
  {
   "cell_type": "code",
   "execution_count": 21,
   "metadata": {},
   "outputs": [
    {
     "data": {
      "text/html": [
       "<img src=\"https://finalgp-istm6212.s3.amazonaws.com/OriginalData.jpeg\"/>"
      ],
      "text/plain": [
       "<IPython.core.display.Image object>"
      ]
     },
     "execution_count": 21,
     "metadata": {},
     "output_type": "execute_result"
    }
   ],
   "source": [
    "Image(url=\"https://finalgp-istm6212.s3.amazonaws.com/OriginalData.jpeg\")"
   ]
  },
  {
   "cell_type": "markdown",
   "metadata": {},
   "source": [
    "Here's the Wrangled Data we have"
   ]
  },
  {
   "cell_type": "code",
   "execution_count": 22,
   "metadata": {},
   "outputs": [
    {
     "data": {
      "text/html": [
       "<img src=\"https://finalgp-istm6212.s3.amazonaws.com/WrangledData.jpeg\"/>"
      ],
      "text/plain": [
       "<IPython.core.display.Image object>"
      ]
     },
     "execution_count": 22,
     "metadata": {},
     "output_type": "execute_result"
    }
   ],
   "source": [
    "Image(url=\"https://finalgp-istm6212.s3.amazonaws.com/WrangledData.jpeg\")"
   ]
  },
  {
   "cell_type": "markdown",
   "metadata": {},
   "source": [
    "Here's the dimensional Table we create"
   ]
  },
  {
   "cell_type": "code",
   "execution_count": 23,
   "metadata": {},
   "outputs": [
    {
     "data": {
      "text/html": [
       "<img src=\"https://finalgp-istm6212.s3.amazonaws.com/DimensionalTable.jpeg\"/>"
      ],
      "text/plain": [
       "<IPython.core.display.Image object>"
      ]
     },
     "execution_count": 23,
     "metadata": {},
     "output_type": "execute_result"
    }
   ],
   "source": [
    "Image(url=\"https://finalgp-istm6212.s3.amazonaws.com/DimensionalTable.jpeg\")"
   ]
  },
  {
   "cell_type": "markdown",
   "metadata": {},
   "source": [
    "## Prepare dimensional table for analysis"
   ]
  },
  {
   "cell_type": "markdown",
   "metadata": {},
   "source": [
    "## Goal 1: App dimension table"
   ]
  },
  {
   "cell_type": "markdown",
   "metadata": {},
   "source": [
    "### 1. Create app table"
   ]
  },
  {
   "cell_type": "code",
   "execution_count": 24,
   "metadata": {},
   "outputs": [
    {
     "name": "stdout",
     "output_type": "stream",
     "text": [
      " * postgresql://student@/FinalGP\n",
      "Done.\n",
      "Done.\n"
     ]
    },
    {
     "data": {
      "text/plain": [
       "[]"
      ]
     },
     "execution_count": 24,
     "metadata": {},
     "output_type": "execute_result"
    }
   ],
   "source": [
    "%%sql\n",
    "DROP TABLE IF EXISTS app;\n",
    "\n",
    "CREATE TABLE app (\n",
    "    app_id              INTEGER NOT NULL,\n",
    "    app_name            CHAR(100) NOT NULL,\n",
    "    app_rating          NUMERIC NOT NULL,\n",
    "    review_count        INTEGER NOT NULL,\n",
    "    free_trial_days     INTEGER NOT NULL\n",
    ");"
   ]
  },
  {
   "cell_type": "markdown",
   "metadata": {},
   "source": [
    "### 2. Import apps.csv data into app. \n",
    "It should have 2831 records"
   ]
  },
  {
   "cell_type": "code",
   "execution_count": 25,
   "metadata": {},
   "outputs": [
    {
     "name": "stdout",
     "output_type": "stream",
     "text": [
      " * postgresql://student@/FinalGP\n",
      "2831 rows affected.\n"
     ]
    },
    {
     "data": {
      "text/plain": [
       "[]"
      ]
     },
     "execution_count": 25,
     "metadata": {},
     "output_type": "execute_result"
    }
   ],
   "source": [
    "%%sql\n",
    "COPY app FROM '/home/ubuntu/apps.csv'\n",
    "CSV\n",
    "HEADER;"
   ]
  },
  {
   "cell_type": "markdown",
   "metadata": {},
   "source": [
    "### 3. Check 10 records in app table to see if it is consistent with what we want. \n",
    "It should have columns:app_id, app_name, app_rating, review_count, free_trial_days"
   ]
  },
  {
   "cell_type": "code",
   "execution_count": 26,
   "metadata": {},
   "outputs": [
    {
     "name": "stdout",
     "output_type": "stream",
     "text": [
      " * postgresql://student@/FinalGP\n",
      "10 rows affected.\n"
     ]
    },
    {
     "data": {
      "text/html": [
       "<table>\n",
       "    <tr>\n",
       "        <th>app_id</th>\n",
       "        <th>app_name</th>\n",
       "        <th>app_rating</th>\n",
       "        <th>review_count</th>\n",
       "        <th>free_trial_days</th>\n",
       "    </tr>\n",
       "    <tr>\n",
       "        <td>1</td>\n",
       "        <td>HitCounter                                                                                          </td>\n",
       "        <td>4.4</td>\n",
       "        <td>39</td>\n",
       "        <td>0</td>\n",
       "    </tr>\n",
       "    <tr>\n",
       "        <td>2</td>\n",
       "        <td>CategoriesUncomplicated                                                                             </td>\n",
       "        <td>5</td>\n",
       "        <td>34</td>\n",
       "        <td>10</td>\n",
       "    </tr>\n",
       "    <tr>\n",
       "        <td>3</td>\n",
       "        <td>AdsbyVarinode                                                                                       </td>\n",
       "        <td>4.9</td>\n",
       "        <td>3336</td>\n",
       "        <td>0</td>\n",
       "    </tr>\n",
       "    <tr>\n",
       "        <td>4</td>\n",
       "        <td>AllinOneMetafields                                                                                  </td>\n",
       "        <td>4.9</td>\n",
       "        <td>11</td>\n",
       "        <td>7</td>\n",
       "    </tr>\n",
       "    <tr>\n",
       "        <td>5</td>\n",
       "        <td>ProductOptionsandCustomizer                                                                         </td>\n",
       "        <td>4.3</td>\n",
       "        <td>70</td>\n",
       "        <td>10</td>\n",
       "    </tr>\n",
       "    <tr>\n",
       "        <td>6</td>\n",
       "        <td>SumAll                                                                                              </td>\n",
       "        <td>4.5</td>\n",
       "        <td>82</td>\n",
       "        <td>0</td>\n",
       "    </tr>\n",
       "    <tr>\n",
       "        <td>7</td>\n",
       "        <td>GetaQuote&amp;HidePrices                                                                                </td>\n",
       "        <td>4.8</td>\n",
       "        <td>17</td>\n",
       "        <td>7</td>\n",
       "    </tr>\n",
       "    <tr>\n",
       "        <td>8</td>\n",
       "        <td>One‑ClickCheckout                                                                                   </td>\n",
       "        <td>4.8</td>\n",
       "        <td>119</td>\n",
       "        <td>7</td>\n",
       "    </tr>\n",
       "    <tr>\n",
       "        <td>9</td>\n",
       "        <td>QuickViewandColorSwatches                                                                           </td>\n",
       "        <td>4.8</td>\n",
       "        <td>8</td>\n",
       "        <td>14</td>\n",
       "    </tr>\n",
       "    <tr>\n",
       "        <td>10</td>\n",
       "        <td>InstantBrandPage                                                                                    </td>\n",
       "        <td>4.9</td>\n",
       "        <td>10</td>\n",
       "        <td>10</td>\n",
       "    </tr>\n",
       "</table>"
      ],
      "text/plain": [
       "[(1, 'HitCounter                                                                                          ', Decimal('4.4'), 39, 0),\n",
       " (2, 'CategoriesUncomplicated                                                                             ', Decimal('5'), 34, 10),\n",
       " (3, 'AdsbyVarinode                                                                                       ', Decimal('4.9'), 3336, 0),\n",
       " (4, 'AllinOneMetafields                                                                                  ', Decimal('4.9'), 11, 7),\n",
       " (5, 'ProductOptionsandCustomizer                                                                         ', Decimal('4.3'), 70, 10),\n",
       " (6, 'SumAll                                                                                              ', Decimal('4.5'), 82, 0),\n",
       " (7, 'GetaQuote&HidePrices                                                                                ', Decimal('4.8'), 17, 7),\n",
       " (8, 'One‑ClickCheckout                                                                                   ', Decimal('4.8'), 119, 7),\n",
       " (9, 'QuickViewandColorSwatches                                                                           ', Decimal('4.8'), 8, 14),\n",
       " (10, 'InstantBrandPage                                                                                    ', Decimal('4.9'), 10, 10)]"
      ]
     },
     "execution_count": 26,
     "metadata": {},
     "output_type": "execute_result"
    }
   ],
   "source": [
    "%%sql\n",
    "SELECT * FROM app\n",
    "LIMIT 10"
   ]
  },
  {
   "cell_type": "markdown",
   "metadata": {},
   "source": [
    "## Goal 2: Price_plan dimensional table which is based on the amount of different price plans"
   ]
  },
  {
   "cell_type": "markdown",
   "metadata": {},
   "source": [
    "### 1. Create table price_plan_temp1 to maintain data from pricing_plan."
   ]
  },
  {
   "cell_type": "markdown",
   "metadata": {},
   "source": [
    "#### Step 1： Create table pricing_plan_temp1"
   ]
  },
  {
   "cell_type": "code",
   "execution_count": 27,
   "metadata": {},
   "outputs": [
    {
     "name": "stdout",
     "output_type": "stream",
     "text": [
      " * postgresql://student@/FinalGP\n",
      "Done.\n",
      "Done.\n"
     ]
    },
    {
     "data": {
      "text/plain": [
       "[]"
      ]
     },
     "execution_count": 27,
     "metadata": {},
     "output_type": "execute_result"
    }
   ],
   "source": [
    "%%sql\n",
    "DROP TABLE IF EXISTS price_plan_temp1;\n",
    "\n",
    "CREATE TABLE price_plan_temp1 (\n",
    "    price_plan_id           INTEGER Not NULL, \n",
    "    app_id                    INTEGER NOT NULL,\n",
    "    pricie_title             VARCHAR(50) NOT NULL,\n",
    "    price                     NUMERIC NOT NULL,\n",
    "    price_method            VARCHAR(30) NOT NULL   \n",
    ");"
   ]
  },
  {
   "cell_type": "markdown",
   "metadata": {},
   "source": [
    "#### Step 2: Import data from pricing_plans.csv\n",
    "It should contain 4928 records."
   ]
  },
  {
   "cell_type": "code",
   "execution_count": 28,
   "metadata": {},
   "outputs": [
    {
     "name": "stdout",
     "output_type": "stream",
     "text": [
      " * postgresql://student@/FinalGP\n",
      "4928 rows affected.\n"
     ]
    },
    {
     "data": {
      "text/plain": [
       "[]"
      ]
     },
     "execution_count": 28,
     "metadata": {},
     "output_type": "execute_result"
    }
   ],
   "source": [
    "%%sql\n",
    "COPY price_plan_temp1 FROM '/home/ubuntu/pricing_plans.csv'\n",
    "CSV\n",
    "HEADER;"
   ]
  },
  {
   "cell_type": "markdown",
   "metadata": {},
   "source": [
    "### 2. Create table price_plan_temp2 to count the amount of pricing_plan (the count of \"price\") for each app.\n",
    "data in price_plan_temp2 is based on the data in price_plan_temp1"
   ]
  },
  {
   "cell_type": "markdown",
   "metadata": {},
   "source": [
    "#### Step 1: Create table price_plan_temp2\n",
    "It should contain 2831 records since we did \"Count\" for the dataset"
   ]
  },
  {
   "cell_type": "code",
   "execution_count": 29,
   "metadata": {},
   "outputs": [
    {
     "name": "stdout",
     "output_type": "stream",
     "text": [
      " * postgresql://student@/FinalGP\n",
      "Done.\n",
      "2831 rows affected.\n"
     ]
    },
    {
     "data": {
      "text/plain": [
       "[]"
      ]
     },
     "execution_count": 29,
     "metadata": {},
     "output_type": "execute_result"
    }
   ],
   "source": [
    "%%sql\n",
    "DROP TABLE IF EXISTS price_plan_temp2;\n",
    "\n",
    "CREATE TABLE price_plan_temp2 AS \n",
    "SELECT app_id, COUNT(price) AS pricing_choice, COUNT(price) AS price_plan_id\n",
    "FROM price_plan_temp1\n",
    "GROUP BY app_id\n",
    "ORDER BY app_id"
   ]
  },
  {
   "cell_type": "markdown",
   "metadata": {},
   "source": [
    "#### Step 2: Check 10 records in pricing_plan_temp2 to see if it is consistent with what we want. \n",
    "It should have columns: app_id,pricing_choice,price_plan_id"
   ]
  },
  {
   "cell_type": "code",
   "execution_count": 30,
   "metadata": {},
   "outputs": [
    {
     "name": "stdout",
     "output_type": "stream",
     "text": [
      " * postgresql://student@/FinalGP\n",
      "10 rows affected.\n"
     ]
    },
    {
     "data": {
      "text/html": [
       "<table>\n",
       "    <tr>\n",
       "        <th>app_id</th>\n",
       "        <th>pricing_choice</th>\n",
       "        <th>price_plan_id</th>\n",
       "    </tr>\n",
       "    <tr>\n",
       "        <td>1</td>\n",
       "        <td>4</td>\n",
       "        <td>4</td>\n",
       "    </tr>\n",
       "    <tr>\n",
       "        <td>2</td>\n",
       "        <td>1</td>\n",
       "        <td>1</td>\n",
       "    </tr>\n",
       "    <tr>\n",
       "        <td>3</td>\n",
       "        <td>1</td>\n",
       "        <td>1</td>\n",
       "    </tr>\n",
       "    <tr>\n",
       "        <td>4</td>\n",
       "        <td>1</td>\n",
       "        <td>1</td>\n",
       "    </tr>\n",
       "    <tr>\n",
       "        <td>5</td>\n",
       "        <td>1</td>\n",
       "        <td>1</td>\n",
       "    </tr>\n",
       "    <tr>\n",
       "        <td>6</td>\n",
       "        <td>1</td>\n",
       "        <td>1</td>\n",
       "    </tr>\n",
       "    <tr>\n",
       "        <td>7</td>\n",
       "        <td>1</td>\n",
       "        <td>1</td>\n",
       "    </tr>\n",
       "    <tr>\n",
       "        <td>8</td>\n",
       "        <td>1</td>\n",
       "        <td>1</td>\n",
       "    </tr>\n",
       "    <tr>\n",
       "        <td>9</td>\n",
       "        <td>1</td>\n",
       "        <td>1</td>\n",
       "    </tr>\n",
       "    <tr>\n",
       "        <td>10</td>\n",
       "        <td>1</td>\n",
       "        <td>1</td>\n",
       "    </tr>\n",
       "</table>"
      ],
      "text/plain": [
       "[(1, 4, 4),\n",
       " (2, 1, 1),\n",
       " (3, 1, 1),\n",
       " (4, 1, 1),\n",
       " (5, 1, 1),\n",
       " (6, 1, 1),\n",
       " (7, 1, 1),\n",
       " (8, 1, 1),\n",
       " (9, 1, 1),\n",
       " (10, 1, 1)]"
      ]
     },
     "execution_count": 30,
     "metadata": {},
     "output_type": "execute_result"
    }
   ],
   "source": [
    "%%sql\n",
    "SELECT * FROM price_plan_temp2\n",
    "LIMIT 10"
   ]
  },
  {
   "cell_type": "markdown",
   "metadata": {},
   "source": [
    "#### We can see that overall we have 4 groups of pricing plan: 1 contains only 1 pricing choice,1 contains 2 pricing choices,1 contains 3 pricing choices and 1 contains 4 pricing choices."
   ]
  },
  {
   "cell_type": "code",
   "execution_count": 31,
   "metadata": {},
   "outputs": [
    {
     "name": "stdout",
     "output_type": "stream",
     "text": [
      " * postgresql://student@/FinalGP\n",
      "4 rows affected.\n"
     ]
    },
    {
     "data": {
      "text/html": [
       "<table>\n",
       "    <tr>\n",
       "        <th>price_plan_id</th>\n",
       "    </tr>\n",
       "    <tr>\n",
       "        <td>4</td>\n",
       "    </tr>\n",
       "    <tr>\n",
       "        <td>1</td>\n",
       "    </tr>\n",
       "    <tr>\n",
       "        <td>3</td>\n",
       "    </tr>\n",
       "    <tr>\n",
       "        <td>2</td>\n",
       "    </tr>\n",
       "</table>"
      ],
      "text/plain": [
       "[(4,), (1,), (3,), (2,)]"
      ]
     },
     "execution_count": 31,
     "metadata": {},
     "output_type": "execute_result"
    }
   ],
   "source": [
    "%%sql\n",
    "select distinct price_plan_id from price_plan_temp2"
   ]
  },
  {
   "cell_type": "markdown",
   "metadata": {},
   "source": [
    "### 3.Create price_plan table and insert data based on pricing_plan_temp2 table."
   ]
  },
  {
   "cell_type": "markdown",
   "metadata": {},
   "source": [
    "#### Step 1: Create pricing_plan table"
   ]
  },
  {
   "cell_type": "code",
   "execution_count": 32,
   "metadata": {},
   "outputs": [
    {
     "name": "stdout",
     "output_type": "stream",
     "text": [
      " * postgresql://student@/FinalGP\n",
      "Done.\n",
      "Done.\n"
     ]
    },
    {
     "data": {
      "text/plain": [
       "[]"
      ]
     },
     "execution_count": 32,
     "metadata": {},
     "output_type": "execute_result"
    }
   ],
   "source": [
    "%%sql\n",
    "DROP TABLE IF EXISTS price_plan;\n",
    "\n",
    "CREATE TABLE price_plan(\n",
    "    key       INTEGER NOT NULL, \n",
    "    pricing_choice_amount  VARCHAR(200) NOT NULL,\n",
    "    UNIQUE(key)\n",
    ");"
   ]
  },
  {
   "cell_type": "markdown",
   "metadata": {},
   "source": [
    "#### Step 2: Insert data from pricing_plan_temp2"
   ]
  },
  {
   "cell_type": "code",
   "execution_count": 33,
   "metadata": {},
   "outputs": [
    {
     "name": "stdout",
     "output_type": "stream",
     "text": [
      " * postgresql://student@/FinalGP\n",
      "4 rows affected.\n"
     ]
    },
    {
     "data": {
      "text/plain": [
       "[]"
      ]
     },
     "execution_count": 33,
     "metadata": {},
     "output_type": "execute_result"
    }
   ],
   "source": [
    "%%sql\n",
    "INSERT INTO price_plan (key, pricing_choice_amount)\n",
    "SELECT DISTINCT price_plan_id, pricing_choice\n",
    "FROM price_plan_temp2\n",
    "ORDER BY price_plan_id"
   ]
  },
  {
   "cell_type": "markdown",
   "metadata": {},
   "source": [
    "#### Step3: Check data in pricing_plan dimension table"
   ]
  },
  {
   "cell_type": "code",
   "execution_count": 34,
   "metadata": {},
   "outputs": [
    {
     "name": "stdout",
     "output_type": "stream",
     "text": [
      " * postgresql://student@/FinalGP\n",
      "4 rows affected.\n"
     ]
    },
    {
     "data": {
      "text/html": [
       "<table>\n",
       "    <tr>\n",
       "        <th>key</th>\n",
       "        <th>pricing_choice_amount</th>\n",
       "    </tr>\n",
       "    <tr>\n",
       "        <td>1</td>\n",
       "        <td>1</td>\n",
       "    </tr>\n",
       "    <tr>\n",
       "        <td>2</td>\n",
       "        <td>2</td>\n",
       "    </tr>\n",
       "    <tr>\n",
       "        <td>3</td>\n",
       "        <td>3</td>\n",
       "    </tr>\n",
       "    <tr>\n",
       "        <td>4</td>\n",
       "        <td>4</td>\n",
       "    </tr>\n",
       "</table>"
      ],
      "text/plain": [
       "[(1, '1'), (2, '2'), (3, '3'), (4, '4')]"
      ]
     },
     "execution_count": 34,
     "metadata": {},
     "output_type": "execute_result"
    }
   ],
   "source": [
    "%%sql\n",
    "SELECT * FROM price_plan"
   ]
  },
  {
   "cell_type": "markdown",
   "metadata": {},
   "source": [
    "## Goal 3: Time dimensional table"
   ]
  },
  {
   "cell_type": "markdown",
   "metadata": {},
   "source": [
    "### 1. Create time dimensional table"
   ]
  },
  {
   "cell_type": "code",
   "execution_count": 35,
   "metadata": {},
   "outputs": [
    {
     "name": "stdout",
     "output_type": "stream",
     "text": [
      " * postgresql://student@/FinalGP\n",
      "Done.\n",
      "Done.\n"
     ]
    },
    {
     "data": {
      "text/plain": [
       "[]"
      ]
     },
     "execution_count": 35,
     "metadata": {},
     "output_type": "execute_result"
    }
   ],
   "source": [
    "%%sql\n",
    "DROP TABLE IF EXISTS time;\n",
    "\n",
    "CREATE TABLE time (\n",
    "    key            SERIAL PRIMARY KEY,\n",
    "    post_time      CHAR(20) NOT NULL,\n",
    "    month_abb      CHAR(3) NOT NULL,\n",
    "    week_day       INTEGER NOT NULL,\n",
    "    day_of_month   INTEGER NOT NULL,\n",
    "    month_of_year  INTEGER NOT NULL,\n",
    "    year           INTEGER NOT NULL\n",
    ");"
   ]
  },
  {
   "cell_type": "markdown",
   "metadata": {},
   "source": [
    "### 2. Prepare data for time dimensional table"
   ]
  },
  {
   "cell_type": "markdown",
   "metadata": {},
   "source": [
    "#### Step 1: Create a time_temp table"
   ]
  },
  {
   "cell_type": "code",
   "execution_count": 36,
   "metadata": {},
   "outputs": [
    {
     "name": "stdout",
     "output_type": "stream",
     "text": [
      " * postgresql://student@/FinalGP\n",
      "Done.\n",
      "Done.\n"
     ]
    },
    {
     "data": {
      "text/plain": [
       "[]"
      ]
     },
     "execution_count": 36,
     "metadata": {},
     "output_type": "execute_result"
    }
   ],
   "source": [
    "%%sql\n",
    "DROP TABLE IF EXISTS time_temp;\n",
    "\n",
    "CREATE TABLE time_temp (\n",
    "    post_time      CHAR(20) NOT NULL,\n",
    "    month_abb      CHAR(3) NOT NULL,\n",
    "    week_day       INTEGER NOT NULL,\n",
    "    day_of_month   INTEGER NOT NULL,\n",
    "    month_of_year  INTEGER NOT NULL,\n",
    "    year           INTEGER NOT NULL\n",
    ");"
   ]
  },
  {
   "cell_type": "markdown",
   "metadata": {},
   "source": [
    "#### Step 2: Import Time.csv into time_temp table\n",
    "It should have 292029 records."
   ]
  },
  {
   "cell_type": "code",
   "execution_count": 37,
   "metadata": {},
   "outputs": [
    {
     "name": "stdout",
     "output_type": "stream",
     "text": [
      " * postgresql://student@/FinalGP\n",
      "292029 rows affected.\n"
     ]
    },
    {
     "data": {
      "text/plain": [
       "[]"
      ]
     },
     "execution_count": 37,
     "metadata": {},
     "output_type": "execute_result"
    }
   ],
   "source": [
    "%%sql\n",
    "COPY time_temp\n",
    "FROM '/home/ubuntu/Time.csv'\n",
    "CSV\n",
    "HEADER;"
   ]
  },
  {
   "cell_type": "markdown",
   "metadata": {},
   "source": [
    "### 3. Import data from time_temp to time\n",
    "It should contain 2748 records since we only want to have distinct time information"
   ]
  },
  {
   "cell_type": "code",
   "execution_count": 38,
   "metadata": {},
   "outputs": [
    {
     "name": "stdout",
     "output_type": "stream",
     "text": [
      " * postgresql://student@/FinalGP\n",
      "2748 rows affected.\n"
     ]
    },
    {
     "data": {
      "text/plain": [
       "[]"
      ]
     },
     "execution_count": 38,
     "metadata": {},
     "output_type": "execute_result"
    }
   ],
   "source": [
    "%%sql\n",
    "INSERT INTO time(post_time ,month_abb, week_day,day_of_month, month_of_year, year)\n",
    "SELECT DISTINCT post_time ,month_abb, week_day,day_of_month, month_of_year, year\n",
    "FROM time_temp"
   ]
  },
  {
   "cell_type": "markdown",
   "metadata": {},
   "source": [
    "#### Here's a quick look of time dimension table"
   ]
  },
  {
   "cell_type": "code",
   "execution_count": 39,
   "metadata": {},
   "outputs": [
    {
     "name": "stdout",
     "output_type": "stream",
     "text": [
      " * postgresql://student@/FinalGP\n",
      "10 rows affected.\n"
     ]
    },
    {
     "data": {
      "text/html": [
       "<table>\n",
       "    <tr>\n",
       "        <th>key</th>\n",
       "        <th>post_time</th>\n",
       "        <th>month_abb</th>\n",
       "        <th>week_day</th>\n",
       "        <th>day_of_month</th>\n",
       "        <th>month_of_year</th>\n",
       "        <th>year</th>\n",
       "    </tr>\n",
       "    <tr>\n",
       "        <td>1</td>\n",
       "        <td>17-Aug-14           </td>\n",
       "        <td>Aug</td>\n",
       "        <td>7</td>\n",
       "        <td>17</td>\n",
       "        <td>8</td>\n",
       "        <td>2014</td>\n",
       "    </tr>\n",
       "    <tr>\n",
       "        <td>2</td>\n",
       "        <td>26-Feb-15           </td>\n",
       "        <td>Feb</td>\n",
       "        <td>4</td>\n",
       "        <td>26</td>\n",
       "        <td>2</td>\n",
       "        <td>2015</td>\n",
       "    </tr>\n",
       "    <tr>\n",
       "        <td>3</td>\n",
       "        <td>1-Dec-16            </td>\n",
       "        <td>Dec</td>\n",
       "        <td>4</td>\n",
       "        <td>1</td>\n",
       "        <td>12</td>\n",
       "        <td>2016</td>\n",
       "    </tr>\n",
       "    <tr>\n",
       "        <td>4</td>\n",
       "        <td>24-Feb-13           </td>\n",
       "        <td>Feb</td>\n",
       "        <td>7</td>\n",
       "        <td>24</td>\n",
       "        <td>2</td>\n",
       "        <td>2013</td>\n",
       "    </tr>\n",
       "    <tr>\n",
       "        <td>5</td>\n",
       "        <td>28-Sep-16           </td>\n",
       "        <td>Sep</td>\n",
       "        <td>3</td>\n",
       "        <td>28</td>\n",
       "        <td>9</td>\n",
       "        <td>2016</td>\n",
       "    </tr>\n",
       "    <tr>\n",
       "        <td>6</td>\n",
       "        <td>20-Oct-13           </td>\n",
       "        <td>Oct</td>\n",
       "        <td>7</td>\n",
       "        <td>20</td>\n",
       "        <td>10</td>\n",
       "        <td>2013</td>\n",
       "    </tr>\n",
       "    <tr>\n",
       "        <td>7</td>\n",
       "        <td>26-May-18           </td>\n",
       "        <td>May</td>\n",
       "        <td>6</td>\n",
       "        <td>26</td>\n",
       "        <td>5</td>\n",
       "        <td>2018</td>\n",
       "    </tr>\n",
       "    <tr>\n",
       "        <td>8</td>\n",
       "        <td>5-Jan-18            </td>\n",
       "        <td>Jan</td>\n",
       "        <td>5</td>\n",
       "        <td>5</td>\n",
       "        <td>1</td>\n",
       "        <td>2018</td>\n",
       "    </tr>\n",
       "    <tr>\n",
       "        <td>9</td>\n",
       "        <td>6-May-13            </td>\n",
       "        <td>May</td>\n",
       "        <td>1</td>\n",
       "        <td>6</td>\n",
       "        <td>5</td>\n",
       "        <td>2013</td>\n",
       "    </tr>\n",
       "    <tr>\n",
       "        <td>10</td>\n",
       "        <td>8-Nov-16            </td>\n",
       "        <td>Nov</td>\n",
       "        <td>2</td>\n",
       "        <td>8</td>\n",
       "        <td>11</td>\n",
       "        <td>2016</td>\n",
       "    </tr>\n",
       "</table>"
      ],
      "text/plain": [
       "[(1, '17-Aug-14           ', 'Aug', 7, 17, 8, 2014),\n",
       " (2, '26-Feb-15           ', 'Feb', 4, 26, 2, 2015),\n",
       " (3, '1-Dec-16            ', 'Dec', 4, 1, 12, 2016),\n",
       " (4, '24-Feb-13           ', 'Feb', 7, 24, 2, 2013),\n",
       " (5, '28-Sep-16           ', 'Sep', 3, 28, 9, 2016),\n",
       " (6, '20-Oct-13           ', 'Oct', 7, 20, 10, 2013),\n",
       " (7, '26-May-18           ', 'May', 6, 26, 5, 2018),\n",
       " (8, '5-Jan-18            ', 'Jan', 5, 5, 1, 2018),\n",
       " (9, '6-May-13            ', 'May', 1, 6, 5, 2013),\n",
       " (10, '8-Nov-16            ', 'Nov', 2, 8, 11, 2016)]"
      ]
     },
     "execution_count": 39,
     "metadata": {},
     "output_type": "execute_result"
    }
   ],
   "source": [
    "%%sql\n",
    "SELECT * FROM time\n",
    "LIMIT 10"
   ]
  },
  {
   "cell_type": "markdown",
   "metadata": {},
   "source": [
    "## Goal 4: rating fact table"
   ]
  },
  {
   "cell_type": "markdown",
   "metadata": {},
   "source": [
    "### 1. Create rating table"
   ]
  },
  {
   "cell_type": "code",
   "execution_count": 40,
   "metadata": {},
   "outputs": [
    {
     "name": "stdout",
     "output_type": "stream",
     "text": [
      " * postgresql://student@/FinalGP\n",
      "Done.\n",
      "Done.\n"
     ]
    },
    {
     "data": {
      "text/plain": [
       "[]"
      ]
     },
     "execution_count": 40,
     "metadata": {},
     "output_type": "execute_result"
    }
   ],
   "source": [
    "%%sql \n",
    "DROP TABLE IF EXISTS rating;\n",
    "\n",
    "CREATE TABLE rating(\n",
    "    app_key            INTEGER NOT NULL,\n",
    "    author            VARCHAR(500) NOT NULL,\n",
    "    rating            INTEGER NOT NULL,\n",
    "    post_time         CHAR(20) NOT NULL,\n",
    "    month_abb         CHAR(3) NOT NULL,\n",
    "    week_day          INTEGER NOT NULL,\n",
    "    day_of_month      INTEGER NOT NULL,\n",
    "    month_of_year     INTEGER NOT NULL,\n",
    "    year              INTEGER NOT NULL\n",
    ");"
   ]
  },
  {
   "cell_type": "markdown",
   "metadata": {},
   "source": [
    "### 2. Import reviews.csv into rating table\n",
    "It should contain 292029 records."
   ]
  },
  {
   "cell_type": "code",
   "execution_count": 41,
   "metadata": {},
   "outputs": [
    {
     "name": "stdout",
     "output_type": "stream",
     "text": [
      " * postgresql://student@/FinalGP\n",
      "292029 rows affected.\n"
     ]
    },
    {
     "data": {
      "text/plain": [
       "[]"
      ]
     },
     "execution_count": 41,
     "metadata": {},
     "output_type": "execute_result"
    }
   ],
   "source": [
    "%%sql\n",
    "COPY rating FROM '/home/ubuntu/reviews.csv'\n",
    "CSV\n",
    "HEADER;"
   ]
  },
  {
   "cell_type": "markdown",
   "metadata": {},
   "source": [
    "### 3. Add time_key into rating table"
   ]
  },
  {
   "cell_type": "code",
   "execution_count": 42,
   "metadata": {},
   "outputs": [
    {
     "name": "stdout",
     "output_type": "stream",
     "text": [
      " * postgresql://student@/FinalGP\n",
      "Done.\n",
      "292029 rows affected.\n"
     ]
    },
    {
     "data": {
      "text/plain": [
       "[]"
      ]
     },
     "execution_count": 42,
     "metadata": {},
     "output_type": "execute_result"
    }
   ],
   "source": [
    "%%sql\n",
    "ALTER TABLE rating\n",
    "ADD COLUMN time_key INTEGER,\n",
    "ADD CONSTRAINT fk_time_key\n",
    "    FOREIGN KEY (time_key)\n",
    "    REFERENCES time (key);\n",
    "\n",
    "UPDATE rating\n",
    "SET time_key = time.key\n",
    "FROM time\n",
    "WHERE rating.post_time = time.post_time;"
   ]
  },
  {
   "cell_type": "markdown",
   "metadata": {},
   "source": [
    "### 4. Add price_plan_key into rating table"
   ]
  },
  {
   "cell_type": "code",
   "execution_count": 43,
   "metadata": {},
   "outputs": [
    {
     "name": "stdout",
     "output_type": "stream",
     "text": [
      " * postgresql://student@/FinalGP\n",
      "Done.\n",
      "292029 rows affected.\n"
     ]
    },
    {
     "data": {
      "text/plain": [
       "[]"
      ]
     },
     "execution_count": 43,
     "metadata": {},
     "output_type": "execute_result"
    }
   ],
   "source": [
    "%%sql\n",
    "ALTER TABLE rating\n",
    "ADD COLUMN price_plan_key INTEGER,\n",
    "ADD CONSTRAINT fk_price_plan_key\n",
    "    FOREIGN KEY (price_plan_key)\n",
    "    REFERENCES price_plan (key);\n",
    "    \n",
    "UPDATE rating\n",
    "SET price_plan_key = price_plan_temp2.price_plan_id\n",
    "FROM price_plan_temp2\n",
    "WHERE price_plan_temp2.app_id = rating.app_key;"
   ]
  },
  {
   "cell_type": "markdown",
   "metadata": {},
   "source": [
    "### 5. Remove unnecessary column from rating table"
   ]
  },
  {
   "cell_type": "code",
   "execution_count": 44,
   "metadata": {},
   "outputs": [
    {
     "name": "stdout",
     "output_type": "stream",
     "text": [
      " * postgresql://student@/FinalGP\n",
      "Done.\n"
     ]
    },
    {
     "data": {
      "text/plain": [
       "[]"
      ]
     },
     "execution_count": 44,
     "metadata": {},
     "output_type": "execute_result"
    }
   ],
   "source": [
    "%%sql\n",
    "ALTER TABLE rating\n",
    "DROP COLUMN post_time,\n",
    "DROP COLUMN month_abb,\n",
    "DROP COLUMN week_day,\n",
    "DROP COLUMN day_of_month,\n",
    "DROP COLUMN month_of_year,\n",
    "DROP COLUMN year;"
   ]
  },
  {
   "cell_type": "markdown",
   "metadata": {},
   "source": [
    "#### Check the final rating table\n",
    "It should contain columns: app_key, author, rating, time_key, price_plan_key"
   ]
  },
  {
   "cell_type": "code",
   "execution_count": 45,
   "metadata": {},
   "outputs": [
    {
     "name": "stdout",
     "output_type": "stream",
     "text": [
      " * postgresql://student@/FinalGP\n",
      "10 rows affected.\n"
     ]
    },
    {
     "data": {
      "text/html": [
       "<table>\n",
       "    <tr>\n",
       "        <th>app_key</th>\n",
       "        <th>author</th>\n",
       "        <th>rating</th>\n",
       "        <th>time_key</th>\n",
       "        <th>price_plan_key</th>\n",
       "    </tr>\n",
       "    <tr>\n",
       "        <td>1</td>\n",
       "        <td>Simply Beautiful</td>\n",
       "        <td>5</td>\n",
       "        <td>670</td>\n",
       "        <td>4</td>\n",
       "    </tr>\n",
       "    <tr>\n",
       "        <td>1</td>\n",
       "        <td>Antler &amp; Bone</td>\n",
       "        <td>4</td>\n",
       "        <td>1360</td>\n",
       "        <td>4</td>\n",
       "    </tr>\n",
       "    <tr>\n",
       "        <td>1</td>\n",
       "        <td>presetcabana</td>\n",
       "        <td>5</td>\n",
       "        <td>2207</td>\n",
       "        <td>4</td>\n",
       "    </tr>\n",
       "    <tr>\n",
       "        <td>1</td>\n",
       "        <td>Batik 2.0</td>\n",
       "        <td>5</td>\n",
       "        <td>1869</td>\n",
       "        <td>4</td>\n",
       "    </tr>\n",
       "    <tr>\n",
       "        <td>1</td>\n",
       "        <td>Style Art Villa</td>\n",
       "        <td>4</td>\n",
       "        <td>1364</td>\n",
       "        <td>4</td>\n",
       "    </tr>\n",
       "    <tr>\n",
       "        <td>1</td>\n",
       "        <td>Rich Frames</td>\n",
       "        <td>4</td>\n",
       "        <td>1850</td>\n",
       "        <td>4</td>\n",
       "    </tr>\n",
       "    <tr>\n",
       "        <td>1</td>\n",
       "        <td>Zollpa</td>\n",
       "        <td>5</td>\n",
       "        <td>2367</td>\n",
       "        <td>4</td>\n",
       "    </tr>\n",
       "    <tr>\n",
       "        <td>1</td>\n",
       "        <td>Best Buys Shop Here</td>\n",
       "        <td>5</td>\n",
       "        <td>2207</td>\n",
       "        <td>4</td>\n",
       "    </tr>\n",
       "    <tr>\n",
       "        <td>1</td>\n",
       "        <td>AyurAlpha</td>\n",
       "        <td>4</td>\n",
       "        <td>312</td>\n",
       "        <td>4</td>\n",
       "    </tr>\n",
       "    <tr>\n",
       "        <td>1</td>\n",
       "        <td>Custom Curves</td>\n",
       "        <td>5</td>\n",
       "        <td>1891</td>\n",
       "        <td>4</td>\n",
       "    </tr>\n",
       "</table>"
      ],
      "text/plain": [
       "[(1, 'Simply Beautiful', 5, 670, 4),\n",
       " (1, 'Antler & Bone', 4, 1360, 4),\n",
       " (1, 'presetcabana', 5, 2207, 4),\n",
       " (1, 'Batik 2.0', 5, 1869, 4),\n",
       " (1, 'Style Art Villa', 4, 1364, 4),\n",
       " (1, 'Rich Frames', 4, 1850, 4),\n",
       " (1, 'Zollpa', 5, 2367, 4),\n",
       " (1, 'Best Buys Shop Here', 5, 2207, 4),\n",
       " (1, 'AyurAlpha', 4, 312, 4),\n",
       " (1, 'Custom Curves', 5, 1891, 4)]"
      ]
     },
     "execution_count": 45,
     "metadata": {},
     "output_type": "execute_result"
    }
   ],
   "source": [
    "%%sql\n",
    "SELECT * FROM rating\n",
    "ORDER BY app_key\n",
    "LIMIT 10"
   ]
  },
  {
   "cell_type": "markdown",
   "metadata": {},
   "source": [
    "### Business Question 1: Find the top 10 apps with most rating records."
   ]
  },
  {
   "cell_type": "code",
   "execution_count": 46,
   "metadata": {},
   "outputs": [
    {
     "name": "stdout",
     "output_type": "stream",
     "text": [
      " * postgresql://student@/FinalGP\n",
      "10 rows affected.\n"
     ]
    },
    {
     "data": {
      "text/html": [
       "<table>\n",
       "    <tr>\n",
       "        <th>appid</th>\n",
       "        <th>name</th>\n",
       "        <th>count</th>\n",
       "    </tr>\n",
       "    <tr>\n",
       "        <td>595</td>\n",
       "        <td>Privy‑ExitPopUps&amp;Email                                                                              </td>\n",
       "        <td>20517</td>\n",
       "    </tr>\n",
       "    <tr>\n",
       "        <td>570</td>\n",
       "        <td>FreeShippingBarbyHextom                                                                             </td>\n",
       "        <td>8220</td>\n",
       "    </tr>\n",
       "    <tr>\n",
       "        <td>780</td>\n",
       "        <td>RecartFBMessengerMarketing                                                                          </td>\n",
       "        <td>5553</td>\n",
       "    </tr>\n",
       "    <tr>\n",
       "        <td>427</td>\n",
       "        <td>BESTCurrencyConverter                                                                               </td>\n",
       "        <td>5119</td>\n",
       "    </tr>\n",
       "    <tr>\n",
       "        <td>1072</td>\n",
       "        <td>EUCookieBar‑CookieGDPR                                                                              </td>\n",
       "        <td>4534</td>\n",
       "    </tr>\n",
       "    <tr>\n",
       "        <td>2457</td>\n",
       "        <td>SalesPop‑SalesNotification                                                                          </td>\n",
       "        <td>4105</td>\n",
       "    </tr>\n",
       "    <tr>\n",
       "        <td>2313</td>\n",
       "        <td>QuickAnnouncementBar                                                                                </td>\n",
       "        <td>3862</td>\n",
       "    </tr>\n",
       "    <tr>\n",
       "        <td>652</td>\n",
       "        <td>UltimateSalesBoost                                                                                  </td>\n",
       "        <td>3773</td>\n",
       "    </tr>\n",
       "    <tr>\n",
       "        <td>3</td>\n",
       "        <td>AdsbyVarinode                                                                                       </td>\n",
       "        <td>3336</td>\n",
       "    </tr>\n",
       "    <tr>\n",
       "        <td>448</td>\n",
       "        <td>SmileRewards&amp;Loyalty                                                                                </td>\n",
       "        <td>3241</td>\n",
       "    </tr>\n",
       "</table>"
      ],
      "text/plain": [
       "[(595, 'Privy‑ExitPopUps&Email                                                                              ', 20517),\n",
       " (570, 'FreeShippingBarbyHextom                                                                             ', 8220),\n",
       " (780, 'RecartFBMessengerMarketing                                                                          ', 5553),\n",
       " (427, 'BESTCurrencyConverter                                                                               ', 5119),\n",
       " (1072, 'EUCookieBar‑CookieGDPR                                                                              ', 4534),\n",
       " (2457, 'SalesPop‑SalesNotification                                                                          ', 4105),\n",
       " (2313, 'QuickAnnouncementBar                                                                                ', 3862),\n",
       " (652, 'UltimateSalesBoost                                                                                  ', 3773),\n",
       " (3, 'AdsbyVarinode                                                                                       ', 3336),\n",
       " (448, 'SmileRewards&Loyalty                                                                                ', 3241)]"
      ]
     },
     "execution_count": 46,
     "metadata": {},
     "output_type": "execute_result"
    }
   ],
   "source": [
    "%%sql\n",
    "SELECT DISTINCT rating.app_key AS appid, app.app_name AS name, COUNT(rating.rating) AS count\n",
    "FROM rating JOIN app\n",
    "ON rating.app_key = app.app_id\n",
    "GROUP BY appid, name\n",
    "ORDER BY count DESC\n",
    "LIMIT 10;"
   ]
  },
  {
   "cell_type": "code",
   "execution_count": 47,
   "metadata": {},
   "outputs": [],
   "source": [
    "%matplotlib inline"
   ]
  },
  {
   "cell_type": "code",
   "execution_count": 48,
   "metadata": {},
   "outputs": [
    {
     "data": {
      "text/plain": [
       "<BarContainer object of 10 artists>"
      ]
     },
     "execution_count": 48,
     "metadata": {},
     "output_type": "execute_result"
    },
    {
     "data": {
      "image/png": "[encoded data removed]",
      "text/plain": [
       "<Figure size 432x288 with 1 Axes>"
      ]
     },
     "metadata": {
      "needs_background": "light"
     },
     "output_type": "display_data"
    }
   ],
   "source": [
    "_.bar()"
   ]
  },
  {
   "cell_type": "code",
   "execution_count": 49,
   "metadata": {},
   "outputs": [
    {
     "name": "stdout",
     "output_type": "stream",
     "text": [
      " * postgresql://student@/FinalGP\n",
      "(psycopg2.ProgrammingError) view \"review_count_view\" does not exist\n",
      " [SQL: 'Drop View review_count_view'] (Background on this error at: http://sqlalche.me/e/f405)\n"
     ]
    }
   ],
   "source": [
    "%%sql\n",
    "Drop View review_count_view"
   ]
  },
  {
   "cell_type": "markdown",
   "metadata": {},
   "source": [
    "### Business Question 2: Investigate the relationship between review count and rating level."
   ]
  },
  {
   "cell_type": "markdown",
   "metadata": {},
   "source": [
    "##### Count the review count of the same app_id and average the rating according to app_id. We can see that rating 5 star and rating 1 star has the highest review counts which means customers who appricate specific apps and cutomers who complain about specific apps are willing to post their using experience."
   ]
  },
  {
   "cell_type": "code",
   "execution_count": 50,
   "metadata": {},
   "outputs": [
    {
     "name": "stdout",
     "output_type": "stream",
     "text": [
      " * postgresql://student@/FinalGP\n",
      "Done.\n"
     ]
    },
    {
     "data": {
      "text/plain": [
       "[]"
      ]
     },
     "execution_count": 50,
     "metadata": {},
     "output_type": "execute_result"
    }
   ],
   "source": [
    "%%sql\n",
    "CREATE VIEW review_count_view AS\n",
    "SELECT app.app_id,AVG(rating.rating) AS rating_avg1,COUNT(app.review_count) AS review_count1\n",
    "FROM app JOIN rating\n",
    "ON app.app_id = rating.app_key\n",
    "GROUP BY app.app_id"
   ]
  },
  {
   "cell_type": "code",
   "execution_count": 51,
   "metadata": {},
   "outputs": [
    {
     "name": "stdout",
     "output_type": "stream",
     "text": [
      " * postgresql://student@/FinalGP\n",
      "15 rows affected.\n"
     ]
    },
    {
     "data": {
      "text/html": [
       "<table>\n",
       "    <tr>\n",
       "        <th>app_id</th>\n",
       "        <th>rating_avg1</th>\n",
       "        <th>review_count1</th>\n",
       "    </tr>\n",
       "    <tr>\n",
       "        <td>251</td>\n",
       "        <td>4.8125000000000000</td>\n",
       "        <td>16</td>\n",
       "    </tr>\n",
       "    <tr>\n",
       "        <td>2026</td>\n",
       "        <td>5.0000000000000000</td>\n",
       "        <td>3</td>\n",
       "    </tr>\n",
       "    <tr>\n",
       "        <td>2409</td>\n",
       "        <td>5.0000000000000000</td>\n",
       "        <td>1</td>\n",
       "    </tr>\n",
       "    <tr>\n",
       "        <td>264</td>\n",
       "        <td>3.0000000000000000</td>\n",
       "        <td>2</td>\n",
       "    </tr>\n",
       "    <tr>\n",
       "        <td>2024</td>\n",
       "        <td>3.0000000000000000</td>\n",
       "        <td>5</td>\n",
       "    </tr>\n",
       "    <tr>\n",
       "        <td>1070</td>\n",
       "        <td>4.5081967213114754</td>\n",
       "        <td>61</td>\n",
       "    </tr>\n",
       "    <tr>\n",
       "        <td>1350</td>\n",
       "        <td>2.0000000000000000</td>\n",
       "        <td>2</td>\n",
       "    </tr>\n",
       "    <tr>\n",
       "        <td>1209</td>\n",
       "        <td>5.0000000000000000</td>\n",
       "        <td>1</td>\n",
       "    </tr>\n",
       "    <tr>\n",
       "        <td>496</td>\n",
       "        <td>4.9000000000000000</td>\n",
       "        <td>10</td>\n",
       "    </tr>\n",
       "    <tr>\n",
       "        <td>2265</td>\n",
       "        <td>5.0000000000000000</td>\n",
       "        <td>15</td>\n",
       "    </tr>\n",
       "    <tr>\n",
       "        <td>1101</td>\n",
       "        <td>4.4444444444444444</td>\n",
       "        <td>27</td>\n",
       "    </tr>\n",
       "    <tr>\n",
       "        <td>2311</td>\n",
       "        <td>5.0000000000000000</td>\n",
       "        <td>4</td>\n",
       "    </tr>\n",
       "    <tr>\n",
       "        <td>276</td>\n",
       "        <td>5.0000000000000000</td>\n",
       "        <td>3</td>\n",
       "    </tr>\n",
       "    <tr>\n",
       "        <td>599</td>\n",
       "        <td>4.9661016949152542</td>\n",
       "        <td>59</td>\n",
       "    </tr>\n",
       "    <tr>\n",
       "        <td>1083</td>\n",
       "        <td>5.0000000000000000</td>\n",
       "        <td>5</td>\n",
       "    </tr>\n",
       "</table>"
      ],
      "text/plain": [
       "[(251, Decimal('4.8125000000000000'), 16),\n",
       " (2026, Decimal('5.0000000000000000'), 3),\n",
       " (2409, Decimal('5.0000000000000000'), 1),\n",
       " (264, Decimal('3.0000000000000000'), 2),\n",
       " (2024, Decimal('3.0000000000000000'), 5),\n",
       " (1070, Decimal('4.5081967213114754'), 61),\n",
       " (1350, Decimal('2.0000000000000000'), 2),\n",
       " (1209, Decimal('5.0000000000000000'), 1),\n",
       " (496, Decimal('4.9000000000000000'), 10),\n",
       " (2265, Decimal('5.0000000000000000'), 15),\n",
       " (1101, Decimal('4.4444444444444444'), 27),\n",
       " (2311, Decimal('5.0000000000000000'), 4),\n",
       " (276, Decimal('5.0000000000000000'), 3),\n",
       " (599, Decimal('4.9661016949152542'), 59),\n",
       " (1083, Decimal('5.0000000000000000'), 5)]"
      ]
     },
     "execution_count": 51,
     "metadata": {},
     "output_type": "execute_result"
    }
   ],
   "source": [
    "%%sql\n",
    "select * from review_count_view limit 15"
   ]
  },
  {
   "cell_type": "markdown",
   "metadata": {},
   "source": [
    "#### count the number of review_count of the same rating_average"
   ]
  },
  {
   "cell_type": "markdown",
   "metadata": {},
   "source": [
    "##### show from the largest count number and show the graph"
   ]
  },
  {
   "cell_type": "code",
   "execution_count": 52,
   "metadata": {},
   "outputs": [
    {
     "name": "stdout",
     "output_type": "stream",
     "text": [
      " * postgresql://student@/FinalGP\n",
      "15 rows affected.\n"
     ]
    },
    {
     "data": {
      "text/html": [
       "<table>\n",
       "    <tr>\n",
       "        <th>rating_avg1</th>\n",
       "        <th>count</th>\n",
       "    </tr>\n",
       "    <tr>\n",
       "        <td>5.000</td>\n",
       "        <td>676</td>\n",
       "    </tr>\n",
       "    <tr>\n",
       "        <td>4.000</td>\n",
       "        <td>70</td>\n",
       "    </tr>\n",
       "    <tr>\n",
       "        <td>1.000</td>\n",
       "        <td>64</td>\n",
       "    </tr>\n",
       "    <tr>\n",
       "        <td>3.000</td>\n",
       "        <td>61</td>\n",
       "    </tr>\n",
       "    <tr>\n",
       "        <td>4.500</td>\n",
       "        <td>40</td>\n",
       "    </tr>\n",
       "    <tr>\n",
       "        <td>3.667</td>\n",
       "        <td>36</td>\n",
       "    </tr>\n",
       "    <tr>\n",
       "        <td>4.750</td>\n",
       "        <td>28</td>\n",
       "    </tr>\n",
       "    <tr>\n",
       "        <td>4.333</td>\n",
       "        <td>25</td>\n",
       "    </tr>\n",
       "    <tr>\n",
       "        <td>4.667</td>\n",
       "        <td>23</td>\n",
       "    </tr>\n",
       "    <tr>\n",
       "        <td>4.200</td>\n",
       "        <td>21</td>\n",
       "    </tr>\n",
       "    <tr>\n",
       "        <td>3.500</td>\n",
       "        <td>16</td>\n",
       "    </tr>\n",
       "    <tr>\n",
       "        <td>2.333</td>\n",
       "        <td>15</td>\n",
       "    </tr>\n",
       "    <tr>\n",
       "        <td>4.250</td>\n",
       "        <td>14</td>\n",
       "    </tr>\n",
       "    <tr>\n",
       "        <td>4.900</td>\n",
       "        <td>12</td>\n",
       "    </tr>\n",
       "    <tr>\n",
       "        <td>2.000</td>\n",
       "        <td>12</td>\n",
       "    </tr>\n",
       "</table>"
      ],
      "text/plain": [
       "[(Decimal('5.000'), 676),\n",
       " (Decimal('4.000'), 70),\n",
       " (Decimal('1.000'), 64),\n",
       " (Decimal('3.000'), 61),\n",
       " (Decimal('4.500'), 40),\n",
       " (Decimal('3.667'), 36),\n",
       " (Decimal('4.750'), 28),\n",
       " (Decimal('4.333'), 25),\n",
       " (Decimal('4.667'), 23),\n",
       " (Decimal('4.200'), 21),\n",
       " (Decimal('3.500'), 16),\n",
       " (Decimal('2.333'), 15),\n",
       " (Decimal('4.250'), 14),\n",
       " (Decimal('4.900'), 12),\n",
       " (Decimal('2.000'), 12)]"
      ]
     },
     "execution_count": 52,
     "metadata": {},
     "output_type": "execute_result"
    }
   ],
   "source": [
    "%%sql\n",
    "SELECT cast (review_count_view.rating_avg1 as decimal(10,3)), COUNT(review_count1)\n",
    "FROM review_count_view\n",
    "GROUP BY review_count_view.rating_avg1\n",
    "ORDER BY count DESC\n",
    "LIMIT 15;"
   ]
  },
  {
   "cell_type": "code",
   "execution_count": 53,
   "metadata": {},
   "outputs": [],
   "source": [
    "%matplotlib inline"
   ]
  },
  {
   "cell_type": "code",
   "execution_count": 54,
   "metadata": {},
   "outputs": [
    {
     "data": {
      "text/plain": [
       "<BarContainer object of 15 artists>"
      ]
     },
     "execution_count": 54,
     "metadata": {},
     "output_type": "execute_result"
    },
    {
     "data": {
      "image/png": "[encoded data removed]",
      "text/plain": [
       "<Figure size 432x288 with 1 Axes>"
      ]
     },
     "metadata": {
      "needs_background": "light"
     },
     "output_type": "display_data"
    }
   ],
   "source": [
    "_.bar()"
   ]
  },
  {
   "cell_type": "markdown",
   "metadata": {},
   "source": [
    "#####  show from the smallest count number and show the graph"
   ]
  },
  {
   "cell_type": "code",
   "execution_count": 55,
   "metadata": {},
   "outputs": [
    {
     "name": "stdout",
     "output_type": "stream",
     "text": [
      " * postgresql://student@/FinalGP\n",
      "100 rows affected.\n"
     ]
    },
    {
     "data": {
      "text/html": [
       "<table>\n",
       "    <tr>\n",
       "        <th>rating_avg1</th>\n",
       "        <th>count</th>\n",
       "    </tr>\n",
       "    <tr>\n",
       "        <td>4.605</td>\n",
       "        <td>1</td>\n",
       "    </tr>\n",
       "    <tr>\n",
       "        <td>3.826</td>\n",
       "        <td>1</td>\n",
       "    </tr>\n",
       "    <tr>\n",
       "        <td>3.462</td>\n",
       "        <td>1</td>\n",
       "    </tr>\n",
       "    <tr>\n",
       "        <td>4.711</td>\n",
       "        <td>1</td>\n",
       "    </tr>\n",
       "    <tr>\n",
       "        <td>4.269</td>\n",
       "        <td>1</td>\n",
       "    </tr>\n",
       "    <tr>\n",
       "        <td>4.615</td>\n",
       "        <td>1</td>\n",
       "    </tr>\n",
       "    <tr>\n",
       "        <td>4.677</td>\n",
       "        <td>1</td>\n",
       "    </tr>\n",
       "    <tr>\n",
       "        <td>4.885</td>\n",
       "        <td>1</td>\n",
       "    </tr>\n",
       "    <tr>\n",
       "        <td>4.787</td>\n",
       "        <td>1</td>\n",
       "    </tr>\n",
       "    <tr>\n",
       "        <td>4.450</td>\n",
       "        <td>1</td>\n",
       "    </tr>\n",
       "    <tr>\n",
       "        <td>4.297</td>\n",
       "        <td>1</td>\n",
       "    </tr>\n",
       "    <tr>\n",
       "        <td>4.902</td>\n",
       "        <td>1</td>\n",
       "    </tr>\n",
       "    <tr>\n",
       "        <td>4.703</td>\n",
       "        <td>1</td>\n",
       "    </tr>\n",
       "    <tr>\n",
       "        <td>3.565</td>\n",
       "        <td>1</td>\n",
       "    </tr>\n",
       "    <tr>\n",
       "        <td>4.343</td>\n",
       "        <td>1</td>\n",
       "    </tr>\n",
       "    <tr>\n",
       "        <td>4.912</td>\n",
       "        <td>1</td>\n",
       "    </tr>\n",
       "    <tr>\n",
       "        <td>4.202</td>\n",
       "        <td>1</td>\n",
       "    </tr>\n",
       "    <tr>\n",
       "        <td>4.292</td>\n",
       "        <td>1</td>\n",
       "    </tr>\n",
       "    <tr>\n",
       "        <td>4.514</td>\n",
       "        <td>1</td>\n",
       "    </tr>\n",
       "    <tr>\n",
       "        <td>4.876</td>\n",
       "        <td>1</td>\n",
       "    </tr>\n",
       "    <tr>\n",
       "        <td>4.847</td>\n",
       "        <td>1</td>\n",
       "    </tr>\n",
       "    <tr>\n",
       "        <td>4.570</td>\n",
       "        <td>1</td>\n",
       "    </tr>\n",
       "    <tr>\n",
       "        <td>4.509</td>\n",
       "        <td>1</td>\n",
       "    </tr>\n",
       "    <tr>\n",
       "        <td>4.835</td>\n",
       "        <td>1</td>\n",
       "    </tr>\n",
       "    <tr>\n",
       "        <td>4.509</td>\n",
       "        <td>1</td>\n",
       "    </tr>\n",
       "    <tr>\n",
       "        <td>4.389</td>\n",
       "        <td>1</td>\n",
       "    </tr>\n",
       "    <tr>\n",
       "        <td>4.868</td>\n",
       "        <td>1</td>\n",
       "    </tr>\n",
       "    <tr>\n",
       "        <td>4.895</td>\n",
       "        <td>1</td>\n",
       "    </tr>\n",
       "    <tr>\n",
       "        <td>4.879</td>\n",
       "        <td>1</td>\n",
       "    </tr>\n",
       "    <tr>\n",
       "        <td>4.740</td>\n",
       "        <td>1</td>\n",
       "    </tr>\n",
       "    <tr>\n",
       "        <td>4.729</td>\n",
       "        <td>1</td>\n",
       "    </tr>\n",
       "    <tr>\n",
       "        <td>4.538</td>\n",
       "        <td>1</td>\n",
       "    </tr>\n",
       "    <tr>\n",
       "        <td>3.589</td>\n",
       "        <td>1</td>\n",
       "    </tr>\n",
       "    <tr>\n",
       "        <td>4.312</td>\n",
       "        <td>1</td>\n",
       "    </tr>\n",
       "    <tr>\n",
       "        <td>4.942</td>\n",
       "        <td>1</td>\n",
       "    </tr>\n",
       "    <tr>\n",
       "        <td>4.850</td>\n",
       "        <td>1</td>\n",
       "    </tr>\n",
       "    <tr>\n",
       "        <td>4.869</td>\n",
       "        <td>1</td>\n",
       "    </tr>\n",
       "    <tr>\n",
       "        <td>4.804</td>\n",
       "        <td>1</td>\n",
       "    </tr>\n",
       "    <tr>\n",
       "        <td>4.901</td>\n",
       "        <td>1</td>\n",
       "    </tr>\n",
       "    <tr>\n",
       "        <td>4.559</td>\n",
       "        <td>1</td>\n",
       "    </tr>\n",
       "    <tr>\n",
       "        <td>4.764</td>\n",
       "        <td>1</td>\n",
       "    </tr>\n",
       "    <tr>\n",
       "        <td>4.524</td>\n",
       "        <td>1</td>\n",
       "    </tr>\n",
       "    <tr>\n",
       "        <td>3.538</td>\n",
       "        <td>1</td>\n",
       "    </tr>\n",
       "    <tr>\n",
       "        <td>4.093</td>\n",
       "        <td>1</td>\n",
       "    </tr>\n",
       "    <tr>\n",
       "        <td>4.710</td>\n",
       "        <td>1</td>\n",
       "    </tr>\n",
       "    <tr>\n",
       "        <td>4.686</td>\n",
       "        <td>1</td>\n",
       "    </tr>\n",
       "    <tr>\n",
       "        <td>4.322</td>\n",
       "        <td>1</td>\n",
       "    </tr>\n",
       "    <tr>\n",
       "        <td>4.522</td>\n",
       "        <td>1</td>\n",
       "    </tr>\n",
       "    <tr>\n",
       "        <td>4.509</td>\n",
       "        <td>1</td>\n",
       "    </tr>\n",
       "    <tr>\n",
       "        <td>4.757</td>\n",
       "        <td>1</td>\n",
       "    </tr>\n",
       "    <tr>\n",
       "        <td>4.915</td>\n",
       "        <td>1</td>\n",
       "    </tr>\n",
       "    <tr>\n",
       "        <td>4.919</td>\n",
       "        <td>1</td>\n",
       "    </tr>\n",
       "    <tr>\n",
       "        <td>4.771</td>\n",
       "        <td>1</td>\n",
       "    </tr>\n",
       "    <tr>\n",
       "        <td>4.869</td>\n",
       "        <td>1</td>\n",
       "    </tr>\n",
       "    <tr>\n",
       "        <td>4.870</td>\n",
       "        <td>1</td>\n",
       "    </tr>\n",
       "    <tr>\n",
       "        <td>4.827</td>\n",
       "        <td>1</td>\n",
       "    </tr>\n",
       "    <tr>\n",
       "        <td>3.318</td>\n",
       "        <td>1</td>\n",
       "    </tr>\n",
       "    <tr>\n",
       "        <td>4.648</td>\n",
       "        <td>1</td>\n",
       "    </tr>\n",
       "    <tr>\n",
       "        <td>4.529</td>\n",
       "        <td>1</td>\n",
       "    </tr>\n",
       "    <tr>\n",
       "        <td>4.484</td>\n",
       "        <td>1</td>\n",
       "    </tr>\n",
       "    <tr>\n",
       "        <td>1.786</td>\n",
       "        <td>1</td>\n",
       "    </tr>\n",
       "    <tr>\n",
       "        <td>4.451</td>\n",
       "        <td>1</td>\n",
       "    </tr>\n",
       "    <tr>\n",
       "        <td>3.182</td>\n",
       "        <td>1</td>\n",
       "    </tr>\n",
       "    <tr>\n",
       "        <td>4.780</td>\n",
       "        <td>1</td>\n",
       "    </tr>\n",
       "    <tr>\n",
       "        <td>4.695</td>\n",
       "        <td>1</td>\n",
       "    </tr>\n",
       "    <tr>\n",
       "        <td>4.941</td>\n",
       "        <td>1</td>\n",
       "    </tr>\n",
       "    <tr>\n",
       "        <td>3.493</td>\n",
       "        <td>1</td>\n",
       "    </tr>\n",
       "    <tr>\n",
       "        <td>4.827</td>\n",
       "        <td>1</td>\n",
       "    </tr>\n",
       "    <tr>\n",
       "        <td>2.460</td>\n",
       "        <td>1</td>\n",
       "    </tr>\n",
       "    <tr>\n",
       "        <td>4.939</td>\n",
       "        <td>1</td>\n",
       "    </tr>\n",
       "    <tr>\n",
       "        <td>4.756</td>\n",
       "        <td>1</td>\n",
       "    </tr>\n",
       "    <tr>\n",
       "        <td>4.717</td>\n",
       "        <td>1</td>\n",
       "    </tr>\n",
       "    <tr>\n",
       "        <td>4.977</td>\n",
       "        <td>1</td>\n",
       "    </tr>\n",
       "    <tr>\n",
       "        <td>3.422</td>\n",
       "        <td>1</td>\n",
       "    </tr>\n",
       "    <tr>\n",
       "        <td>4.053</td>\n",
       "        <td>1</td>\n",
       "    </tr>\n",
       "    <tr>\n",
       "        <td>4.630</td>\n",
       "        <td>1</td>\n",
       "    </tr>\n",
       "    <tr>\n",
       "        <td>4.906</td>\n",
       "        <td>1</td>\n",
       "    </tr>\n",
       "    <tr>\n",
       "        <td>4.724</td>\n",
       "        <td>1</td>\n",
       "    </tr>\n",
       "    <tr>\n",
       "        <td>4.059</td>\n",
       "        <td>1</td>\n",
       "    </tr>\n",
       "    <tr>\n",
       "        <td>4.622</td>\n",
       "        <td>1</td>\n",
       "    </tr>\n",
       "    <tr>\n",
       "        <td>4.949</td>\n",
       "        <td>1</td>\n",
       "    </tr>\n",
       "    <tr>\n",
       "        <td>4.838</td>\n",
       "        <td>1</td>\n",
       "    </tr>\n",
       "    <tr>\n",
       "        <td>4.744</td>\n",
       "        <td>1</td>\n",
       "    </tr>\n",
       "    <tr>\n",
       "        <td>4.442</td>\n",
       "        <td>1</td>\n",
       "    </tr>\n",
       "    <tr>\n",
       "        <td>2.438</td>\n",
       "        <td>1</td>\n",
       "    </tr>\n",
       "    <tr>\n",
       "        <td>4.567</td>\n",
       "        <td>1</td>\n",
       "    </tr>\n",
       "    <tr>\n",
       "        <td>4.660</td>\n",
       "        <td>1</td>\n",
       "    </tr>\n",
       "    <tr>\n",
       "        <td>3.962</td>\n",
       "        <td>1</td>\n",
       "    </tr>\n",
       "    <tr>\n",
       "        <td>4.964</td>\n",
       "        <td>1</td>\n",
       "    </tr>\n",
       "    <tr>\n",
       "        <td>4.971</td>\n",
       "        <td>1</td>\n",
       "    </tr>\n",
       "    <tr>\n",
       "        <td>4.786</td>\n",
       "        <td>1</td>\n",
       "    </tr>\n",
       "    <tr>\n",
       "        <td>4.613</td>\n",
       "        <td>1</td>\n",
       "    </tr>\n",
       "    <tr>\n",
       "        <td>4.904</td>\n",
       "        <td>1</td>\n",
       "    </tr>\n",
       "    <tr>\n",
       "        <td>4.646</td>\n",
       "        <td>1</td>\n",
       "    </tr>\n",
       "    <tr>\n",
       "        <td>4.487</td>\n",
       "        <td>1</td>\n",
       "    </tr>\n",
       "    <tr>\n",
       "        <td>3.757</td>\n",
       "        <td>1</td>\n",
       "    </tr>\n",
       "    <tr>\n",
       "        <td>4.892</td>\n",
       "        <td>1</td>\n",
       "    </tr>\n",
       "    <tr>\n",
       "        <td>4.789</td>\n",
       "        <td>1</td>\n",
       "    </tr>\n",
       "    <tr>\n",
       "        <td>4.848</td>\n",
       "        <td>1</td>\n",
       "    </tr>\n",
       "    <tr>\n",
       "        <td>4.910</td>\n",
       "        <td>1</td>\n",
       "    </tr>\n",
       "</table>"
      ],
      "text/plain": [
       "[(Decimal('4.605'), 1),\n",
       " (Decimal('3.826'), 1),\n",
       " (Decimal('3.462'), 1),\n",
       " (Decimal('4.711'), 1),\n",
       " (Decimal('4.269'), 1),\n",
       " (Decimal('4.615'), 1),\n",
       " (Decimal('4.677'), 1),\n",
       " (Decimal('4.885'), 1),\n",
       " (Decimal('4.787'), 1),\n",
       " (Decimal('4.450'), 1),\n",
       " (Decimal('4.297'), 1),\n",
       " (Decimal('4.902'), 1),\n",
       " (Decimal('4.703'), 1),\n",
       " (Decimal('3.565'), 1),\n",
       " (Decimal('4.343'), 1),\n",
       " (Decimal('4.912'), 1),\n",
       " (Decimal('4.202'), 1),\n",
       " (Decimal('4.292'), 1),\n",
       " (Decimal('4.514'), 1),\n",
       " (Decimal('4.876'), 1),\n",
       " (Decimal('4.847'), 1),\n",
       " (Decimal('4.570'), 1),\n",
       " (Decimal('4.509'), 1),\n",
       " (Decimal('4.835'), 1),\n",
       " (Decimal('4.509'), 1),\n",
       " (Decimal('4.389'), 1),\n",
       " (Decimal('4.868'), 1),\n",
       " (Decimal('4.895'), 1),\n",
       " (Decimal('4.879'), 1),\n",
       " (Decimal('4.740'), 1),\n",
       " (Decimal('4.729'), 1),\n",
       " (Decimal('4.538'), 1),\n",
       " (Decimal('3.589'), 1),\n",
       " (Decimal('4.312'), 1),\n",
       " (Decimal('4.942'), 1),\n",
       " (Decimal('4.850'), 1),\n",
       " (Decimal('4.869'), 1),\n",
       " (Decimal('4.804'), 1),\n",
       " (Decimal('4.901'), 1),\n",
       " (Decimal('4.559'), 1),\n",
       " (Decimal('4.764'), 1),\n",
       " (Decimal('4.524'), 1),\n",
       " (Decimal('3.538'), 1),\n",
       " (Decimal('4.093'), 1),\n",
       " (Decimal('4.710'), 1),\n",
       " (Decimal('4.686'), 1),\n",
       " (Decimal('4.322'), 1),\n",
       " (Decimal('4.522'), 1),\n",
       " (Decimal('4.509'), 1),\n",
       " (Decimal('4.757'), 1),\n",
       " (Decimal('4.915'), 1),\n",
       " (Decimal('4.919'), 1),\n",
       " (Decimal('4.771'), 1),\n",
       " (Decimal('4.869'), 1),\n",
       " (Decimal('4.870'), 1),\n",
       " (Decimal('4.827'), 1),\n",
       " (Decimal('3.318'), 1),\n",
       " (Decimal('4.648'), 1),\n",
       " (Decimal('4.529'), 1),\n",
       " (Decimal('4.484'), 1),\n",
       " (Decimal('1.786'), 1),\n",
       " (Decimal('4.451'), 1),\n",
       " (Decimal('3.182'), 1),\n",
       " (Decimal('4.780'), 1),\n",
       " (Decimal('4.695'), 1),\n",
       " (Decimal('4.941'), 1),\n",
       " (Decimal('3.493'), 1),\n",
       " (Decimal('4.827'), 1),\n",
       " (Decimal('2.460'), 1),\n",
       " (Decimal('4.939'), 1),\n",
       " (Decimal('4.756'), 1),\n",
       " (Decimal('4.717'), 1),\n",
       " (Decimal('4.977'), 1),\n",
       " (Decimal('3.422'), 1),\n",
       " (Decimal('4.053'), 1),\n",
       " (Decimal('4.630'), 1),\n",
       " (Decimal('4.906'), 1),\n",
       " (Decimal('4.724'), 1),\n",
       " (Decimal('4.059'), 1),\n",
       " (Decimal('4.622'), 1),\n",
       " (Decimal('4.949'), 1),\n",
       " (Decimal('4.838'), 1),\n",
       " (Decimal('4.744'), 1),\n",
       " (Decimal('4.442'), 1),\n",
       " (Decimal('2.438'), 1),\n",
       " (Decimal('4.567'), 1),\n",
       " (Decimal('4.660'), 1),\n",
       " (Decimal('3.962'), 1),\n",
       " (Decimal('4.964'), 1),\n",
       " (Decimal('4.971'), 1),\n",
       " (Decimal('4.786'), 1),\n",
       " (Decimal('4.613'), 1),\n",
       " (Decimal('4.904'), 1),\n",
       " (Decimal('4.646'), 1),\n",
       " (Decimal('4.487'), 1),\n",
       " (Decimal('3.757'), 1),\n",
       " (Decimal('4.892'), 1),\n",
       " (Decimal('4.789'), 1),\n",
       " (Decimal('4.848'), 1),\n",
       " (Decimal('4.910'), 1)]"
      ]
     },
     "execution_count": 55,
     "metadata": {},
     "output_type": "execute_result"
    }
   ],
   "source": [
    "%%sql\n",
    "SELECT cast (review_count_view.rating_avg1 as decimal(10,3)), COUNT(review_count1)\n",
    "FROM review_count_view\n",
    "GROUP BY review_count_view.rating_avg1\n",
    "Order by count\n",
    "LIMIT 100;"
   ]
  },
  {
   "cell_type": "code",
   "execution_count": 56,
   "metadata": {},
   "outputs": [],
   "source": [
    "%matplotlib inline"
   ]
  },
  {
   "cell_type": "code",
   "execution_count": 57,
   "metadata": {},
   "outputs": [
    {
     "data": {
      "text/plain": [
       "<BarContainer object of 100 artists>"
      ]
     },
     "execution_count": 57,
     "metadata": {},
     "output_type": "execute_result"
    },
    {
     "data": {
      "image/png": "[encoded data removed]",
      "text/plain": [
       "<Figure size 432x288 with 1 Axes>"
      ]
     },
     "metadata": {
      "needs_background": "light"
     },
     "output_type": "display_data"
    }
   ],
   "source": [
    "_.bar()"
   ]
  },
  {
   "cell_type": "markdown",
   "metadata": {},
   "source": [
    "### Business Question 3: The relationship between time and rating"
   ]
  },
  {
   "cell_type": "markdown",
   "metadata": {},
   "source": [
    "##### We found customers are not willing to leave comments on weekends (Saturday and Sunday) comparing to on weekdays.  "
   ]
  },
  {
   "cell_type": "code",
   "execution_count": 58,
   "metadata": {},
   "outputs": [
    {
     "name": "stdout",
     "output_type": "stream",
     "text": [
      " * postgresql://student@/FinalGP\n",
      "7 rows affected.\n"
     ]
    },
    {
     "data": {
      "text/html": [
       "<table>\n",
       "    <tr>\n",
       "        <th>week_day</th>\n",
       "        <th>count</th>\n",
       "    </tr>\n",
       "    <tr>\n",
       "        <td>6</td>\n",
       "        <td>29427</td>\n",
       "    </tr>\n",
       "    <tr>\n",
       "        <td>7</td>\n",
       "        <td>29812</td>\n",
       "    </tr>\n",
       "    <tr>\n",
       "        <td>5</td>\n",
       "        <td>42148</td>\n",
       "    </tr>\n",
       "    <tr>\n",
       "        <td>1</td>\n",
       "        <td>45470</td>\n",
       "    </tr>\n",
       "    <tr>\n",
       "        <td>2</td>\n",
       "        <td>47938</td>\n",
       "    </tr>\n",
       "    <tr>\n",
       "        <td>4</td>\n",
       "        <td>48253</td>\n",
       "    </tr>\n",
       "    <tr>\n",
       "        <td>3</td>\n",
       "        <td>48981</td>\n",
       "    </tr>\n",
       "</table>"
      ],
      "text/plain": [
       "[(6, 29427),\n",
       " (7, 29812),\n",
       " (5, 42148),\n",
       " (1, 45470),\n",
       " (2, 47938),\n",
       " (4, 48253),\n",
       " (3, 48981)]"
      ]
     },
     "execution_count": 58,
     "metadata": {},
     "output_type": "execute_result"
    }
   ],
   "source": [
    "%%sql\n",
    "SELECT DISTINCT time.week_day, COUNT(rating.rating)\n",
    "FROM time JOIN rating\n",
    "ON time.key = rating.time_key\n",
    "GROUP BY time.week_day\n",
    "ORDER BY count"
   ]
  },
  {
   "cell_type": "code",
   "execution_count": 59,
   "metadata": {},
   "outputs": [],
   "source": [
    "%matplotlib inline"
   ]
  },
  {
   "cell_type": "code",
   "execution_count": 60,
   "metadata": {},
   "outputs": [
    {
     "data": {
      "text/plain": [
       "<BarContainer object of 7 artists>"
      ]
     },
     "execution_count": 60,
     "metadata": {},
     "output_type": "execute_result"
    },
    {
     "data": {
      "image/png": "[encoded data removed]",
      "text/plain": [
       "<Figure size 432x288 with 1 Axes>"
      ]
     },
     "metadata": {
      "needs_background": "light"
     },
     "output_type": "display_data"
    }
   ],
   "source": [
    "_.bar()"
   ]
  },
  {
   "cell_type": "markdown",
   "metadata": {},
   "source": [
    "### Business Question 4: The relationship between price plan and rating"
   ]
  },
  {
   "cell_type": "markdown",
   "metadata": {},
   "source": [
    "### From rating table we can see price_plan 1 has the most comments."
   ]
  },
  {
   "cell_type": "code",
   "execution_count": 61,
   "metadata": {},
   "outputs": [
    {
     "name": "stdout",
     "output_type": "stream",
     "text": [
      " * postgresql://student@/FinalGP\n",
      "4 rows affected.\n"
     ]
    },
    {
     "data": {
      "text/html": [
       "<table>\n",
       "    <tr>\n",
       "        <th>price_plan_key</th>\n",
       "        <th>count</th>\n",
       "    </tr>\n",
       "    <tr>\n",
       "        <td>1</td>\n",
       "        <td>117754</td>\n",
       "    </tr>\n",
       "    <tr>\n",
       "        <td>2</td>\n",
       "        <td>53878</td>\n",
       "    </tr>\n",
       "    <tr>\n",
       "        <td>4</td>\n",
       "        <td>78332</td>\n",
       "    </tr>\n",
       "    <tr>\n",
       "        <td>3</td>\n",
       "        <td>42065</td>\n",
       "    </tr>\n",
       "</table>"
      ],
      "text/plain": [
       "[(1, 117754), (2, 53878), (4, 78332), (3, 42065)]"
      ]
     },
     "execution_count": 61,
     "metadata": {},
     "output_type": "execute_result"
    }
   ],
   "source": [
    "%%sql\n",
    "SELECT price_plan_key,count(price_plan_key)\n",
    "FROM rating\n",
    "group by price_plan_key"
   ]
  },
  {
   "cell_type": "code",
   "execution_count": 62,
   "metadata": {},
   "outputs": [],
   "source": [
    "%matplotlib inline"
   ]
  },
  {
   "cell_type": "code",
   "execution_count": 63,
   "metadata": {},
   "outputs": [
    {
     "data": {
      "text/plain": [
       "<BarContainer object of 4 artists>"
      ]
     },
     "execution_count": 63,
     "metadata": {},
     "output_type": "execute_result"
    },
    {
     "data": {
      "image/png": "[encoded data removed]",
      "text/plain": [
       "<Figure size 432x288 with 1 Axes>"
      ]
     },
     "metadata": {
      "needs_background": "light"
     },
     "output_type": "display_data"
    }
   ],
   "source": [
    "_.bar()"
   ]
  },
  {
   "cell_type": "markdown",
   "metadata": {},
   "source": [
    "### We can see that plan 1 has a large amount of 5 star evaluation so this plan is the most widely used plan as well as most succesuful plan."
   ]
  },
  {
   "cell_type": "code",
   "execution_count": 68,
   "metadata": {},
   "outputs": [
    {
     "name": "stdout",
     "output_type": "stream",
     "text": [
      " * postgresql://student@/FinalGP\n",
      "5 rows affected.\n"
     ]
    },
    {
     "data": {
      "text/html": [
       "<table>\n",
       "    <tr>\n",
       "        <th>rating</th>\n",
       "        <th>count</th>\n",
       "    </tr>\n",
       "    <tr>\n",
       "        <td>1</td>\n",
       "        <td>5863</td>\n",
       "    </tr>\n",
       "    <tr>\n",
       "        <td>2</td>\n",
       "        <td>1468</td>\n",
       "    </tr>\n",
       "    <tr>\n",
       "        <td>3</td>\n",
       "        <td>2613</td>\n",
       "    </tr>\n",
       "    <tr>\n",
       "        <td>4</td>\n",
       "        <td>9203</td>\n",
       "    </tr>\n",
       "    <tr>\n",
       "        <td>5</td>\n",
       "        <td>98607</td>\n",
       "    </tr>\n",
       "</table>"
      ],
      "text/plain": [
       "[(1, 5863), (2, 1468), (3, 2613), (4, 9203), (5, 98607)]"
      ]
     },
     "execution_count": 68,
     "metadata": {},
     "output_type": "execute_result"
    }
   ],
   "source": [
    "%%sql\n",
    "SELECT rating, count(price_plan_key)\n",
    "FROM rating\n",
    "where price_plan_key=1\n",
    "group by rating\n",
    "order by rating"
   ]
  },
  {
   "cell_type": "code",
   "execution_count": 69,
   "metadata": {},
   "outputs": [],
   "source": [
    "%matplotlib inline"
   ]
  },
  {
   "cell_type": "code",
   "execution_count": 70,
   "metadata": {},
   "outputs": [
    {
     "data": {
      "text/plain": [
       "<BarContainer object of 5 artists>"
      ]
     },
     "execution_count": 70,
     "metadata": {},
     "output_type": "execute_result"
    },
    {
     "data": {
      "image/png": "[encoded data removed]",
      "text/plain": [
       "<Figure size 432x288 with 1 Axes>"
      ]
     },
     "metadata": {
      "needs_background": "light"
     },
     "output_type": "display_data"
    }
   ],
   "source": [
    "_.bar()"
   ]
  },
  {
   "cell_type": "code",
   "execution_count": null,
   "metadata": {},
   "outputs": [],
   "source": []
  }
 ],
 "metadata": {
  "kernelspec": {
   "display_name": "Python 3",
   "language": "python",
   "name": "python3"
  },
  "language_info": {
   "codemirror_mode": {
    "name": "ipython",
    "version": 3
   },
   "file_extension": ".py",
   "mimetype": "text/x-python",
   "name": "python",
   "nbconvert_exporter": "python",
   "pygments_lexer": "ipython3",
   "version": "3.5.3"
  }
 },
 "nbformat": 4,
 "nbformat_minor": 2
}
