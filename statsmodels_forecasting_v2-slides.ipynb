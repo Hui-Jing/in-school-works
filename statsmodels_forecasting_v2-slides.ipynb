{
 "cells": [
  {
   "cell_type": "markdown",
   "metadata": {
    "slideshow": {
     "slide_type": "slide"
    }
   },
   "source": [
    "# Time-series forecasting with `statsmodels`\n",
    "presented by Craig Nilson (craig.t.nilson@gmail.com)"
   ]
  },
  {
   "cell_type": "markdown",
   "metadata": {
    "slideshow": {
     "slide_type": "slide"
    }
   },
   "source": [
    "## Outline\n",
    "\n",
    "- Data\n",
    " - Import and isolate time-series data\n",
    " - Test data for stationarity\n",
    "- Model\n",
    " - Build a forecasting model\n",
    " - Review performance\n",
    "- Wrap-up\n",
    "- Further learning (if time allows)"
   ]
  },
  {
   "cell_type": "markdown",
   "metadata": {
    "slideshow": {
     "slide_type": "slide"
    }
   },
   "source": [
    "## Initialize Python libraries"
   ]
  },
  {
   "cell_type": "code",
   "execution_count": null,
   "metadata": {
    "slideshow": {
     "slide_type": "-"
    }
   },
   "outputs": [],
   "source": [
    "import pandas as pd\n",
    "import statsmodels.api as sm\n",
    "import matplotlib.pyplot as plt"
   ]
  },
  {
   "cell_type": "markdown",
   "metadata": {
    "slideshow": {
     "slide_type": "slide"
    }
   },
   "source": [
    "## Import  dataset"
   ]
  },
  {
   "cell_type": "markdown",
   "metadata": {
    "slideshow": {
     "slide_type": "subslide"
    }
   },
   "source": [
    "Access toy dataset and view documentation."
   ]
  },
  {
   "cell_type": "code",
   "execution_count": null,
   "metadata": {
    "slideshow": {
     "slide_type": "-"
    }
   },
   "outputs": [],
   "source": [
    "data = sm.datasets.macrodata\n",
    "print(data.DESCRLONG, data.NOTE)"
   ]
  },
  {
   "cell_type": "markdown",
   "metadata": {
    "slideshow": {
     "slide_type": "subslide"
    }
   },
   "source": [
    "Load data into a `pandas` dataframe."
   ]
  },
  {
   "cell_type": "code",
   "execution_count": null,
   "metadata": {
    "slideshow": {
     "slide_type": "-"
    }
   },
   "outputs": [],
   "source": [
    "df = data.load_pandas().data\n",
    "df.tail(10)"
   ]
  },
  {
   "cell_type": "markdown",
   "metadata": {
    "slideshow": {
     "slide_type": "subslide"
    }
   },
   "source": [
    "Combine date columns, select a variable, and preview plot."
   ]
  },
  {
   "cell_type": "code",
   "execution_count": null,
   "metadata": {
    "slideshow": {
     "slide_type": "-"
    }
   },
   "outputs": [],
   "source": [
    "# combine date columns into one\n",
    "date = df['year'].map(int).map(str) + '-q' + df['quarter'].map(int).map(str)\n",
    "\n",
    "# read a single variable into a pandas series, indexing with the newly created dates\n",
    "series = pd.Series(df['infl'].values, index=pd.to_datetime(date)+pd.tseries.offsets.QuarterEnd())\n",
    "\n",
    "# plot series\n",
    "fig = series.plot(figsize=(16,4))"
   ]
  },
  {
   "cell_type": "markdown",
   "metadata": {
    "slideshow": {
     "slide_type": "fragment"
    }
   },
   "source": [
    "Which way do *you* think the inflation will swing next?"
   ]
  },
  {
   "cell_type": "markdown",
   "metadata": {
    "slideshow": {
     "slide_type": "slide"
    }
   },
   "source": [
    "## Examine a time series\n",
    "- https://www.analyticsvidhya.com/blog/2018/09/non-stationary-time-series-python/\n",
    "- https://www.mathworks.com/help/econ/trend-stationary-vs-difference-stationary.html\n",
    "- https://www.mathworks.com/help/econ/autocorrelation-and-partial-autocorrelation.html"
   ]
  },
  {
   "cell_type": "markdown",
   "metadata": {
    "slideshow": {
     "slide_type": "subslide"
    }
   },
   "source": [
    "**Stationarity**: A stochastic process whose statistical properties do not change over time (e.g. mean, variance, etc.) is said to be *strictly* stationary. Since stationarity is an assumption underlying many statistical procedures used in time-series analysis, non-stationary data are often transformed to become strictly stationary.\n",
    "\n",
    "Types of stationarity:\n",
    "- **Trend-Stationary**: The mean trend is deterministic. Once the trend is estimated and removed from the data, the residual series is a strictly stationary stochastic process. Time series with a deterministic trend always revert to the trend in the long run (the effects of shocks are eventually eliminated). Forecast intervals have constant width.\n",
    "- **Difference-Stationary**: The mean trend is stochastic. Differencing the series one or more times yields a strictly stationary stochastic process. Time series with a stochastic trend never recover from shocks to the system (the effects of shocks are permanent). Forecast intervals grow over time."
   ]
  },
  {
   "cell_type": "markdown",
   "metadata": {
    "slideshow": {
     "slide_type": "subslide"
    }
   },
   "source": [
    "Stationarity tests:\n",
    "- **Augmented Dickey-Fuller** unit root (stationarity) test.\n",
    " - $H_0$: series has a unit root; non-stationary\n",
    " - $H_1$: series does not have a unit root; stationary\n",
    "- **Kwiatkowski-Phillips-Schmidt-Shin** test for trend-stationarity.\n",
    " - $H_0$: series is trend stationary\n",
    " - $H_1$: series is non-trend stationary"
   ]
  },
  {
   "cell_type": "code",
   "execution_count": null,
   "metadata": {
    "slideshow": {
     "slide_type": "subslide"
    }
   },
   "outputs": [],
   "source": [
    "def stationarity(series, alpha=0.05):\n",
    "    adf_p = sm.tsa.adfuller(series)[1]\n",
    "    kpss_p = sm.tsa.kpss(series, lags='auto')[1]\n",
    "    \n",
    "    if adf_p < alpha:\n",
    "        print(f'ADF\\tREJECTED H0 (p={adf_p:.3f})')\n",
    "    else:\n",
    "        print(f'ADF\\tFAILED TO REJECT H0 (p={adf_p:.3f})')\n",
    "    if kpss_p < alpha:\n",
    "        print(f'KPSS\\tREJECTED H0 (p={kpss_p:.3f})')\n",
    "    else:\n",
    "        print(f'KPSS\\tFAILED TO REJECT H0 (p={kpss_p:.3f})')\n",
    "        \n",
    "# run test\n",
    "stationarity(series)"
   ]
  },
  {
   "cell_type": "markdown",
   "metadata": {
    "slideshow": {
     "slide_type": "fragment"
    }
   },
   "source": [
    "Stationarity test outcomes:\n",
    "- **Case 1**: ADF *fails* to reject $H_0$, KPSS rejects $H_0$ $\\rightarrow$ series is not stationary\n",
    "- **Case 2**: ADF rejects $H_0$, KPSS *fails* to reject $H_0$ $\\rightarrow$ series is stationary\n",
    "- **Case 3**: ADF *fails* to reject $H_0$, KPSS *fails* to reject $H_0$ $\\rightarrow$ trend stationary, remove the trend to make series strict stationary\n",
    "- **Case 4**: ADF rejects $H_0$, KPSS rejects $H_0$ $\\rightarrow$ difference stationary, use differencing to make series stationary"
   ]
  },
  {
   "cell_type": "markdown",
   "metadata": {
    "slideshow": {
     "slide_type": "subslide"
    }
   },
   "source": [
    "Correlation plots:\n",
    "- **Autocorrelation (ACF)**: The linear dependence of a variable with itself at two points in time, ignoring the time segments in between. For stationary processes, autocorrelation between any two observations only depends on the time lag $h$ between them.\n",
    "- **Partial Autocorrelation (PACF)**: The autocorrelation between $y_t$ and $y_{t–h}$ after removing any linear dependence on $y_1, y_2, \\dots, y_{t–h+1}$."
   ]
  },
  {
   "cell_type": "code",
   "execution_count": null,
   "metadata": {
    "slideshow": {
     "slide_type": "-"
    }
   },
   "outputs": [],
   "source": [
    "fig, axes = plt.subplots(2, 1, figsize=(12,8))\n",
    "fig = sm.graphics.tsa.plot_acf(series, ax=axes[0])\n",
    "fig = sm.graphics.tsa.plot_pacf(series, ax=axes[1])"
   ]
  },
  {
   "cell_type": "markdown",
   "metadata": {
    "slideshow": {
     "slide_type": "slide"
    }
   },
   "source": [
    "## Build a model"
   ]
  },
  {
   "cell_type": "markdown",
   "metadata": {
    "slideshow": {
     "slide_type": "subslide"
    }
   },
   "source": [
    "ARMA (**A**uto**R**egressive **M**oving **A**verage) model\n",
    "- https://www.statsmodels.org/dev/examples/notebooks/generated/tsa_arma_0.html\n",
    "---\n",
    "\n",
    "Parameters or \"order\" ($p,q$):\n",
    "- **AR**: The number of autoregressive terms to include in the model. For example, if $p=2$, the model will correlate all $y_{t-2}$ and $y_{t-1}$ observations with all $y_t$.\n",
    "- **MA**: The number of moving average terms to include in the model. For example, if $q=2$, the model will correlate the average of all $y_{t-2}$ and $y_{t-1}$ observations with all $y_t$.\n",
    "\n",
    "Note: The ACF and PACF plots from before can give an idea of what \"order\" to use."
   ]
  },
  {
   "cell_type": "code",
   "execution_count": null,
   "metadata": {
    "slideshow": {
     "slide_type": "subslide"
    }
   },
   "outputs": [],
   "source": [
    "# fit model and report\n",
    "model = sm.tsa.ARMA(series, order=(2,0), freq='Q-DEC')\n",
    "result = model.fit()\n",
    "display(result.summary())\n",
    "\n",
    "# plot model performance\n",
    "fig, ax = plt.subplots(figsize=(12,5))\n",
    "fig = result.plot_predict(end='2020', ax=ax)"
   ]
  },
  {
   "cell_type": "markdown",
   "metadata": {
    "slideshow": {
     "slide_type": "subslide"
    }
   },
   "source": [
    "The Akaike information criterion (AIC) tries to select the model that most adequately describes an unknown, high dimensional reality. The Bayesian information criterion (BIC) tries to find the true model among the set of candidates. In both cases, lower scores are desired.\n",
    "\n",
    "Rather than trying every combination of \"order\" for our model, we can employ a machine learning technique known as **hyperparameter tuning** to determine the \"order\" that optimizes a score (AIC, in this case)."
   ]
  },
  {
   "cell_type": "code",
   "execution_count": null,
   "metadata": {
    "slideshow": {
     "slide_type": "-"
    }
   },
   "outputs": [],
   "source": [
    "order = sm.tsa.arma_order_select_ic(series, ic='aic')['aic_min_order']\n",
    "order"
   ]
  },
  {
   "cell_type": "markdown",
   "metadata": {
    "slideshow": {
     "slide_type": "subslide"
    }
   },
   "source": [
    "Let's try the fit again with our tuned parameters..."
   ]
  },
  {
   "cell_type": "code",
   "execution_count": null,
   "metadata": {
    "slideshow": {
     "slide_type": "-"
    }
   },
   "outputs": [],
   "source": [
    "# fit model and report\n",
    "model = sm.tsa.ARMA(series, order=(4,1), freq='Q-DEC')\n",
    "result = model.fit()\n",
    "display(result.summary())\n",
    "\n",
    "# plot model performance\n",
    "fig, ax = plt.subplots(figsize=(12,5))\n",
    "fig = result.plot_predict(end='2020', ax=ax)"
   ]
  },
  {
   "cell_type": "markdown",
   "metadata": {
    "slideshow": {
     "slide_type": "slide"
    }
   },
   "source": [
    "## Wrap-up\n",
    "- How did our model compare with our initial predictions?\n",
    "- What are we assuming?\n",
    "- What are we missing? How can we improve our model?"
   ]
  },
  {
   "cell_type": "markdown",
   "metadata": {
    "slideshow": {
     "slide_type": "fragment"
    }
   },
   "source": [
    "## Thank you!"
   ]
  },
  {
   "cell_type": "markdown",
   "metadata": {
    "slideshow": {
     "slide_type": "skip"
    }
   },
   "source": [
    "## Further exploration..."
   ]
  },
  {
   "cell_type": "markdown",
   "metadata": {
    "slideshow": {
     "slide_type": "skip"
    }
   },
   "source": [
    "ARIMA (**A**uto**R**egressive **I**ntegrated **M**oving **A**verage) model..."
   ]
  },
  {
   "cell_type": "markdown",
   "metadata": {
    "slideshow": {
     "slide_type": "skip"
    }
   },
   "source": [
    "SARIMAX (**S**easonal **A**uto**R**egressive **I**ntegrated **M**oving **A**verage with e**X**ogenous regressors model) model\n",
    "- https://www.statsmodels.org/dev/examples/notebooks/generated/statespace_sarimax_stata.html\n",
    "- https://medium.com/datadriveninvestor/time-series-prediction-using-sarimax-a6604f258c56"
   ]
  },
  {
   "cell_type": "code",
   "execution_count": null,
   "metadata": {
    "slideshow": {
     "slide_type": "skip"
    }
   },
   "outputs": [],
   "source": [
    "# fit model and report\n",
    "model = sm.tsa.SARIMAX(series, order=(0,0,0), seasonal_order=(2,0,2,1), freq='Q-DEC')\n",
    "result = model.fit()\n",
    "display(result.summary())\n",
    "\n",
    "# plot model performance\n",
    "fig, ax = plt.subplots(figsize=(12,5))\n",
    "predict = result.get_prediction()\n",
    "predict_ci = predict.conf_int()\n",
    "series.plot(figsize=(16,4), ax=ax, c='C1')\n",
    "predict.predicted_mean.plot(ax=ax, c='C4')\n",
    "ax.fill_between(predict_ci.index, predict_ci.iloc[:,0], predict_ci.iloc[:,1], color='k', alpha=0.1)"
   ]
  },
  {
   "cell_type": "markdown",
   "metadata": {
    "slideshow": {
     "slide_type": "skip"
    }
   },
   "source": [
    "Brute force optimization"
   ]
  },
  {
   "cell_type": "code",
   "execution_count": null,
   "metadata": {
    "slideshow": {
     "slide_type": "skip"
    }
   },
   "outputs": [],
   "source": [
    "from scipy.optimize import brute\n",
    "\n",
    "def sarimax_obj(composite, endog):\n",
    "    order = composite[:3]\n",
    "    seasonal_order = composite[3:]\n",
    "    try:\n",
    "        fit = sm.tsa.SARIMAX(endog, order=order, seasonal_order=seasonal_order, freq='Q-DEC').fit()\n",
    "        score = fit.aic\n",
    "    except:\n",
    "        score = 1e4\n",
    "    return score\n",
    "\n",
    "grid = (slice(0, 1+0, 1),   # p\n",
    "        slice(0, 1+0, 1),   # d\n",
    "        slice(0, 1+0, 1),   # q\n",
    "        slice(1, 4+1, 1),   # P\n",
    "        slice(0, 2+1, 1),   # D\n",
    "        slice(0, 2+1, 1),   # Q\n",
    "        slice(1, 4+1, 1))   # s\n",
    "\n",
    "order = brute(sarimax_obj, grid, args=[series], finish=None)\n",
    "order"
   ]
  },
  {
   "cell_type": "markdown",
   "metadata": {
    "slideshow": {
     "slide_type": "skip"
    }
   },
   "source": [
    "Exogenous variables..."
   ]
  },
  {
   "cell_type": "markdown",
   "metadata": {
    "slideshow": {
     "slide_type": "skip"
    }
   },
   "source": [
    "Train, Validation, and Test sets for time series..."
   ]
  }
 ],
 "metadata": {
  "celltoolbar": "Slideshow",
  "kernelspec": {
   "display_name": "Python 3",
   "language": "python",
   "name": "python3"
  },
  "language_info": {
   "codemirror_mode": {
    "name": "ipython",
    "version": 3
   },
   "file_extension": ".py",
   "mimetype": "text/x-python",
   "name": "python",
   "nbconvert_exporter": "python",
   "pygments_lexer": "ipython3",
   "version": "3.7.6"
  }
 },
 "nbformat": 4,
 "nbformat_minor": 4
}
