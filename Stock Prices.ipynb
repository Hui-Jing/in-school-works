{
 "cells": [
  {
   "cell_type": "code",
   "execution_count": 1,
   "metadata": {},
   "outputs": [],
   "source": [
    "import numpy as np\n",
    "import pandas as pd\n",
    "import matplotlib.pyplot as plt\n",
    "import datetime as dt\n",
    "%matplotlib inline"
   ]
  },
  {
   "cell_type": "code",
   "execution_count": 2,
   "metadata": {},
   "outputs": [
    {
     "data": {
      "text/html": [
       "<div>\n",
       "<style scoped>\n",
       "    .dataframe tbody tr th:only-of-type {\n",
       "        vertical-align: middle;\n",
       "    }\n",
       "\n",
       "    .dataframe tbody tr th {\n",
       "        vertical-align: top;\n",
       "    }\n",
       "\n",
       "    .dataframe thead th {\n",
       "        text-align: right;\n",
       "    }\n",
       "</style>\n",
       "<table border=\"1\" class=\"dataframe\">\n",
       "  <thead>\n",
       "    <tr style=\"text-align: right;\">\n",
       "      <th></th>\n",
       "      <th>Unnamed: 0</th>\n",
       "      <th>Unnamed: 1</th>\n",
       "      <th>Unnamed: 2</th>\n",
       "      <th>Unnamed: 3</th>\n",
       "      <th>Unnamed: 4</th>\n",
       "      <th>Unnamed: 5</th>\n",
       "      <th>Unnamed: 6</th>\n",
       "      <th>Unnamed: 7</th>\n",
       "      <th>Unnamed: 8</th>\n",
       "      <th>Unnamed: 9</th>\n",
       "      <th>Unnamed: 10</th>\n",
       "      <th>Unnamed: 11</th>\n",
       "      <th>Unnamed: 12</th>\n",
       "      <th>Unnamed: 13</th>\n",
       "      <th>Unnamed: 14</th>\n",
       "      <th>Unnamed: 15</th>\n",
       "    </tr>\n",
       "  </thead>\n",
       "  <tbody>\n",
       "    <tr>\n",
       "      <td>0</td>\n",
       "      <td>Stock Market Data Used in \"Irrational Exuberan...</td>\n",
       "      <td>NaN</td>\n",
       "      <td>NaN</td>\n",
       "      <td>NaN</td>\n",
       "      <td>NaN</td>\n",
       "      <td>NaN</td>\n",
       "      <td>NaN</td>\n",
       "      <td>NaN</td>\n",
       "      <td>NaN</td>\n",
       "      <td>NaN</td>\n",
       "      <td>NaN</td>\n",
       "      <td>NaN</td>\n",
       "      <td>Cyclically</td>\n",
       "      <td>NaN</td>\n",
       "      <td>Cyclically</td>\n",
       "      <td>NaN</td>\n",
       "    </tr>\n",
       "    <tr>\n",
       "      <td>1</td>\n",
       "      <td>Robert J. Shiller</td>\n",
       "      <td>NaN</td>\n",
       "      <td>NaN</td>\n",
       "      <td>NaN</td>\n",
       "      <td>NaN</td>\n",
       "      <td>NaN</td>\n",
       "      <td>NaN</td>\n",
       "      <td>NaN</td>\n",
       "      <td>NaN</td>\n",
       "      <td>NaN</td>\n",
       "      <td>NaN</td>\n",
       "      <td>NaN</td>\n",
       "      <td>Adjusted</td>\n",
       "      <td>NaN</td>\n",
       "      <td>Adjusted</td>\n",
       "      <td>NaN</td>\n",
       "    </tr>\n",
       "    <tr>\n",
       "      <td>2</td>\n",
       "      <td>NaN</td>\n",
       "      <td>NaN</td>\n",
       "      <td>NaN</td>\n",
       "      <td>NaN</td>\n",
       "      <td>NaN</td>\n",
       "      <td>NaN</td>\n",
       "      <td>NaN</td>\n",
       "      <td>NaN</td>\n",
       "      <td>NaN</td>\n",
       "      <td>NaN</td>\n",
       "      <td>NaN</td>\n",
       "      <td>NaN</td>\n",
       "      <td>Price</td>\n",
       "      <td>NaN</td>\n",
       "      <td>Total Return Price</td>\n",
       "      <td>NaN</td>\n",
       "    </tr>\n",
       "    <tr>\n",
       "      <td>3</td>\n",
       "      <td>NaN</td>\n",
       "      <td>NaN</td>\n",
       "      <td>NaN</td>\n",
       "      <td>NaN</td>\n",
       "      <td>Consumer</td>\n",
       "      <td>NaN</td>\n",
       "      <td>NaN</td>\n",
       "      <td>NaN</td>\n",
       "      <td>NaN</td>\n",
       "      <td>Real</td>\n",
       "      <td>NaN</td>\n",
       "      <td>Real</td>\n",
       "      <td>Earnings</td>\n",
       "      <td>NaN</td>\n",
       "      <td>Earnings</td>\n",
       "      <td>NaN</td>\n",
       "    </tr>\n",
       "    <tr>\n",
       "      <td>4</td>\n",
       "      <td>NaN</td>\n",
       "      <td>S&amp;P</td>\n",
       "      <td>NaN</td>\n",
       "      <td>NaN</td>\n",
       "      <td>Price</td>\n",
       "      <td>NaN</td>\n",
       "      <td>Long</td>\n",
       "      <td>NaN</td>\n",
       "      <td>NaN</td>\n",
       "      <td>Total</td>\n",
       "      <td>NaN</td>\n",
       "      <td>TR</td>\n",
       "      <td>Ratio</td>\n",
       "      <td>NaN</td>\n",
       "      <td>Ratio</td>\n",
       "      <td>NaN</td>\n",
       "    </tr>\n",
       "  </tbody>\n",
       "</table>\n",
       "</div>"
      ],
      "text/plain": [
       "                                          Unnamed: 0 Unnamed: 1 Unnamed: 2  \\\n",
       "0  Stock Market Data Used in \"Irrational Exuberan...        NaN        NaN   \n",
       "1                                 Robert J. Shiller         NaN        NaN   \n",
       "2                                                NaN        NaN        NaN   \n",
       "3                                                NaN        NaN        NaN   \n",
       "4                                                NaN        S&P        NaN   \n",
       "\n",
       "  Unnamed: 3  Unnamed: 4 Unnamed: 5 Unnamed: 6 Unnamed: 7 Unnamed: 8  \\\n",
       "0        NaN         NaN        NaN        NaN        NaN        NaN   \n",
       "1        NaN         NaN        NaN        NaN        NaN        NaN   \n",
       "2        NaN         NaN        NaN        NaN        NaN        NaN   \n",
       "3        NaN    Consumer        NaN        NaN        NaN        NaN   \n",
       "4        NaN       Price        NaN       Long        NaN        NaN   \n",
       "\n",
       "  Unnamed: 9 Unnamed: 10 Unnamed: 11 Unnamed: 12  Unnamed: 13  \\\n",
       "0        NaN         NaN         NaN  Cyclically          NaN   \n",
       "1        NaN         NaN         NaN    Adjusted          NaN   \n",
       "2        NaN         NaN         NaN       Price          NaN   \n",
       "3       Real         NaN        Real    Earnings          NaN   \n",
       "4      Total         NaN          TR       Ratio          NaN   \n",
       "\n",
       "          Unnamed: 14  Unnamed: 15  \n",
       "0         Cyclically           NaN  \n",
       "1            Adjusted          NaN  \n",
       "2  Total Return Price          NaN  \n",
       "3            Earnings          NaN  \n",
       "4               Ratio          NaN  "
      ]
     },
     "execution_count": 2,
     "metadata": {},
     "output_type": "execute_result"
    }
   ],
   "source": [
    "# Import S&P 500 Data from Robert Shiller Website\n",
    "SP500 = pd.read_excel('http://www.econ.yale.edu/~shiller/data/ie_data.xls','Data')\n",
    "SP500.head()"
   ]
  },
  {
   "cell_type": "code",
   "execution_count": 3,
   "metadata": {},
   "outputs": [
    {
     "data": {
      "text/html": [
       "<div>\n",
       "<style scoped>\n",
       "    .dataframe tbody tr th:only-of-type {\n",
       "        vertical-align: middle;\n",
       "    }\n",
       "\n",
       "    .dataframe tbody tr th {\n",
       "        vertical-align: top;\n",
       "    }\n",
       "\n",
       "    .dataframe thead th {\n",
       "        text-align: right;\n",
       "    }\n",
       "</style>\n",
       "<table border=\"1\" class=\"dataframe\">\n",
       "  <thead>\n",
       "    <tr style=\"text-align: right;\">\n",
       "      <th></th>\n",
       "      <th>Date</th>\n",
       "      <th>P</th>\n",
       "      <th>D</th>\n",
       "      <th>E</th>\n",
       "      <th>CPI</th>\n",
       "      <th>Fraction</th>\n",
       "      <th>Rate GS10</th>\n",
       "      <th>Price</th>\n",
       "      <th>Dividend</th>\n",
       "      <th>Price.1</th>\n",
       "      <th>Earnings</th>\n",
       "      <th>Earnings.1</th>\n",
       "      <th>CAPE</th>\n",
       "      <th>Unnamed: 13</th>\n",
       "      <th>TR CAPE</th>\n",
       "      <th>Unnamed: 15</th>\n",
       "    </tr>\n",
       "  </thead>\n",
       "  <tbody>\n",
       "    <tr>\n",
       "      <td>0</td>\n",
       "      <td>1871.01</td>\n",
       "      <td>4.44</td>\n",
       "      <td>0.260000</td>\n",
       "      <td>0.4</td>\n",
       "      <td>12.4641</td>\n",
       "      <td>1871.041667</td>\n",
       "      <td>5.32</td>\n",
       "      <td>92.530300</td>\n",
       "      <td>5.418441</td>\n",
       "      <td>9.253030e+01</td>\n",
       "      <td>8.336063</td>\n",
       "      <td>8.336063</td>\n",
       "      <td>NaN</td>\n",
       "      <td>NaN</td>\n",
       "      <td>NaN</td>\n",
       "      <td>NaN</td>\n",
       "    </tr>\n",
       "    <tr>\n",
       "      <td>1</td>\n",
       "      <td>1871.02</td>\n",
       "      <td>4.5</td>\n",
       "      <td>0.260000</td>\n",
       "      <td>0.4</td>\n",
       "      <td>12.8446</td>\n",
       "      <td>1871.125000</td>\n",
       "      <td>5.32333</td>\n",
       "      <td>91.002035</td>\n",
       "      <td>5.257895</td>\n",
       "      <td>9.144019e+01</td>\n",
       "      <td>8.089070</td>\n",
       "      <td>8.128017</td>\n",
       "      <td>NaN</td>\n",
       "      <td>NaN</td>\n",
       "      <td>NaN</td>\n",
       "      <td>NaN</td>\n",
       "    </tr>\n",
       "    <tr>\n",
       "      <td>2</td>\n",
       "      <td>1871.03</td>\n",
       "      <td>4.61</td>\n",
       "      <td>0.260000</td>\n",
       "      <td>0.4</td>\n",
       "      <td>13.035</td>\n",
       "      <td>1871.208333</td>\n",
       "      <td>5.32667</td>\n",
       "      <td>91.865279</td>\n",
       "      <td>5.181122</td>\n",
       "      <td>9.274143e+01</td>\n",
       "      <td>7.970957</td>\n",
       "      <td>8.046979</td>\n",
       "      <td>NaN</td>\n",
       "      <td>NaN</td>\n",
       "      <td>NaN</td>\n",
       "      <td>NaN</td>\n",
       "    </tr>\n",
       "    <tr>\n",
       "      <td>3</td>\n",
       "      <td>1871.04</td>\n",
       "      <td>4.74</td>\n",
       "      <td>0.260000</td>\n",
       "      <td>0.4</td>\n",
       "      <td>12.5592</td>\n",
       "      <td>1871.291667</td>\n",
       "      <td>5.33</td>\n",
       "      <td>98.033842</td>\n",
       "      <td>5.377384</td>\n",
       "      <td>9.942122e+01</td>\n",
       "      <td>8.272898</td>\n",
       "      <td>8.389976</td>\n",
       "      <td>NaN</td>\n",
       "      <td>NaN</td>\n",
       "      <td>NaN</td>\n",
       "      <td>NaN</td>\n",
       "    </tr>\n",
       "    <tr>\n",
       "      <td>4</td>\n",
       "      <td>1871.05</td>\n",
       "      <td>4.86</td>\n",
       "      <td>0.260000</td>\n",
       "      <td>0.4</td>\n",
       "      <td>12.2738</td>\n",
       "      <td>1871.375000</td>\n",
       "      <td>5.33333</td>\n",
       "      <td>102.853101</td>\n",
       "      <td>5.502429</td>\n",
       "      <td>1.047737e+02</td>\n",
       "      <td>8.465276</td>\n",
       "      <td>8.623350</td>\n",
       "      <td>NaN</td>\n",
       "      <td>NaN</td>\n",
       "      <td>NaN</td>\n",
       "      <td>NaN</td>\n",
       "    </tr>\n",
       "    <tr>\n",
       "      <td>...</td>\n",
       "      <td>...</td>\n",
       "      <td>...</td>\n",
       "      <td>...</td>\n",
       "      <td>...</td>\n",
       "      <td>...</td>\n",
       "      <td>...</td>\n",
       "      <td>...</td>\n",
       "      <td>...</td>\n",
       "      <td>...</td>\n",
       "      <td>...</td>\n",
       "      <td>...</td>\n",
       "      <td>...</td>\n",
       "      <td>...</td>\n",
       "      <td>...</td>\n",
       "      <td>...</td>\n",
       "      <td>...</td>\n",
       "    </tr>\n",
       "    <tr>\n",
       "      <td>1792</td>\n",
       "      <td>2020.05</td>\n",
       "      <td>2919.61</td>\n",
       "      <td>59.646868</td>\n",
       "      <td>103.103</td>\n",
       "      <td>256.394</td>\n",
       "      <td>2020.375000</td>\n",
       "      <td>0.67</td>\n",
       "      <td>2957.864673</td>\n",
       "      <td>60.428297</td>\n",
       "      <td>1.848936e+06</td>\n",
       "      <td>104.454083</td>\n",
       "      <td>65293.340255</td>\n",
       "      <td>27.329646</td>\n",
       "      <td>NaN</td>\n",
       "      <td>29.953171</td>\n",
       "      <td>NaN</td>\n",
       "    </tr>\n",
       "    <tr>\n",
       "      <td>1793</td>\n",
       "      <td>2020.06</td>\n",
       "      <td>3104.66</td>\n",
       "      <td>59.680000</td>\n",
       "      <td>96.49</td>\n",
       "      <td>257.797</td>\n",
       "      <td>2020.458333</td>\n",
       "      <td>0.73</td>\n",
       "      <td>3128.217105</td>\n",
       "      <td>60.132814</td>\n",
       "      <td>1.958554e+06</td>\n",
       "      <td>97.222105</td>\n",
       "      <td>60870.044885</td>\n",
       "      <td>28.843644</td>\n",
       "      <td>NaN</td>\n",
       "      <td>31.619674</td>\n",
       "      <td>NaN</td>\n",
       "    </tr>\n",
       "    <tr>\n",
       "      <td>1794</td>\n",
       "      <td>2020.07</td>\n",
       "      <td>3207.62</td>\n",
       "      <td>NaN</td>\n",
       "      <td>NaN</td>\n",
       "      <td>259.101</td>\n",
       "      <td>2020.541667</td>\n",
       "      <td>0.62</td>\n",
       "      <td>3215.690722</td>\n",
       "      <td>NaN</td>\n",
       "      <td>2.013320e+06</td>\n",
       "      <td>NaN</td>\n",
       "      <td>NaN</td>\n",
       "      <td>29.610927</td>\n",
       "      <td>NaN</td>\n",
       "      <td>32.417381</td>\n",
       "      <td>NaN</td>\n",
       "    </tr>\n",
       "    <tr>\n",
       "      <td>1795</td>\n",
       "      <td>2020.08</td>\n",
       "      <td>3333.69</td>\n",
       "      <td>NaN</td>\n",
       "      <td>NaN</td>\n",
       "      <td>259.753</td>\n",
       "      <td>2020.625000</td>\n",
       "      <td>0.59</td>\n",
       "      <td>3333.690000</td>\n",
       "      <td>NaN</td>\n",
       "      <td>2.087199e+06</td>\n",
       "      <td>NaN</td>\n",
       "      <td>NaN</td>\n",
       "      <td>30.634061</td>\n",
       "      <td>NaN</td>\n",
       "      <td>33.516104</td>\n",
       "      <td>NaN</td>\n",
       "    </tr>\n",
       "    <tr>\n",
       "      <td>1796</td>\n",
       "      <td>NaN</td>\n",
       "      <td>Aug 2020 P is Aug 11 close</td>\n",
       "      <td>NaN</td>\n",
       "      <td>June 2020 S&amp;P Estimate</td>\n",
       "      <td>Aug CPI estimated</td>\n",
       "      <td>NaN</td>\n",
       "      <td>Aug 2020 GS10 is Aug 11 value</td>\n",
       "      <td>NaN</td>\n",
       "      <td>NaN</td>\n",
       "      <td>NaN</td>\n",
       "      <td>NaN</td>\n",
       "      <td>NaN</td>\n",
       "      <td>NaN</td>\n",
       "      <td>NaN</td>\n",
       "      <td>NaN</td>\n",
       "      <td>NaN</td>\n",
       "    </tr>\n",
       "  </tbody>\n",
       "</table>\n",
       "<p>1797 rows × 16 columns</p>\n",
       "</div>"
      ],
      "text/plain": [
       "         Date                           P          D                       E  \\\n",
       "0     1871.01                        4.44   0.260000                     0.4   \n",
       "1     1871.02                         4.5   0.260000                     0.4   \n",
       "2     1871.03                        4.61   0.260000                     0.4   \n",
       "3     1871.04                        4.74   0.260000                     0.4   \n",
       "4     1871.05                        4.86   0.260000                     0.4   \n",
       "...       ...                         ...        ...                     ...   \n",
       "1792  2020.05                     2919.61  59.646868                 103.103   \n",
       "1793  2020.06                     3104.66  59.680000                   96.49   \n",
       "1794  2020.07                     3207.62        NaN                     NaN   \n",
       "1795  2020.08                     3333.69        NaN                     NaN   \n",
       "1796      NaN  Aug 2020 P is Aug 11 close        NaN  June 2020 S&P Estimate   \n",
       "\n",
       "                    CPI     Fraction                      Rate GS10  \\\n",
       "0               12.4641  1871.041667                           5.32   \n",
       "1               12.8446  1871.125000                        5.32333   \n",
       "2                13.035  1871.208333                        5.32667   \n",
       "3               12.5592  1871.291667                           5.33   \n",
       "4               12.2738  1871.375000                        5.33333   \n",
       "...                 ...          ...                            ...   \n",
       "1792            256.394  2020.375000                           0.67   \n",
       "1793            257.797  2020.458333                           0.73   \n",
       "1794            259.101  2020.541667                           0.62   \n",
       "1795            259.753  2020.625000                           0.59   \n",
       "1796  Aug CPI estimated          NaN  Aug 2020 GS10 is Aug 11 value   \n",
       "\n",
       "            Price   Dividend       Price.1    Earnings    Earnings.1  \\\n",
       "0       92.530300   5.418441  9.253030e+01    8.336063      8.336063   \n",
       "1       91.002035   5.257895  9.144019e+01    8.089070      8.128017   \n",
       "2       91.865279   5.181122  9.274143e+01    7.970957      8.046979   \n",
       "3       98.033842   5.377384  9.942122e+01    8.272898      8.389976   \n",
       "4      102.853101   5.502429  1.047737e+02    8.465276      8.623350   \n",
       "...           ...        ...           ...         ...           ...   \n",
       "1792  2957.864673  60.428297  1.848936e+06  104.454083  65293.340255   \n",
       "1793  3128.217105  60.132814  1.958554e+06   97.222105  60870.044885   \n",
       "1794  3215.690722        NaN  2.013320e+06         NaN           NaN   \n",
       "1795  3333.690000        NaN  2.087199e+06         NaN           NaN   \n",
       "1796          NaN        NaN           NaN         NaN           NaN   \n",
       "\n",
       "           CAPE  Unnamed: 13    TR CAPE  Unnamed: 15  \n",
       "0           NaN          NaN        NaN          NaN  \n",
       "1           NaN          NaN        NaN          NaN  \n",
       "2           NaN          NaN        NaN          NaN  \n",
       "3           NaN          NaN        NaN          NaN  \n",
       "4           NaN          NaN        NaN          NaN  \n",
       "...         ...          ...        ...          ...  \n",
       "1792  27.329646          NaN  29.953171          NaN  \n",
       "1793  28.843644          NaN  31.619674          NaN  \n",
       "1794  29.610927          NaN  32.417381          NaN  \n",
       "1795  30.634061          NaN  33.516104          NaN  \n",
       "1796        NaN          NaN        NaN          NaN  \n",
       "\n",
       "[1797 rows x 16 columns]"
      ]
     },
     "execution_count": 3,
     "metadata": {},
     "output_type": "execute_result"
    }
   ],
   "source": [
    "# Use header \n",
    "# Import S&P 500 Data from Robert Shiller Website\n",
    "SP500 = pd.read_excel('http://www.econ.yale.edu/~shiller/data/ie_data.xls','Data', header=7)\n",
    "SP500"
   ]
  },
  {
   "cell_type": "code",
   "execution_count": 4,
   "metadata": {},
   "outputs": [
    {
     "data": {
      "text/html": [
       "<div>\n",
       "<style scoped>\n",
       "    .dataframe tbody tr th:only-of-type {\n",
       "        vertical-align: middle;\n",
       "    }\n",
       "\n",
       "    .dataframe tbody tr th {\n",
       "        vertical-align: top;\n",
       "    }\n",
       "\n",
       "    .dataframe thead th {\n",
       "        text-align: right;\n",
       "    }\n",
       "</style>\n",
       "<table border=\"1\" class=\"dataframe\">\n",
       "  <thead>\n",
       "    <tr style=\"text-align: right;\">\n",
       "      <th></th>\n",
       "      <th>Date</th>\n",
       "      <th>P</th>\n",
       "      <th>D</th>\n",
       "      <th>E</th>\n",
       "      <th>CPI</th>\n",
       "      <th>Fraction</th>\n",
       "      <th>Rate GS10</th>\n",
       "      <th>Price</th>\n",
       "      <th>Dividend</th>\n",
       "      <th>Price.1</th>\n",
       "      <th>Earnings</th>\n",
       "      <th>Earnings.1</th>\n",
       "      <th>CAPE</th>\n",
       "      <th>Unnamed: 13</th>\n",
       "      <th>TR CAPE</th>\n",
       "      <th>Unnamed: 15</th>\n",
       "    </tr>\n",
       "  </thead>\n",
       "  <tbody>\n",
       "    <tr>\n",
       "      <td>0</td>\n",
       "      <td>1871.01</td>\n",
       "      <td>4.440000</td>\n",
       "      <td>0.260000</td>\n",
       "      <td>0.400000</td>\n",
       "      <td>12.464061</td>\n",
       "      <td>1871.041667</td>\n",
       "      <td>5.320000</td>\n",
       "      <td>92.530300</td>\n",
       "      <td>5.418441</td>\n",
       "      <td>9.253030e+01</td>\n",
       "      <td>8.336063</td>\n",
       "      <td>8.336063</td>\n",
       "      <td>NaN</td>\n",
       "      <td>NaN</td>\n",
       "      <td>NaN</td>\n",
       "      <td>NaN</td>\n",
       "    </tr>\n",
       "    <tr>\n",
       "      <td>1</td>\n",
       "      <td>1871.02</td>\n",
       "      <td>4.500000</td>\n",
       "      <td>0.260000</td>\n",
       "      <td>0.400000</td>\n",
       "      <td>12.844641</td>\n",
       "      <td>1871.125000</td>\n",
       "      <td>5.323333</td>\n",
       "      <td>91.002035</td>\n",
       "      <td>5.257895</td>\n",
       "      <td>9.144019e+01</td>\n",
       "      <td>8.089070</td>\n",
       "      <td>8.128017</td>\n",
       "      <td>NaN</td>\n",
       "      <td>NaN</td>\n",
       "      <td>NaN</td>\n",
       "      <td>NaN</td>\n",
       "    </tr>\n",
       "    <tr>\n",
       "      <td>2</td>\n",
       "      <td>1871.03</td>\n",
       "      <td>4.610000</td>\n",
       "      <td>0.260000</td>\n",
       "      <td>0.400000</td>\n",
       "      <td>13.034972</td>\n",
       "      <td>1871.208333</td>\n",
       "      <td>5.326667</td>\n",
       "      <td>91.865279</td>\n",
       "      <td>5.181122</td>\n",
       "      <td>9.274143e+01</td>\n",
       "      <td>7.970957</td>\n",
       "      <td>8.046979</td>\n",
       "      <td>NaN</td>\n",
       "      <td>NaN</td>\n",
       "      <td>NaN</td>\n",
       "      <td>NaN</td>\n",
       "    </tr>\n",
       "    <tr>\n",
       "      <td>3</td>\n",
       "      <td>1871.04</td>\n",
       "      <td>4.740000</td>\n",
       "      <td>0.260000</td>\n",
       "      <td>0.400000</td>\n",
       "      <td>12.559226</td>\n",
       "      <td>1871.291667</td>\n",
       "      <td>5.330000</td>\n",
       "      <td>98.033842</td>\n",
       "      <td>5.377384</td>\n",
       "      <td>9.942122e+01</td>\n",
       "      <td>8.272898</td>\n",
       "      <td>8.389976</td>\n",
       "      <td>NaN</td>\n",
       "      <td>NaN</td>\n",
       "      <td>NaN</td>\n",
       "      <td>NaN</td>\n",
       "    </tr>\n",
       "    <tr>\n",
       "      <td>4</td>\n",
       "      <td>1871.05</td>\n",
       "      <td>4.860000</td>\n",
       "      <td>0.260000</td>\n",
       "      <td>0.400000</td>\n",
       "      <td>12.273812</td>\n",
       "      <td>1871.375000</td>\n",
       "      <td>5.333333</td>\n",
       "      <td>102.853101</td>\n",
       "      <td>5.502429</td>\n",
       "      <td>1.047737e+02</td>\n",
       "      <td>8.465276</td>\n",
       "      <td>8.623350</td>\n",
       "      <td>NaN</td>\n",
       "      <td>NaN</td>\n",
       "      <td>NaN</td>\n",
       "      <td>NaN</td>\n",
       "    </tr>\n",
       "    <tr>\n",
       "      <td>...</td>\n",
       "      <td>...</td>\n",
       "      <td>...</td>\n",
       "      <td>...</td>\n",
       "      <td>...</td>\n",
       "      <td>...</td>\n",
       "      <td>...</td>\n",
       "      <td>...</td>\n",
       "      <td>...</td>\n",
       "      <td>...</td>\n",
       "      <td>...</td>\n",
       "      <td>...</td>\n",
       "      <td>...</td>\n",
       "      <td>...</td>\n",
       "      <td>...</td>\n",
       "      <td>...</td>\n",
       "      <td>...</td>\n",
       "    </tr>\n",
       "    <tr>\n",
       "      <td>1791</td>\n",
       "      <td>2020.04</td>\n",
       "      <td>2761.975238</td>\n",
       "      <td>59.613736</td>\n",
       "      <td>110.083333</td>\n",
       "      <td>256.389000</td>\n",
       "      <td>2020.291667</td>\n",
       "      <td>0.660000</td>\n",
       "      <td>2798.214253</td>\n",
       "      <td>60.395909</td>\n",
       "      <td>1.746167e+06</td>\n",
       "      <td>111.527702</td>\n",
       "      <td>69596.511995</td>\n",
       "      <td>25.927359</td>\n",
       "      <td>NaN</td>\n",
       "      <td>28.407963</td>\n",
       "      <td>NaN</td>\n",
       "    </tr>\n",
       "    <tr>\n",
       "      <td>1792</td>\n",
       "      <td>2020.05</td>\n",
       "      <td>2919.615000</td>\n",
       "      <td>59.646868</td>\n",
       "      <td>103.103333</td>\n",
       "      <td>256.394000</td>\n",
       "      <td>2020.375000</td>\n",
       "      <td>0.670000</td>\n",
       "      <td>2957.864673</td>\n",
       "      <td>60.428297</td>\n",
       "      <td>1.848936e+06</td>\n",
       "      <td>104.454083</td>\n",
       "      <td>65293.340255</td>\n",
       "      <td>27.329646</td>\n",
       "      <td>NaN</td>\n",
       "      <td>29.953171</td>\n",
       "      <td>NaN</td>\n",
       "    </tr>\n",
       "    <tr>\n",
       "      <td>1793</td>\n",
       "      <td>2020.06</td>\n",
       "      <td>3104.660909</td>\n",
       "      <td>59.680000</td>\n",
       "      <td>96.490000</td>\n",
       "      <td>257.797000</td>\n",
       "      <td>2020.458333</td>\n",
       "      <td>0.730000</td>\n",
       "      <td>3128.217105</td>\n",
       "      <td>60.132814</td>\n",
       "      <td>1.958554e+06</td>\n",
       "      <td>97.222105</td>\n",
       "      <td>60870.044885</td>\n",
       "      <td>28.843644</td>\n",
       "      <td>NaN</td>\n",
       "      <td>31.619674</td>\n",
       "      <td>NaN</td>\n",
       "    </tr>\n",
       "    <tr>\n",
       "      <td>1794</td>\n",
       "      <td>2020.07</td>\n",
       "      <td>3207.619091</td>\n",
       "      <td>NaN</td>\n",
       "      <td>NaN</td>\n",
       "      <td>259.101000</td>\n",
       "      <td>2020.541667</td>\n",
       "      <td>0.620000</td>\n",
       "      <td>3215.690722</td>\n",
       "      <td>NaN</td>\n",
       "      <td>2.013320e+06</td>\n",
       "      <td>NaN</td>\n",
       "      <td>NaN</td>\n",
       "      <td>29.610927</td>\n",
       "      <td>NaN</td>\n",
       "      <td>32.417381</td>\n",
       "      <td>NaN</td>\n",
       "    </tr>\n",
       "    <tr>\n",
       "      <td>1795</td>\n",
       "      <td>2020.08</td>\n",
       "      <td>3333.690000</td>\n",
       "      <td>NaN</td>\n",
       "      <td>NaN</td>\n",
       "      <td>259.753000</td>\n",
       "      <td>2020.625000</td>\n",
       "      <td>0.590000</td>\n",
       "      <td>3333.690000</td>\n",
       "      <td>NaN</td>\n",
       "      <td>2.087199e+06</td>\n",
       "      <td>NaN</td>\n",
       "      <td>NaN</td>\n",
       "      <td>30.634061</td>\n",
       "      <td>NaN</td>\n",
       "      <td>33.516104</td>\n",
       "      <td>NaN</td>\n",
       "    </tr>\n",
       "  </tbody>\n",
       "</table>\n",
       "<p>1796 rows × 16 columns</p>\n",
       "</div>"
      ],
      "text/plain": [
       "         Date            P          D           E         CPI     Fraction  \\\n",
       "0     1871.01     4.440000   0.260000    0.400000   12.464061  1871.041667   \n",
       "1     1871.02     4.500000   0.260000    0.400000   12.844641  1871.125000   \n",
       "2     1871.03     4.610000   0.260000    0.400000   13.034972  1871.208333   \n",
       "3     1871.04     4.740000   0.260000    0.400000   12.559226  1871.291667   \n",
       "4     1871.05     4.860000   0.260000    0.400000   12.273812  1871.375000   \n",
       "...       ...          ...        ...         ...         ...          ...   \n",
       "1791  2020.04  2761.975238  59.613736  110.083333  256.389000  2020.291667   \n",
       "1792  2020.05  2919.615000  59.646868  103.103333  256.394000  2020.375000   \n",
       "1793  2020.06  3104.660909  59.680000   96.490000  257.797000  2020.458333   \n",
       "1794  2020.07  3207.619091        NaN         NaN  259.101000  2020.541667   \n",
       "1795  2020.08  3333.690000        NaN         NaN  259.753000  2020.625000   \n",
       "\n",
       "      Rate GS10        Price   Dividend       Price.1    Earnings  \\\n",
       "0      5.320000    92.530300   5.418441  9.253030e+01    8.336063   \n",
       "1      5.323333    91.002035   5.257895  9.144019e+01    8.089070   \n",
       "2      5.326667    91.865279   5.181122  9.274143e+01    7.970957   \n",
       "3      5.330000    98.033842   5.377384  9.942122e+01    8.272898   \n",
       "4      5.333333   102.853101   5.502429  1.047737e+02    8.465276   \n",
       "...         ...          ...        ...           ...         ...   \n",
       "1791   0.660000  2798.214253  60.395909  1.746167e+06  111.527702   \n",
       "1792   0.670000  2957.864673  60.428297  1.848936e+06  104.454083   \n",
       "1793   0.730000  3128.217105  60.132814  1.958554e+06   97.222105   \n",
       "1794   0.620000  3215.690722        NaN  2.013320e+06         NaN   \n",
       "1795   0.590000  3333.690000        NaN  2.087199e+06         NaN   \n",
       "\n",
       "        Earnings.1       CAPE  Unnamed: 13    TR CAPE  Unnamed: 15  \n",
       "0         8.336063        NaN          NaN        NaN          NaN  \n",
       "1         8.128017        NaN          NaN        NaN          NaN  \n",
       "2         8.046979        NaN          NaN        NaN          NaN  \n",
       "3         8.389976        NaN          NaN        NaN          NaN  \n",
       "4         8.623350        NaN          NaN        NaN          NaN  \n",
       "...            ...        ...          ...        ...          ...  \n",
       "1791  69596.511995  25.927359          NaN  28.407963          NaN  \n",
       "1792  65293.340255  27.329646          NaN  29.953171          NaN  \n",
       "1793  60870.044885  28.843644          NaN  31.619674          NaN  \n",
       "1794           NaN  29.610927          NaN  32.417381          NaN  \n",
       "1795           NaN  30.634061          NaN  33.516104          NaN  \n",
       "\n",
       "[1796 rows x 16 columns]"
      ]
     },
     "execution_count": 4,
     "metadata": {},
     "output_type": "execute_result"
    }
   ],
   "source": [
    "# Skip footer \n",
    "SP500 = pd.read_excel('http://www.econ.yale.edu/~shiller/data/ie_data.xls','Data', header=7, skipfooter=1)\n",
    "SP500"
   ]
  },
  {
   "cell_type": "markdown",
   "metadata": {},
   "source": [
    "- The Data does not match Closing Price data as of the month from Yahoo Finance\n",
    "- The Price data here is average of daily closing prices. \n",
    "- We generally do not follow the convention of averaging daily closing prices\n",
    "- But it is good to look at the data and see why there is discrepancy. "
   ]
  },
  {
   "cell_type": "code",
   "execution_count": 5,
   "metadata": {},
   "outputs": [
    {
     "data": {
      "text/plain": [
       "Date           float64\n",
       "P              float64\n",
       "D              float64\n",
       "E              float64\n",
       "CPI            float64\n",
       "Fraction       float64\n",
       "Rate GS10      float64\n",
       "Price          float64\n",
       "Dividend       float64\n",
       "Price.1        float64\n",
       "Earnings       float64\n",
       "Earnings.1     float64\n",
       "CAPE           float64\n",
       "Unnamed: 13    float64\n",
       "TR CAPE        float64\n",
       "Unnamed: 15    float64\n",
       "dtype: object"
      ]
     },
     "execution_count": 5,
     "metadata": {},
     "output_type": "execute_result"
    }
   ],
   "source": [
    "SP500.dtypes"
   ]
  },
  {
   "cell_type": "code",
   "execution_count": 7,
   "metadata": {},
   "outputs": [],
   "source": [
    "# Convert the date in python\n",
    "# Floor gives the largest integer that is lower than the input \n",
    "year=np.floor(SP500[\"Date\"])\n",
    "# Subtract the year from the Dat and multiply by 100 to get the mont\n",
    "month=(SP500[\"Date\"]-year)*100"
   ]
  },
  {
   "cell_type": "code",
   "execution_count": 6,
   "metadata": {
    "scrolled": true
   },
   "outputs": [
    {
     "data": {
      "text/plain": [
       "0       1871.0\n",
       "1       1871.0\n",
       "2       1871.0\n",
       "3       1871.0\n",
       "4       1871.0\n",
       "         ...  \n",
       "1791    2020.0\n",
       "1792    2020.0\n",
       "1793    2020.0\n",
       "1794    2020.0\n",
       "1795    2020.0\n",
       "Name: Date, Length: 1796, dtype: float64"
      ]
     },
     "execution_count": 6,
     "metadata": {},
     "output_type": "execute_result"
    }
   ],
   "source": [
    "year=np.floor(SP500[\"Date\"])\n",
    "year"
   ]
  },
  {
   "cell_type": "code",
   "execution_count": 8,
   "metadata": {},
   "outputs": [
    {
     "data": {
      "text/plain": [
       "0      1871-01-01\n",
       "1      1871-02-01\n",
       "2      1871-03-01\n",
       "3      1871-04-01\n",
       "4      1871-05-01\n",
       "          ...    \n",
       "1791   2020-04-01\n",
       "1792   2020-05-01\n",
       "1793   2020-06-01\n",
       "1794   2020-07-01\n",
       "1795   2020-08-01\n",
       "Name: Date_1, Length: 1796, dtype: datetime64[ns]"
      ]
     },
     "execution_count": 8,
     "metadata": {},
     "output_type": "execute_result"
    }
   ],
   "source": [
    "SP500[\"Date_1\"]=pd.to_datetime({\"year\":year,\"month\":month, \"day\":1})\n",
    "SP500[\"Date_1\"]"
   ]
  },
  {
   "cell_type": "code",
   "execution_count": 9,
   "metadata": {
    "scrolled": false
   },
   "outputs": [
    {
     "data": {
      "text/plain": [
       "0   1871-01-31\n",
       "1   1871-02-28\n",
       "2   1871-03-31\n",
       "3   1871-04-30\n",
       "4   1871-05-31\n",
       "Name: Date_1, dtype: datetime64[ns]"
      ]
     },
     "execution_count": 9,
     "metadata": {},
     "output_type": "execute_result"
    }
   ],
   "source": [
    "# Create a new datetime column using to_datetime()\n",
    "# The input is dictionary data structure\n",
    "# Dictonaries are called key value stores\n",
    "# they are not ordered or sortable\n",
    "\n",
    "SP500[\"Date_1\"]=pd.to_datetime({\"year\":year,\"month\":month, \"day\":1})+pd.offsets.MonthEnd(1)\n",
    "SP500[\"Date_1\"].head()"
   ]
  },
  {
   "cell_type": "code",
   "execution_count": 13,
   "metadata": {},
   "outputs": [
    {
     "data": {
      "text/plain": [
       "1.0"
      ]
     },
     "execution_count": 13,
     "metadata": {},
     "output_type": "execute_result"
    }
   ],
   "source": [
    "ff_date=20201001 #YYYYMMDD\n",
    "type(ff_date)\n",
    "year=np.floor(ff_date/10000)\n",
    "month=np.floor((ff_date-year*10000)/100)\n",
    "day=ff_date-year*10000-month*100\n",
    "day"
   ]
  },
  {
   "cell_type": "code",
   "execution_count": 8,
   "metadata": {},
   "outputs": [
    {
     "data": {
      "text/plain": [
       "0   1871-01-31\n",
       "1   1871-02-28\n",
       "2   1871-03-31\n",
       "3   1871-04-30\n",
       "4   1871-05-31\n",
       "Name: Date_1, dtype: datetime64[ns]"
      ]
     },
     "execution_count": 8,
     "metadata": {},
     "output_type": "execute_result"
    }
   ],
   "source": [
    "# Move the data of end of the month date\n",
    "# This will be helpful in the future when you are merging datasets\n",
    "SP500[\"Date_1\"]=pd.to_datetime({\"year\":year,\"month\":month, \"day\":1})+pd.offsets.MonthEnd(1)\n",
    "SP500[\"Date_1\"].head()"
   ]
  },
  {
   "cell_type": "code",
   "execution_count": 9,
   "metadata": {},
   "outputs": [
    {
     "data": {
      "text/plain": [
       "Date                  float64\n",
       "P                     float64\n",
       "D                     float64\n",
       "E                     float64\n",
       "CPI                   float64\n",
       "Fraction              float64\n",
       "Rate GS10             float64\n",
       "Price                 float64\n",
       "Dividend              float64\n",
       "Price.1               float64\n",
       "Earnings              float64\n",
       "Earnings.1            float64\n",
       "CAPE                  float64\n",
       "Unnamed: 13           float64\n",
       "TR CAPE               float64\n",
       "Unnamed: 15           float64\n",
       "Date_1         datetime64[ns]\n",
       "dtype: object"
      ]
     },
     "execution_count": 9,
     "metadata": {},
     "output_type": "execute_result"
    }
   ],
   "source": [
    "SP500.dtypes"
   ]
  },
  {
   "cell_type": "code",
   "execution_count": 14,
   "metadata": {},
   "outputs": [],
   "source": [
    "SP500.index=SP500[\"Date_1\"]"
   ]
  },
  {
   "cell_type": "code",
   "execution_count": 15,
   "metadata": {},
   "outputs": [
    {
     "data": {
      "text/plain": [
       "<matplotlib.axes._subplots.AxesSubplot at 0x117f3a95c88>"
      ]
     },
     "execution_count": 15,
     "metadata": {},
     "output_type": "execute_result"
    },
    {
     "data": {
      "image/png": "[encoded data removed]",
      "text/plain": [
       "<Figure size 432x288 with 1 Axes>"
      ]
     },
     "metadata": {
      "needs_background": "light"
     },
     "output_type": "display_data"
    }
   ],
   "source": [
    "# Plot the S&P 500 price\n",
    "SP500[\"P\"].plot()"
   ]
  },
  {
   "cell_type": "markdown",
   "metadata": {},
   "source": [
    "- Is this a linear curve or exponential curve?"
   ]
  },
  {
   "cell_type": "markdown",
   "metadata": {},
   "source": [
    "# Task 1 \n",
    "- Plot the SP500 from 1920 to 1954\n",
    "- What do you see?\n",
    "# Task 2\n",
    "- Plot the SP500 from 1990 and recessions like we did for bond spreads\n",
    "- What do you learn from this?\n",
    "- NBER Recession Dates <br>\n",
    "   -1990/8/1 to 1991/3/31 <br>\n",
    "   -2001/4/1 to 2001/11/30 <br>\n",
    "   -2008/1/1 to 2009/6/30 <br>\n",
    "   -2020/3/1 to 2020/7/31 <br>\n",
    "\n",
    "# Task 3\n",
    "- Compute the return of S&P 500 each month\n",
    "- The dividend each month is D/12 \n",
    "\n",
    "# Task 4\n",
    "- Compute the historical average of S&P 500 returns \n",
    "\n",
    "# Task 5\n",
    "- Adjust the S&P 500 return for inflation?\n",
    "    - Compute the historical average\n",
    "- Compute the monthly return in excess of 10 year bonds ?\n",
    "    - Compute the historical average\n",
    "    \n",
    "  \n",
    "# Task 6\n",
    "- Extract the end of the year data\n",
    "- Compute annual inflation and plot it against 10 year bond rate\n",
    "\n",
    "# Task 7\n",
    "- Compute the annual returns\n",
    "- Compute the annual returns using monthly data"
   ]
  },
  {
   "cell_type": "markdown",
   "metadata": {},
   "source": [
    "# Task 1 \n",
    "- Plot the SP500 from 1920 to 1954\n",
    "- What do you see?"
   ]
  },
  {
   "cell_type": "code",
   "execution_count": 17,
   "metadata": {},
   "outputs": [
    {
     "data": {
      "text/html": [
       "<div>\n",
       "<style scoped>\n",
       "    .dataframe tbody tr th:only-of-type {\n",
       "        vertical-align: middle;\n",
       "    }\n",
       "\n",
       "    .dataframe tbody tr th {\n",
       "        vertical-align: top;\n",
       "    }\n",
       "\n",
       "    .dataframe thead th {\n",
       "        text-align: right;\n",
       "    }\n",
       "</style>\n",
       "<table border=\"1\" class=\"dataframe\">\n",
       "  <thead>\n",
       "    <tr style=\"text-align: right;\">\n",
       "      <th></th>\n",
       "      <th>Date</th>\n",
       "      <th>P</th>\n",
       "      <th>D</th>\n",
       "      <th>E</th>\n",
       "      <th>CPI</th>\n",
       "      <th>Fraction</th>\n",
       "      <th>Rate GS10</th>\n",
       "      <th>Price</th>\n",
       "      <th>Dividend</th>\n",
       "      <th>Price.1</th>\n",
       "      <th>Earnings</th>\n",
       "      <th>Earnings.1</th>\n",
       "      <th>CAPE</th>\n",
       "      <th>Unnamed: 13</th>\n",
       "      <th>TR CAPE</th>\n",
       "      <th>Unnamed: 15</th>\n",
       "      <th>Date_1</th>\n",
       "    </tr>\n",
       "    <tr>\n",
       "      <th>Date_1</th>\n",
       "      <th></th>\n",
       "      <th></th>\n",
       "      <th></th>\n",
       "      <th></th>\n",
       "      <th></th>\n",
       "      <th></th>\n",
       "      <th></th>\n",
       "      <th></th>\n",
       "      <th></th>\n",
       "      <th></th>\n",
       "      <th></th>\n",
       "      <th></th>\n",
       "      <th></th>\n",
       "      <th></th>\n",
       "      <th></th>\n",
       "      <th></th>\n",
       "      <th></th>\n",
       "    </tr>\n",
       "  </thead>\n",
       "  <tbody>\n",
       "    <tr>\n",
       "      <td>1871-01-31</td>\n",
       "      <td>1871.01</td>\n",
       "      <td>4.44</td>\n",
       "      <td>0.26000</td>\n",
       "      <td>0.40000</td>\n",
       "      <td>12.464061</td>\n",
       "      <td>1871.041667</td>\n",
       "      <td>5.320000</td>\n",
       "      <td>92.530300</td>\n",
       "      <td>5.418441</td>\n",
       "      <td>92.530300</td>\n",
       "      <td>8.336063</td>\n",
       "      <td>8.336063</td>\n",
       "      <td>NaN</td>\n",
       "      <td>NaN</td>\n",
       "      <td>NaN</td>\n",
       "      <td>NaN</td>\n",
       "      <td>1871-01-31</td>\n",
       "    </tr>\n",
       "    <tr>\n",
       "      <td>1871-02-28</td>\n",
       "      <td>1871.02</td>\n",
       "      <td>4.50</td>\n",
       "      <td>0.26000</td>\n",
       "      <td>0.40000</td>\n",
       "      <td>12.844641</td>\n",
       "      <td>1871.125000</td>\n",
       "      <td>5.323333</td>\n",
       "      <td>91.002035</td>\n",
       "      <td>5.257895</td>\n",
       "      <td>91.440193</td>\n",
       "      <td>8.089070</td>\n",
       "      <td>8.128017</td>\n",
       "      <td>NaN</td>\n",
       "      <td>NaN</td>\n",
       "      <td>NaN</td>\n",
       "      <td>NaN</td>\n",
       "      <td>1871-02-28</td>\n",
       "    </tr>\n",
       "    <tr>\n",
       "      <td>1871-03-31</td>\n",
       "      <td>1871.03</td>\n",
       "      <td>4.61</td>\n",
       "      <td>0.26000</td>\n",
       "      <td>0.40000</td>\n",
       "      <td>13.034972</td>\n",
       "      <td>1871.208333</td>\n",
       "      <td>5.326667</td>\n",
       "      <td>91.865279</td>\n",
       "      <td>5.181122</td>\n",
       "      <td>92.741432</td>\n",
       "      <td>7.970957</td>\n",
       "      <td>8.046979</td>\n",
       "      <td>NaN</td>\n",
       "      <td>NaN</td>\n",
       "      <td>NaN</td>\n",
       "      <td>NaN</td>\n",
       "      <td>1871-03-31</td>\n",
       "    </tr>\n",
       "    <tr>\n",
       "      <td>1871-04-30</td>\n",
       "      <td>1871.04</td>\n",
       "      <td>4.74</td>\n",
       "      <td>0.26000</td>\n",
       "      <td>0.40000</td>\n",
       "      <td>12.559226</td>\n",
       "      <td>1871.291667</td>\n",
       "      <td>5.330000</td>\n",
       "      <td>98.033842</td>\n",
       "      <td>5.377384</td>\n",
       "      <td>99.421216</td>\n",
       "      <td>8.272898</td>\n",
       "      <td>8.389976</td>\n",
       "      <td>NaN</td>\n",
       "      <td>NaN</td>\n",
       "      <td>NaN</td>\n",
       "      <td>NaN</td>\n",
       "      <td>1871-04-30</td>\n",
       "    </tr>\n",
       "    <tr>\n",
       "      <td>1871-05-31</td>\n",
       "      <td>1871.05</td>\n",
       "      <td>4.86</td>\n",
       "      <td>0.26000</td>\n",
       "      <td>0.40000</td>\n",
       "      <td>12.273812</td>\n",
       "      <td>1871.375000</td>\n",
       "      <td>5.333333</td>\n",
       "      <td>102.853101</td>\n",
       "      <td>5.502429</td>\n",
       "      <td>104.773702</td>\n",
       "      <td>8.465276</td>\n",
       "      <td>8.623350</td>\n",
       "      <td>NaN</td>\n",
       "      <td>NaN</td>\n",
       "      <td>NaN</td>\n",
       "      <td>NaN</td>\n",
       "      <td>1871-05-31</td>\n",
       "    </tr>\n",
       "    <tr>\n",
       "      <td>...</td>\n",
       "      <td>...</td>\n",
       "      <td>...</td>\n",
       "      <td>...</td>\n",
       "      <td>...</td>\n",
       "      <td>...</td>\n",
       "      <td>...</td>\n",
       "      <td>...</td>\n",
       "      <td>...</td>\n",
       "      <td>...</td>\n",
       "      <td>...</td>\n",
       "      <td>...</td>\n",
       "      <td>...</td>\n",
       "      <td>...</td>\n",
       "      <td>...</td>\n",
       "      <td>...</td>\n",
       "      <td>...</td>\n",
       "      <td>...</td>\n",
       "    </tr>\n",
       "    <tr>\n",
       "      <td>1954-08-31</td>\n",
       "      <td>1954.08</td>\n",
       "      <td>30.73</td>\n",
       "      <td>1.46333</td>\n",
       "      <td>2.62667</td>\n",
       "      <td>26.900000</td>\n",
       "      <td>1954.625000</td>\n",
       "      <td>2.360000</td>\n",
       "      <td>296.736420</td>\n",
       "      <td>14.130274</td>\n",
       "      <td>25987.102015</td>\n",
       "      <td>25.363770</td>\n",
       "      <td>2221.267206</td>\n",
       "      <td>14.042112</td>\n",
       "      <td>NaN</td>\n",
       "      <td>18.047877</td>\n",
       "      <td>NaN</td>\n",
       "      <td>1954-08-31</td>\n",
       "    </tr>\n",
       "    <tr>\n",
       "      <td>1954-09-30</td>\n",
       "      <td>1954.09</td>\n",
       "      <td>31.45</td>\n",
       "      <td>1.47000</td>\n",
       "      <td>2.63000</td>\n",
       "      <td>26.800000</td>\n",
       "      <td>1954.708333</td>\n",
       "      <td>2.380000</td>\n",
       "      <td>304.822084</td>\n",
       "      <td>14.247646</td>\n",
       "      <td>26799.195008</td>\n",
       "      <td>25.490686</td>\n",
       "      <td>2241.077357</td>\n",
       "      <td>14.356474</td>\n",
       "      <td>NaN</td>\n",
       "      <td>18.445764</td>\n",
       "      <td>NaN</td>\n",
       "      <td>1954-09-30</td>\n",
       "    </tr>\n",
       "    <tr>\n",
       "      <td>1954-10-31</td>\n",
       "      <td>1954.10</td>\n",
       "      <td>32.18</td>\n",
       "      <td>1.49333</td>\n",
       "      <td>2.67667</td>\n",
       "      <td>26.800000</td>\n",
       "      <td>1954.791667</td>\n",
       "      <td>2.430000</td>\n",
       "      <td>311.897446</td>\n",
       "      <td>14.473767</td>\n",
       "      <td>27527.284542</td>\n",
       "      <td>25.943025</td>\n",
       "      <td>2289.666150</td>\n",
       "      <td>14.619232</td>\n",
       "      <td>NaN</td>\n",
       "      <td>18.776965</td>\n",
       "      <td>NaN</td>\n",
       "      <td>1954-10-31</td>\n",
       "    </tr>\n",
       "    <tr>\n",
       "      <td>1954-11-30</td>\n",
       "      <td>1954.11</td>\n",
       "      <td>33.44</td>\n",
       "      <td>1.51667</td>\n",
       "      <td>2.72333</td>\n",
       "      <td>26.800000</td>\n",
       "      <td>1954.875000</td>\n",
       "      <td>2.480000</td>\n",
       "      <td>324.109713</td>\n",
       "      <td>14.699984</td>\n",
       "      <td>28713.223917</td>\n",
       "      <td>26.395266</td>\n",
       "      <td>2338.384692</td>\n",
       "      <td>15.117312</td>\n",
       "      <td>NaN</td>\n",
       "      <td>19.407607</td>\n",
       "      <td>NaN</td>\n",
       "      <td>1954-11-30</td>\n",
       "    </tr>\n",
       "    <tr>\n",
       "      <td>1954-12-31</td>\n",
       "      <td>1954.12</td>\n",
       "      <td>34.97</td>\n",
       "      <td>1.54000</td>\n",
       "      <td>2.77000</td>\n",
       "      <td>26.700000</td>\n",
       "      <td>1954.958333</td>\n",
       "      <td>2.510000</td>\n",
       "      <td>340.208330</td>\n",
       "      <td>14.982008</td>\n",
       "      <td>30250.023465</td>\n",
       "      <td>26.948158</td>\n",
       "      <td>2396.127109</td>\n",
       "      <td>15.789062</td>\n",
       "      <td>NaN</td>\n",
       "      <td>20.257529</td>\n",
       "      <td>NaN</td>\n",
       "      <td>1954-12-31</td>\n",
       "    </tr>\n",
       "  </tbody>\n",
       "</table>\n",
       "<p>1008 rows × 17 columns</p>\n",
       "</div>"
      ],
      "text/plain": [
       "               Date      P        D        E        CPI     Fraction  \\\n",
       "Date_1                                                                 \n",
       "1871-01-31  1871.01   4.44  0.26000  0.40000  12.464061  1871.041667   \n",
       "1871-02-28  1871.02   4.50  0.26000  0.40000  12.844641  1871.125000   \n",
       "1871-03-31  1871.03   4.61  0.26000  0.40000  13.034972  1871.208333   \n",
       "1871-04-30  1871.04   4.74  0.26000  0.40000  12.559226  1871.291667   \n",
       "1871-05-31  1871.05   4.86  0.26000  0.40000  12.273812  1871.375000   \n",
       "...             ...    ...      ...      ...        ...          ...   \n",
       "1954-08-31  1954.08  30.73  1.46333  2.62667  26.900000  1954.625000   \n",
       "1954-09-30  1954.09  31.45  1.47000  2.63000  26.800000  1954.708333   \n",
       "1954-10-31  1954.10  32.18  1.49333  2.67667  26.800000  1954.791667   \n",
       "1954-11-30  1954.11  33.44  1.51667  2.72333  26.800000  1954.875000   \n",
       "1954-12-31  1954.12  34.97  1.54000  2.77000  26.700000  1954.958333   \n",
       "\n",
       "            Rate GS10       Price   Dividend       Price.1   Earnings  \\\n",
       "Date_1                                                                  \n",
       "1871-01-31   5.320000   92.530300   5.418441     92.530300   8.336063   \n",
       "1871-02-28   5.323333   91.002035   5.257895     91.440193   8.089070   \n",
       "1871-03-31   5.326667   91.865279   5.181122     92.741432   7.970957   \n",
       "1871-04-30   5.330000   98.033842   5.377384     99.421216   8.272898   \n",
       "1871-05-31   5.333333  102.853101   5.502429    104.773702   8.465276   \n",
       "...               ...         ...        ...           ...        ...   \n",
       "1954-08-31   2.360000  296.736420  14.130274  25987.102015  25.363770   \n",
       "1954-09-30   2.380000  304.822084  14.247646  26799.195008  25.490686   \n",
       "1954-10-31   2.430000  311.897446  14.473767  27527.284542  25.943025   \n",
       "1954-11-30   2.480000  324.109713  14.699984  28713.223917  26.395266   \n",
       "1954-12-31   2.510000  340.208330  14.982008  30250.023465  26.948158   \n",
       "\n",
       "             Earnings.1       CAPE  Unnamed: 13    TR CAPE  Unnamed: 15  \\\n",
       "Date_1                                                                    \n",
       "1871-01-31     8.336063        NaN          NaN        NaN          NaN   \n",
       "1871-02-28     8.128017        NaN          NaN        NaN          NaN   \n",
       "1871-03-31     8.046979        NaN          NaN        NaN          NaN   \n",
       "1871-04-30     8.389976        NaN          NaN        NaN          NaN   \n",
       "1871-05-31     8.623350        NaN          NaN        NaN          NaN   \n",
       "...                 ...        ...          ...        ...          ...   \n",
       "1954-08-31  2221.267206  14.042112          NaN  18.047877          NaN   \n",
       "1954-09-30  2241.077357  14.356474          NaN  18.445764          NaN   \n",
       "1954-10-31  2289.666150  14.619232          NaN  18.776965          NaN   \n",
       "1954-11-30  2338.384692  15.117312          NaN  19.407607          NaN   \n",
       "1954-12-31  2396.127109  15.789062          NaN  20.257529          NaN   \n",
       "\n",
       "               Date_1  \n",
       "Date_1                 \n",
       "1871-01-31 1871-01-31  \n",
       "1871-02-28 1871-02-28  \n",
       "1871-03-31 1871-03-31  \n",
       "1871-04-30 1871-04-30  \n",
       "1871-05-31 1871-05-31  \n",
       "...               ...  \n",
       "1954-08-31 1954-08-31  \n",
       "1954-09-30 1954-09-30  \n",
       "1954-10-31 1954-10-31  \n",
       "1954-11-30 1954-11-30  \n",
       "1954-12-31 1954-12-31  \n",
       "\n",
       "[1008 rows x 17 columns]"
      ]
     },
     "execution_count": 17,
     "metadata": {},
     "output_type": "execute_result"
    }
   ],
   "source": [
    "SP500[SP500[\"Date\"]<=1954.12]"
   ]
  },
  {
   "cell_type": "code",
   "execution_count": 12,
   "metadata": {},
   "outputs": [
    {
     "data": {
      "text/plain": [
       "<matplotlib.axes._subplots.AxesSubplot at 0x19e14b78518>"
      ]
     },
     "execution_count": 12,
     "metadata": {},
     "output_type": "execute_result"
    },
    {
     "data": {
      "image/png": "[encoded data removed]",
      "text/plain": [
       "<Figure size 432x288 with 1 Axes>"
      ]
     },
     "metadata": {
      "needs_background": "light"
     },
     "output_type": "display_data"
    }
   ],
   "source": [
    "# You can subset rows in Dataframe by the following\n",
    "# DF = [DF[\"Column_Name\"]>=Condition]\n",
    "SP500[(SP500[\"Date\"]>=1920.01) & (SP500[\"Date\"]<=1954.12)][\"P\"].plot().plot()"
   ]
  },
  {
   "cell_type": "markdown",
   "metadata": {},
   "source": [
    "# Task 2\n",
    "- Plot the SP500 from 1990 and recessions like we did for bond spreads\n",
    "- What do you learn from this?\n",
    "- NBER Recession Dates <br>\n",
    "   -1990/8/1 to 1991/3/31 <br>\n",
    "   -2001/4/1 to 2001/11/30 <br>\n",
    "   -2008/1/1 to 2009/6/30 <br>\n",
    "   -2020/3/1 to 2020/7/31 <br>"
   ]
  },
  {
   "cell_type": "code",
   "execution_count": 19,
   "metadata": {},
   "outputs": [
    {
     "data": {
      "image/png": "[encoded data removed]",
      "text/plain": [
       "<Figure size 432x288 with 1 Axes>"
      ]
     },
     "metadata": {
      "needs_background": "light"
     },
     "output_type": "display_data"
    }
   ],
   "source": [
    "# Plot the S&P 500 against Recessions\n",
    "SP500[(SP500[\"Date\"]>=1990.01)][\"P\"].plot()\n",
    "# 1990 recession\n",
    "plt.axvspan(dt.date(1990,8,1), dt.date(1991,3,31), color='lightgrey')\n",
    "# 2001 recession\n",
    "plt.axvspan(dt.date(2001,4,1), dt.date(2001,11,30), color='lightgrey')\n",
    "# 2008 recession\n",
    "plt.axvspan(dt.date(2008,1,1), dt.date(2009,6,30), color='lightgrey')\n",
    "# 2020 recession\n",
    "plt.axvspan(dt.date(2020,3,1), dt.date(2020,9,30), color='lightgrey')\n",
    "plt.axhline(y=0,color='k')\n",
    "plt.ylabel(\"S&P 500\")\n",
    "plt.show()"
   ]
  },
  {
   "cell_type": "markdown",
   "metadata": {},
   "source": [
    "- Why is the recovery so quick in current recession?"
   ]
  },
  {
   "cell_type": "markdown",
   "metadata": {},
   "source": [
    "# Task 3\n",
    "- Compute the return of S&P 500 each month\n",
    "- The dividend each month is D/12 "
   ]
  },
  {
   "cell_type": "markdown",
   "metadata": {},
   "source": [
    "- Let us compute the returns\n",
    "$$ return = \\frac{P_1 + Div_1 - P_0}{P_0} $$"
   ]
  },
  {
   "cell_type": "code",
   "execution_count": 20,
   "metadata": {},
   "outputs": [],
   "source": [
    "# We saw this short cut last class\n",
    "SP500[\"Returns\"]=(SP500[\"P\"]+SP500[\"D\"]/12)/SP500[\"P\"].shift(1)-1"
   ]
  },
  {
   "cell_type": "code",
   "execution_count": 15,
   "metadata": {},
   "outputs": [],
   "source": [
    "# Compute the statistics of S&P 500 returns"
   ]
  },
  {
   "cell_type": "code",
   "execution_count": 22,
   "metadata": {},
   "outputs": [
    {
     "data": {
      "text/plain": [
       "Date_1\n",
       "1871-02-28    0.018393\n",
       "1871-03-31    0.029259\n",
       "1871-04-30    0.032899\n",
       "1871-05-31    0.029887\n",
       "1871-06-30   -0.003772\n",
       "                ...   \n",
       "2020-02-29    0.001232\n",
       "2020-03-31   -0.189166\n",
       "2020-04-30    0.043187\n",
       "2020-05-31    0.058875\n",
       "2020-06-30    0.065084\n",
       "Name: Returns, Length: 1793, dtype: float64"
      ]
     },
     "execution_count": 22,
     "metadata": {},
     "output_type": "execute_result"
    }
   ],
   "source": [
    "SP500[\"Returns\"].dropna()"
   ]
  },
  {
   "cell_type": "code",
   "execution_count": 23,
   "metadata": {},
   "outputs": [
    {
     "data": {
      "text/plain": [
       "Date_1\n",
       "1871-02-28    0.018393\n",
       "1871-03-31    0.029259\n",
       "1871-04-30    0.032899\n",
       "1871-05-31    0.029887\n",
       "1871-06-30   -0.003772\n",
       "                ...   \n",
       "2020-02-29    0.001232\n",
       "2020-03-31   -0.189166\n",
       "2020-04-30    0.043187\n",
       "2020-05-31    0.058875\n",
       "2020-06-30    0.065084\n",
       "Name: Returns, Length: 1793, dtype: float64"
      ]
     },
     "execution_count": 23,
     "metadata": {},
     "output_type": "execute_result"
    }
   ],
   "source": [
    "# Compute the descriptive statistics\n",
    "# Drop missing observations\n",
    "Returns=SP500[\"Returns\"].dropna()\n",
    "Returns"
   ]
  },
  {
   "cell_type": "markdown",
   "metadata": {},
   "source": [
    "# Task 4\n",
    "- Compute the average return of S&P 500 historically"
   ]
  },
  {
   "cell_type": "code",
   "execution_count": 24,
   "metadata": {},
   "outputs": [
    {
     "data": {
      "text/plain": [
       "count    1793.000000\n",
       "mean        0.008094\n",
       "std         0.040729\n",
       "min        -0.261879\n",
       "25%        -0.011515\n",
       "50%         0.009889\n",
       "75%         0.030774\n",
       "max         0.513085\n",
       "Name: Returns, dtype: float64"
      ]
     },
     "execution_count": 24,
     "metadata": {},
     "output_type": "execute_result"
    }
   ],
   "source": [
    "# describte function computes the basic statistics\n",
    "# Compute the descriptive statistics\n",
    "Returns.describe()"
   ]
  },
  {
   "cell_type": "markdown",
   "metadata": {},
   "source": [
    "# Task 5\n",
    "- How much is the return adjusted for inflation?"
   ]
  },
  {
   "cell_type": "code",
   "execution_count": 26,
   "metadata": {},
   "outputs": [
    {
     "data": {
      "text/plain": [
       "Date_1\n",
       "1871-01-31         NaN\n",
       "1871-02-28    0.030534\n",
       "1871-03-31    0.014818\n",
       "1871-04-30   -0.036498\n",
       "1871-05-31   -0.022726\n",
       "Name: Inflation, dtype: float64"
      ]
     },
     "execution_count": 26,
     "metadata": {},
     "output_type": "execute_result"
    }
   ],
   "source": [
    "# CPI Data is provided\n",
    "# Compute Inflation\n",
    "SP500[\"Inflation\"]=SP500[\"CPI\"]/SP500[\"CPI\"].shift(1)-1\n",
    "SP500[\"Inflation\"].head()"
   ]
  },
  {
   "cell_type": "code",
   "execution_count": 27,
   "metadata": {},
   "outputs": [
    {
     "data": {
      "text/plain": [
       "count    1793.000000\n",
       "mean        0.006349\n",
       "std         0.041029\n",
       "min        -0.261879\n",
       "25%        -0.013558\n",
       "50%         0.009391\n",
       "75%         0.029225\n",
       "max         0.520438\n",
       "Name: Real_Returns, dtype: float64"
      ]
     },
     "execution_count": 27,
     "metadata": {},
     "output_type": "execute_result"
    }
   ],
   "source": [
    "# Real Returns\n",
    "SP500[\"Real_Returns\"] = SP500[\"Returns\"] - SP500[\"Inflation\"]\n",
    "SP500[\"Real_Returns\"].describe()"
   ]
  },
  {
   "cell_type": "code",
   "execution_count": 28,
   "metadata": {},
   "outputs": [
    {
     "data": {
      "text/plain": [
       "count    1793.000000\n",
       "mean        0.004316\n",
       "std         0.040787\n",
       "min        -0.264664\n",
       "25%        -0.015506\n",
       "50%         0.006258\n",
       "75%         0.027049\n",
       "max         0.510199\n",
       "Name: Excess_Returns, dtype: float64"
      ]
     },
     "execution_count": 28,
     "metadata": {},
     "output_type": "execute_result"
    }
   ],
   "source": [
    "# Adjusted for 5 year government rate\n",
    "# Convert the yield to decimals\n",
    "SP500[\"Rate GS10\"]/=100\n",
    "# Convert that to monthly yield\n",
    "SP500[\"Excess_Returns\"] = Returns - SP500[\"Rate GS10\"]/12\n",
    "# Compute the statistics\n",
    "SP500[\"Excess_Returns\"].describe()"
   ]
  },
  {
   "cell_type": "markdown",
   "metadata": {},
   "source": [
    "# Task 6\n",
    "- Extract the end of the year data\n",
    "- Compute annual inflation and plot it against 10 year bond rate"
   ]
  },
  {
   "cell_type": "code",
   "execution_count": 29,
   "metadata": {},
   "outputs": [],
   "source": [
    "Yearly_data=SP500[SP500.index.month==12].copy()"
   ]
  },
  {
   "cell_type": "code",
   "execution_count": 30,
   "metadata": {},
   "outputs": [
    {
     "data": {
      "text/plain": [
       "pandas.core.frame.DataFrame"
      ]
     },
     "execution_count": 30,
     "metadata": {},
     "output_type": "execute_result"
    }
   ],
   "source": [
    "type(Yearly_data)"
   ]
  },
  {
   "cell_type": "code",
   "execution_count": 43,
   "metadata": {},
   "outputs": [
    {
     "data": {
      "text/html": [
       "<div>\n",
       "<style scoped>\n",
       "    .dataframe tbody tr th:only-of-type {\n",
       "        vertical-align: middle;\n",
       "    }\n",
       "\n",
       "    .dataframe tbody tr th {\n",
       "        vertical-align: top;\n",
       "    }\n",
       "\n",
       "    .dataframe thead th {\n",
       "        text-align: right;\n",
       "    }\n",
       "</style>\n",
       "<table border=\"1\" class=\"dataframe\">\n",
       "  <thead>\n",
       "    <tr style=\"text-align: right;\">\n",
       "      <th></th>\n",
       "      <th>Date</th>\n",
       "      <th>P</th>\n",
       "      <th>D</th>\n",
       "      <th>E</th>\n",
       "      <th>CPI</th>\n",
       "      <th>Fraction</th>\n",
       "      <th>Rate GS10</th>\n",
       "      <th>Price</th>\n",
       "      <th>Dividend</th>\n",
       "      <th>Price.1</th>\n",
       "      <th>...</th>\n",
       "      <th>Earnings.1</th>\n",
       "      <th>CAPE</th>\n",
       "      <th>Unnamed: 13</th>\n",
       "      <th>TR CAPE</th>\n",
       "      <th>Unnamed: 15</th>\n",
       "      <th>Date_1</th>\n",
       "      <th>Returns</th>\n",
       "      <th>Inflation</th>\n",
       "      <th>Excess_Returns</th>\n",
       "      <th>Returns_year</th>\n",
       "    </tr>\n",
       "    <tr>\n",
       "      <th>Date_1</th>\n",
       "      <th></th>\n",
       "      <th></th>\n",
       "      <th></th>\n",
       "      <th></th>\n",
       "      <th></th>\n",
       "      <th></th>\n",
       "      <th></th>\n",
       "      <th></th>\n",
       "      <th></th>\n",
       "      <th></th>\n",
       "      <th></th>\n",
       "      <th></th>\n",
       "      <th></th>\n",
       "      <th></th>\n",
       "      <th></th>\n",
       "      <th></th>\n",
       "      <th></th>\n",
       "      <th></th>\n",
       "      <th></th>\n",
       "      <th></th>\n",
       "      <th></th>\n",
       "    </tr>\n",
       "  </thead>\n",
       "  <tbody>\n",
       "    <tr>\n",
       "      <td>1871-12-31</td>\n",
       "      <td>1871.12</td>\n",
       "      <td>4.740000</td>\n",
       "      <td>0.26</td>\n",
       "      <td>0.40</td>\n",
       "      <td>12.654392</td>\n",
       "      <td>1871.958333</td>\n",
       "      <td>0.053567</td>\n",
       "      <td>97.296594</td>\n",
       "      <td>5.336944</td>\n",
       "      <td>1.023326e+02</td>\n",
       "      <td>...</td>\n",
       "      <td>8.635665</td>\n",
       "      <td>NaN</td>\n",
       "      <td>NaN</td>\n",
       "      <td>NaN</td>\n",
       "      <td>NaN</td>\n",
       "      <td>1871-12-31</td>\n",
       "      <td>0.026221</td>\n",
       "      <td>NaN</td>\n",
       "      <td>0.021757</td>\n",
       "      <td>NaN</td>\n",
       "    </tr>\n",
       "    <tr>\n",
       "      <td>1872-12-31</td>\n",
       "      <td>1872.12</td>\n",
       "      <td>5.070000</td>\n",
       "      <td>0.30</td>\n",
       "      <td>0.43</td>\n",
       "      <td>12.939807</td>\n",
       "      <td>1872.958333</td>\n",
       "      <td>0.055617</td>\n",
       "      <td>101.774914</td>\n",
       "      <td>6.022184</td>\n",
       "      <td>1.131962e+02</td>\n",
       "      <td>...</td>\n",
       "      <td>9.600470</td>\n",
       "      <td>NaN</td>\n",
       "      <td>NaN</td>\n",
       "      <td>NaN</td>\n",
       "      <td>NaN</td>\n",
       "      <td>1872-12-31</td>\n",
       "      <td>0.029293</td>\n",
       "      <td>0.022555</td>\n",
       "      <td>0.024658</td>\n",
       "      <td>0.132911</td>\n",
       "    </tr>\n",
       "    <tr>\n",
       "      <td>1873-12-31</td>\n",
       "      <td>1873.12</td>\n",
       "      <td>4.420000</td>\n",
       "      <td>0.33</td>\n",
       "      <td>0.46</td>\n",
       "      <td>12.178646</td>\n",
       "      <td>1873.958333</td>\n",
       "      <td>0.054792</td>\n",
       "      <td>94.272240</td>\n",
       "      <td>7.038425</td>\n",
       "      <td>1.120318e+02</td>\n",
       "      <td>...</td>\n",
       "      <td>11.659415</td>\n",
       "      <td>NaN</td>\n",
       "      <td>NaN</td>\n",
       "      <td>NaN</td>\n",
       "      <td>NaN</td>\n",
       "      <td>1873-12-31</td>\n",
       "      <td>0.100866</td>\n",
       "      <td>-0.058823</td>\n",
       "      <td>0.096300</td>\n",
       "      <td>-0.063116</td>\n",
       "    </tr>\n",
       "    <tr>\n",
       "      <td>1874-12-31</td>\n",
       "      <td>1874.12</td>\n",
       "      <td>4.540000</td>\n",
       "      <td>0.33</td>\n",
       "      <td>0.46</td>\n",
       "      <td>11.512651</td>\n",
       "      <td>1874.958333</td>\n",
       "      <td>0.051033</td>\n",
       "      <td>102.433279</td>\n",
       "      <td>7.445591</td>\n",
       "      <td>1.308221e+02</td>\n",
       "      <td>...</td>\n",
       "      <td>13.255102</td>\n",
       "      <td>NaN</td>\n",
       "      <td>NaN</td>\n",
       "      <td>NaN</td>\n",
       "      <td>NaN</td>\n",
       "      <td>1874-12-31</td>\n",
       "      <td>-0.000547</td>\n",
       "      <td>-0.054685</td>\n",
       "      <td>-0.004800</td>\n",
       "      <td>0.101810</td>\n",
       "    </tr>\n",
       "    <tr>\n",
       "      <td>1875-12-31</td>\n",
       "      <td>1875.12</td>\n",
       "      <td>4.370000</td>\n",
       "      <td>0.30</td>\n",
       "      <td>0.36</td>\n",
       "      <td>10.941740</td>\n",
       "      <td>1875.958333</td>\n",
       "      <td>0.046300</td>\n",
       "      <td>103.742235</td>\n",
       "      <td>7.121893</td>\n",
       "      <td>1.421490e+02</td>\n",
       "      <td>...</td>\n",
       "      <td>11.710212</td>\n",
       "      <td>NaN</td>\n",
       "      <td>NaN</td>\n",
       "      <td>NaN</td>\n",
       "      <td>NaN</td>\n",
       "      <td>1875-12-31</td>\n",
       "      <td>0.005721</td>\n",
       "      <td>-0.049590</td>\n",
       "      <td>0.001862</td>\n",
       "      <td>0.028634</td>\n",
       "    </tr>\n",
       "    <tr>\n",
       "      <td>...</td>\n",
       "      <td>...</td>\n",
       "      <td>...</td>\n",
       "      <td>...</td>\n",
       "      <td>...</td>\n",
       "      <td>...</td>\n",
       "      <td>...</td>\n",
       "      <td>...</td>\n",
       "      <td>...</td>\n",
       "      <td>...</td>\n",
       "      <td>...</td>\n",
       "      <td>...</td>\n",
       "      <td>...</td>\n",
       "      <td>...</td>\n",
       "      <td>...</td>\n",
       "      <td>...</td>\n",
       "      <td>...</td>\n",
       "      <td>...</td>\n",
       "      <td>...</td>\n",
       "      <td>...</td>\n",
       "      <td>...</td>\n",
       "      <td>...</td>\n",
       "    </tr>\n",
       "    <tr>\n",
       "      <td>2015-12-31</td>\n",
       "      <td>2015.12</td>\n",
       "      <td>2054.080000</td>\n",
       "      <td>43.39</td>\n",
       "      <td>86.53</td>\n",
       "      <td>236.525000</td>\n",
       "      <td>2015.958333</td>\n",
       "      <td>0.022400</td>\n",
       "      <td>2255.801468</td>\n",
       "      <td>47.651126</td>\n",
       "      <td>1.292461e+06</td>\n",
       "      <td>...</td>\n",
       "      <td>54446.097746</td>\n",
       "      <td>25.965424</td>\n",
       "      <td>NaN</td>\n",
       "      <td>28.544377</td>\n",
       "      <td>NaN</td>\n",
       "      <td>2015-12-31</td>\n",
       "      <td>-0.011018</td>\n",
       "      <td>0.007295</td>\n",
       "      <td>-0.012885</td>\n",
       "      <td>0.021029</td>\n",
       "    </tr>\n",
       "    <tr>\n",
       "      <td>2016-12-31</td>\n",
       "      <td>2016.12</td>\n",
       "      <td>2246.630000</td>\n",
       "      <td>45.70</td>\n",
       "      <td>94.55</td>\n",
       "      <td>241.432000</td>\n",
       "      <td>2016.958333</td>\n",
       "      <td>0.024900</td>\n",
       "      <td>2417.114891</td>\n",
       "      <td>49.167932</td>\n",
       "      <td>1.414735e+06</td>\n",
       "      <td>...</td>\n",
       "      <td>59539.476288</td>\n",
       "      <td>27.865098</td>\n",
       "      <td>NaN</td>\n",
       "      <td>30.586142</td>\n",
       "      <td>NaN</td>\n",
       "      <td>2016-12-31</td>\n",
       "      <td>0.039468</td>\n",
       "      <td>0.020746</td>\n",
       "      <td>0.037393</td>\n",
       "      <td>0.115989</td>\n",
       "    </tr>\n",
       "    <tr>\n",
       "      <td>2017-12-31</td>\n",
       "      <td>2017.12</td>\n",
       "      <td>2664.340000</td>\n",
       "      <td>48.93</td>\n",
       "      <td>109.88</td>\n",
       "      <td>246.524000</td>\n",
       "      <td>2017.958333</td>\n",
       "      <td>0.024000</td>\n",
       "      <td>2807.314128</td>\n",
       "      <td>51.555687</td>\n",
       "      <td>1.675253e+06</td>\n",
       "      <td>...</td>\n",
       "      <td>69089.085549</td>\n",
       "      <td>32.086132</td>\n",
       "      <td>NaN</td>\n",
       "      <td>35.017141</td>\n",
       "      <td>NaN</td>\n",
       "      <td>2017-12-31</td>\n",
       "      <td>0.028843</td>\n",
       "      <td>0.021091</td>\n",
       "      <td>0.026843</td>\n",
       "      <td>0.207707</td>\n",
       "    </tr>\n",
       "    <tr>\n",
       "      <td>2018-12-31</td>\n",
       "      <td>2018.12</td>\n",
       "      <td>2567.310000</td>\n",
       "      <td>53.75</td>\n",
       "      <td>132.39</td>\n",
       "      <td>251.233000</td>\n",
       "      <td>2018.958333</td>\n",
       "      <td>0.028300</td>\n",
       "      <td>2654.374523</td>\n",
       "      <td>55.572810</td>\n",
       "      <td>1.613919e+06</td>\n",
       "      <td>...</td>\n",
       "      <td>83225.922142</td>\n",
       "      <td>28.291857</td>\n",
       "      <td>NaN</td>\n",
       "      <td>30.818335</td>\n",
       "      <td>NaN</td>\n",
       "      <td>2018-12-31</td>\n",
       "      <td>-0.055611</td>\n",
       "      <td>0.019102</td>\n",
       "      <td>-0.057969</td>\n",
       "      <td>-0.016244</td>\n",
       "    </tr>\n",
       "    <tr>\n",
       "      <td>2019-12-31</td>\n",
       "      <td>2019.12</td>\n",
       "      <td>3176.749524</td>\n",
       "      <td>58.24</td>\n",
       "      <td>139.47</td>\n",
       "      <td>256.974000</td>\n",
       "      <td>2019.958333</td>\n",
       "      <td>0.018600</td>\n",
       "      <td>3211.103921</td>\n",
       "      <td>58.869826</td>\n",
       "      <td>1.990520e+06</td>\n",
       "      <td>...</td>\n",
       "      <td>87390.520999</td>\n",
       "      <td>30.331822</td>\n",
       "      <td>NaN</td>\n",
       "      <td>33.209288</td>\n",
       "      <td>NaN</td>\n",
       "      <td>2019-12-31</td>\n",
       "      <td>0.024702</td>\n",
       "      <td>0.022851</td>\n",
       "      <td>0.023152</td>\n",
       "      <td>0.260070</td>\n",
       "    </tr>\n",
       "  </tbody>\n",
       "</table>\n",
       "<p>149 rows × 21 columns</p>\n",
       "</div>"
      ],
      "text/plain": [
       "               Date            P      D       E         CPI     Fraction  \\\n",
       "Date_1                                                                     \n",
       "1871-12-31  1871.12     4.740000   0.26    0.40   12.654392  1871.958333   \n",
       "1872-12-31  1872.12     5.070000   0.30    0.43   12.939807  1872.958333   \n",
       "1873-12-31  1873.12     4.420000   0.33    0.46   12.178646  1873.958333   \n",
       "1874-12-31  1874.12     4.540000   0.33    0.46   11.512651  1874.958333   \n",
       "1875-12-31  1875.12     4.370000   0.30    0.36   10.941740  1875.958333   \n",
       "...             ...          ...    ...     ...         ...          ...   \n",
       "2015-12-31  2015.12  2054.080000  43.39   86.53  236.525000  2015.958333   \n",
       "2016-12-31  2016.12  2246.630000  45.70   94.55  241.432000  2016.958333   \n",
       "2017-12-31  2017.12  2664.340000  48.93  109.88  246.524000  2017.958333   \n",
       "2018-12-31  2018.12  2567.310000  53.75  132.39  251.233000  2018.958333   \n",
       "2019-12-31  2019.12  3176.749524  58.24  139.47  256.974000  2019.958333   \n",
       "\n",
       "            Rate GS10        Price   Dividend       Price.1  ...  \\\n",
       "Date_1                                                       ...   \n",
       "1871-12-31   0.053567    97.296594   5.336944  1.023326e+02  ...   \n",
       "1872-12-31   0.055617   101.774914   6.022184  1.131962e+02  ...   \n",
       "1873-12-31   0.054792    94.272240   7.038425  1.120318e+02  ...   \n",
       "1874-12-31   0.051033   102.433279   7.445591  1.308221e+02  ...   \n",
       "1875-12-31   0.046300   103.742235   7.121893  1.421490e+02  ...   \n",
       "...               ...          ...        ...           ...  ...   \n",
       "2015-12-31   0.022400  2255.801468  47.651126  1.292461e+06  ...   \n",
       "2016-12-31   0.024900  2417.114891  49.167932  1.414735e+06  ...   \n",
       "2017-12-31   0.024000  2807.314128  51.555687  1.675253e+06  ...   \n",
       "2018-12-31   0.028300  2654.374523  55.572810  1.613919e+06  ...   \n",
       "2019-12-31   0.018600  3211.103921  58.869826  1.990520e+06  ...   \n",
       "\n",
       "              Earnings.1       CAPE  Unnamed: 13    TR CAPE  Unnamed: 15  \\\n",
       "Date_1                                                                     \n",
       "1871-12-31      8.635665        NaN          NaN        NaN          NaN   \n",
       "1872-12-31      9.600470        NaN          NaN        NaN          NaN   \n",
       "1873-12-31     11.659415        NaN          NaN        NaN          NaN   \n",
       "1874-12-31     13.255102        NaN          NaN        NaN          NaN   \n",
       "1875-12-31     11.710212        NaN          NaN        NaN          NaN   \n",
       "...                  ...        ...          ...        ...          ...   \n",
       "2015-12-31  54446.097746  25.965424          NaN  28.544377          NaN   \n",
       "2016-12-31  59539.476288  27.865098          NaN  30.586142          NaN   \n",
       "2017-12-31  69089.085549  32.086132          NaN  35.017141          NaN   \n",
       "2018-12-31  83225.922142  28.291857          NaN  30.818335          NaN   \n",
       "2019-12-31  87390.520999  30.331822          NaN  33.209288          NaN   \n",
       "\n",
       "               Date_1   Returns  Inflation  Excess_Returns  Returns_year  \n",
       "Date_1                                                                    \n",
       "1871-12-31 1871-12-31  0.026221        NaN        0.021757           NaN  \n",
       "1872-12-31 1872-12-31  0.029293   0.022555        0.024658      0.132911  \n",
       "1873-12-31 1873-12-31  0.100866  -0.058823        0.096300     -0.063116  \n",
       "1874-12-31 1874-12-31 -0.000547  -0.054685       -0.004800      0.101810  \n",
       "1875-12-31 1875-12-31  0.005721  -0.049590        0.001862      0.028634  \n",
       "...               ...       ...        ...             ...           ...  \n",
       "2015-12-31 2015-12-31 -0.011018   0.007295       -0.012885      0.021029  \n",
       "2016-12-31 2016-12-31  0.039468   0.020746        0.037393      0.115989  \n",
       "2017-12-31 2017-12-31  0.028843   0.021091        0.026843      0.207707  \n",
       "2018-12-31 2018-12-31 -0.055611   0.019102       -0.057969     -0.016244  \n",
       "2019-12-31 2019-12-31  0.024702   0.022851        0.023152      0.260070  \n",
       "\n",
       "[149 rows x 21 columns]"
      ]
     },
     "execution_count": 43,
     "metadata": {},
     "output_type": "execute_result"
    }
   ],
   "source": [
    "Yearly_data"
   ]
  },
  {
   "cell_type": "code",
   "execution_count": 31,
   "metadata": {},
   "outputs": [],
   "source": [
    "# Recalculate annual inflation\n",
    "Yearly_data[\"Inflation\"]=Yearly_data[\"CPI\"]/Yearly_data[\"CPI\"].shift(1)-1"
   ]
  },
  {
   "cell_type": "code",
   "execution_count": 32,
   "metadata": {},
   "outputs": [
    {
     "data": {
      "text/plain": [
       "<matplotlib.axes._subplots.AxesSubplot at 0x117f6f66198>"
      ]
     },
     "execution_count": 32,
     "metadata": {},
     "output_type": "execute_result"
    },
    {
     "data": {
      "image/png": "[encoded data removed]",
      "text/plain": [
       "<Figure size 432x288 with 1 Axes>"
      ]
     },
     "metadata": {
      "needs_background": "light"
     },
     "output_type": "display_data"
    }
   ],
   "source": [
    "Yearly_data[[\"Rate GS10\",\"Inflation\"]].plot()"
   ]
  },
  {
   "cell_type": "code",
   "execution_count": 33,
   "metadata": {},
   "outputs": [
    {
     "data": {
      "text/plain": [
       "<matplotlib.axes._subplots.AxesSubplot at 0x117f704e4e0>"
      ]
     },
     "execution_count": 33,
     "metadata": {},
     "output_type": "execute_result"
    },
    {
     "data": {
      "image/png": "[encoded data removed]",
      "text/plain": [
       "<Figure size 432x288 with 1 Axes>"
      ]
     },
     "metadata": {
      "needs_background": "light"
     },
     "output_type": "display_data"
    }
   ],
   "source": [
    "# Look at the post war data\n",
    "Yearly_data[Yearly_data[\"Date\"]>=1946.01][[\"Rate GS10\",\"Inflation\"]].plot()"
   ]
  },
  {
   "cell_type": "markdown",
   "metadata": {},
   "source": [
    "# Task 7\n",
    "- Compute the annual returns\n",
    "- Compute the annual returns using monthly data"
   ]
  },
  {
   "cell_type": "code",
   "execution_count": 34,
   "metadata": {},
   "outputs": [],
   "source": [
    "# Compute the annual returns\n",
    "Yearly_data[\"Returns_year\"]=(Yearly_data[\"P\"]+Yearly_data[\"D\"])/Yearly_data[\"P\"].shift(1)-1"
   ]
  },
  {
   "cell_type": "code",
   "execution_count": 35,
   "metadata": {},
   "outputs": [
    {
     "data": {
      "text/plain": [
       "Date_1\n",
       "1872-12-31    0.132911\n",
       "1873-12-31   -0.063116\n",
       "1874-12-31    0.101810\n",
       "1875-12-31    0.028634\n",
       "1876-12-31   -0.112128\n",
       "                ...   \n",
       "2015-12-31    0.021029\n",
       "2016-12-31    0.115989\n",
       "2017-12-31    0.207707\n",
       "2018-12-31   -0.016244\n",
       "2019-12-31    0.260070\n",
       "Name: Returns_year, Length: 148, dtype: float64"
      ]
     },
     "execution_count": 35,
     "metadata": {},
     "output_type": "execute_result"
    }
   ],
   "source": [
    "Yearly_data[\"Returns_year\"].dropna()"
   ]
  },
  {
   "cell_type": "code",
   "execution_count": 36,
   "metadata": {},
   "outputs": [
    {
     "data": {
      "text/plain": [
       "count    148.000000\n",
       "mean       0.105516\n",
       "std        0.178904\n",
       "min       -0.402966\n",
       "25%       -0.017502\n",
       "50%        0.125932\n",
       "75%        0.227082\n",
       "max        0.526393\n",
       "Name: Returns_year, dtype: float64"
      ]
     },
     "execution_count": 36,
     "metadata": {},
     "output_type": "execute_result"
    }
   ],
   "source": [
    "Yearly_data[\"Returns_year\"].describe()"
   ]
  },
  {
   "cell_type": "markdown",
   "metadata": {},
   "source": [
    "# Example \n",
    "- If you purchase a stock for 10 in time 0\n",
    "- The stock price is 15 in time 1\n",
    "- The return in time 1 is 0.5\n",
    "- If the stock price is 18 in time 2\n",
    "- The return in time 2 is 0.2\n",
    "- The total return is not 70% but 80%\n",
    "- To compute total return\n",
    "$$1+ret_{0,2}=(1+ret_1)*(1+ret_2)$$\n",
    "$$ret_{0,2}=1.5*1.2-1=0.8$$\n",
    "-Take logs\n",
    "$$log{(1+ret_{0,2})}=log{(1+ret_1)}+log{(1+ret_2)}$$\n",
    "- Exponential operator\n",
    "$$ret_{0,2}=e^{\\sum_0^t log(1+ret_t)}-1$$ "
   ]
  },
  {
   "cell_type": "code",
   "execution_count": 38,
   "metadata": {},
   "outputs": [
    {
     "data": {
      "text/plain": [
       "count    148.000000\n",
       "mean       0.107055\n",
       "std        0.182793\n",
       "min       -0.417759\n",
       "25%       -0.018584\n",
       "50%        0.126792\n",
       "75%        0.229444\n",
       "max        0.544172\n",
       "Name: 12m_Returns, dtype: float64"
      ]
     },
     "execution_count": 38,
     "metadata": {},
     "output_type": "execute_result"
    }
   ],
   "source": [
    "# Previous 12 month returns\n",
    "# Use moving average we used before\n",
    "SP500[\"12m_Returns\"]=np.exp(np.log(1+SP500[\"Returns\"]).rolling(window=12).sum())-1\n",
    "SP500[SP500.index.month==12][\"12m_Returns\"].describe()Returns=SP500[\"Returns\"]"
   ]
  },
  {
   "cell_type": "code",
   "execution_count": 44,
   "metadata": {},
   "outputs": [
    {
     "data": {
      "text/plain": [
       "Date_1\n",
       "1872-12-31    0.131109\n",
       "1873-12-31   -0.068505\n",
       "1874-12-31    0.103866\n",
       "1875-12-31    0.032699\n",
       "1876-12-31   -0.117691\n",
       "                ...   \n",
       "2015-12-31    0.020379\n",
       "2016-12-31    0.117314\n",
       "2017-12-31    0.209121\n",
       "2018-12-31   -0.018210\n",
       "2019-12-31    0.261529\n",
       "Name: 12m_Returns, Length: 148, dtype: float64"
      ]
     },
     "execution_count": 44,
     "metadata": {},
     "output_type": "execute_result"
    }
   ],
   "source": [
    "SP500[SP500.index.month==12][\"12m_Returns\"].dropna()"
   ]
  },
  {
   "cell_type": "code",
   "execution_count": 37,
   "metadata": {},
   "outputs": [
    {
     "data": {
      "text/plain": [
       "Date_1\n",
       "1872-12-31    0.132911\n",
       "1873-12-31   -0.063116\n",
       "1874-12-31    0.101810\n",
       "1875-12-31    0.028634\n",
       "1876-12-31   -0.112128\n",
       "                ...   \n",
       "2015-12-31    0.021029\n",
       "2016-12-31    0.115989\n",
       "2017-12-31    0.207707\n",
       "2018-12-31   -0.016244\n",
       "2019-12-31    0.260070\n",
       "Name: Returns_year, Length: 148, dtype: float64"
      ]
     },
     "execution_count": 37,
     "metadata": {},
     "output_type": "execute_result"
    }
   ],
   "source": [
    "Yearly_data[\"Returns_year\"].dropna()"
   ]
  },
  {
   "cell_type": "markdown",
   "metadata": {},
   "source": [
    "# Random Variables \n",
    "- It is helpful to consider the return on the investment as a random variable. <br> \n",
    "- By random variable we mean that we do not know exactly what will be returns or the value of our investment in the future. <br> \n",
    "- However, while the actual outcome is uncertain we can assess the probabilities with which different outcomes occur. <br>\n",
    "- Example: Weather\n",
    "    - We do not know exactly whether it will rain or not. <br>\n",
    "    - But we can quantify the probability of rain. <br> \n",
    "    - We can say there is a 90% chance that it will rain. <br>\n",
    "- Example: Bank loan\n",
    "    - The bank does not know which customer will default. <br> \n",
    "    - But it can quantify the probability of default. <br> \n",
    "    - For example, the bank can quantify that customer with good credit score has 1% probability of default and with 99% probability the customer will repay the whole loan with interest. <br>\n",
    "    \n",
    "- Similarly, we can assume we can quantify \n",
    "    - the probability of occurrence of a certain event (like a recession) <br>\n",
    "    - our investment returns if that event occurs. <br>\n",
    "    - Then we can compute \n",
    "        - the Expected returns <br>\n",
    "        - Standard deviation or variance <br>"
   ]
  },
  {
   "cell_type": "markdown",
   "metadata": {},
   "source": [
    "# Investors Objective\n",
    "- What do investors prefer?\n",
    "    - Higher Expected returns\n",
    "        - We are profit maximizers\n",
    "    - Lower risk\n",
    "        - We are risk-averse"
   ]
  },
  {
   "cell_type": "markdown",
   "metadata": {},
   "source": [
    "# Risk-Aversion\n",
    "- Example: Gamble 1\n",
    "    - It will cost you \\\\$50,000 to participate in a gamble.\n",
    "    - If you participate, there will be a coin toss. \n",
    "    - The coin is unbiased \n",
    "    - If the coin turns head you receive a payment of \\\\$100,000 (gain of \\\\$50,000) \n",
    "    - If it turns tail you get nothing (loss of \\\\$50,000).\n",
    "- Will you participate in this gamble 1?\n",
    "\n",
    "\n",
    "- Example: Gamble 2\n",
    "    - Someone pays your \\\\$25,000 if you participate in the gamble\n",
    "    - So your net cost of participation is only \\\\$25,000\n",
    "    - The payoff structure is same as gamble 1\n",
    "- Will you participate in gamble 2?\n",
    "    \n",
    "- Losses hurt us more than the happiness from gains\n",
    "- Stocks offer 5% higher returns than bond yields because they are risky"
   ]
  },
  {
   "cell_type": "markdown",
   "metadata": {},
   "source": [
    "# Normal Distribution\n"
   ]
  },
  {
   "cell_type": "code",
   "execution_count": 48,
   "metadata": {},
   "outputs": [],
   "source": [
    "# Draw 10,000 random variables from Uniform distribution (0,1)\n",
    "uni=np.random.uniform(0,1,100000)"
   ]
  },
  {
   "cell_type": "code",
   "execution_count": 49,
   "metadata": {},
   "outputs": [
    {
     "data": {
      "text/plain": [
       "(array([1906., 2013., 2048., 2019., 2036., 1989., 1973., 2047., 1940.,\n",
       "        2045., 1932., 1963., 1967., 2018., 2029., 2013., 2023., 2073.,\n",
       "        2090., 2021., 1981., 1982., 2012., 2049., 2057., 2003., 1983.,\n",
       "        1925., 2049., 1971., 2001., 1953., 2027., 2011., 2020., 1971.,\n",
       "        1910., 2027., 1968., 2005., 2015., 1993., 1991., 2020., 1969.,\n",
       "        1950., 1991., 1984., 1999., 2038.]),\n",
       " array([4.67219296e-06, 2.00043144e-02, 4.00039566e-02, 6.00035988e-02,\n",
       "        8.00032410e-02, 1.00002883e-01, 1.20002525e-01, 1.40002168e-01,\n",
       "        1.60001810e-01, 1.80001452e-01, 2.00001094e-01, 2.20000736e-01,\n",
       "        2.40000379e-01, 2.60000021e-01, 2.79999663e-01, 2.99999305e-01,\n",
       "        3.19998947e-01, 3.39998590e-01, 3.59998232e-01, 3.79997874e-01,\n",
       "        3.99997516e-01, 4.19997158e-01, 4.39996801e-01, 4.59996443e-01,\n",
       "        4.79996085e-01, 4.99995727e-01, 5.19995369e-01, 5.39995012e-01,\n",
       "        5.59994654e-01, 5.79994296e-01, 5.99993938e-01, 6.19993580e-01,\n",
       "        6.39993223e-01, 6.59992865e-01, 6.79992507e-01, 6.99992149e-01,\n",
       "        7.19991791e-01, 7.39991434e-01, 7.59991076e-01, 7.79990718e-01,\n",
       "        7.99990360e-01, 8.19990002e-01, 8.39989645e-01, 8.59989287e-01,\n",
       "        8.79988929e-01, 8.99988571e-01, 9.19988213e-01, 9.39987856e-01,\n",
       "        9.59987498e-01, 9.79987140e-01, 9.99986782e-01]),\n",
       " <a list of 50 Patch objects>)"
      ]
     },
     "execution_count": 49,
     "metadata": {},
     "output_type": "execute_result"
    },
    {
     "data": {
      "image/png": "[encoded data removed]",
      "text/plain": [
       "<Figure size 432x288 with 1 Axes>"
      ]
     },
     "metadata": {
      "needs_background": "light"
     },
     "output_type": "display_data"
    }
   ],
   "source": [
    "plt.hist(uni,bins=50)"
   ]
  },
  {
   "cell_type": "markdown",
   "metadata": {},
   "source": [
    "# Task 8\n",
    "- Draw a sample from the uniform distribution\n"
   ]
  },
  {
   "cell_type": "code",
   "execution_count": 50,
   "metadata": {},
   "outputs": [
    {
     "data": {
      "text/plain": [
       "array([0.41732201, 0.67178763, 0.95251044, 0.19288368, 0.0864556 ,\n",
       "       0.98971286, 0.91786428, 0.89047156, 0.89607604, 0.10646487,\n",
       "       0.53201291, 0.53346782, 0.21616978, 0.28759139, 0.25032228,\n",
       "       0.62203841, 0.8066692 , 0.29578685, 0.92481574, 0.07035116,\n",
       "       0.86780899, 0.62732607, 0.38274316, 0.77584197, 0.43995318,\n",
       "       0.44463816, 0.79295679, 0.25709685, 0.27344322, 0.07281762,\n",
       "       0.53014881, 0.67502148, 0.27705565, 0.97483164, 0.77551296,\n",
       "       0.34157606, 0.49034268, 0.55566898, 0.85584999, 0.61834537,\n",
       "       0.23241776, 0.47594794, 0.93200491, 0.43659792, 0.33136209,\n",
       "       0.7589972 , 0.98276538, 0.5636851 , 0.07988323, 0.18961688,\n",
       "       0.97363494, 0.82621879, 0.51896732, 0.1164688 , 0.60854755,\n",
       "       0.83936588, 0.86794379, 0.56386529, 0.83392244, 0.9408591 ,\n",
       "       0.650425  , 0.83664351, 0.96940539, 0.52820724, 0.54691717,\n",
       "       0.32481314, 0.55901579, 0.97881136, 0.27580269, 0.58780201,\n",
       "       0.52890941, 0.39079417, 0.86484383, 0.58264552, 0.2592055 ,\n",
       "       0.244526  , 0.08151017, 0.26565711, 0.87084008, 0.83997151,\n",
       "       0.63141907, 0.95399395, 0.68042252, 0.51393921, 0.24294721,\n",
       "       0.65481848, 0.72562493, 0.30332661, 0.42015806, 0.48363535,\n",
       "       0.74918652, 0.29678968, 0.48699676, 0.90794947, 0.93618774,\n",
       "       0.43143831, 0.31928422, 0.73126238, 0.47341838, 0.63670812,\n",
       "       0.89666479, 0.2635996 , 0.4225098 , 0.03996425, 0.39566197,\n",
       "       0.82570318, 0.78594014, 0.49848809, 0.27795538, 0.44570718,\n",
       "       0.34984889, 0.0571211 , 0.41212004, 0.04988519, 0.37493763,\n",
       "       0.63014974, 0.69059179, 0.24198526, 0.48092898, 0.78991324,\n",
       "       0.86481326, 0.69400585, 0.16133761, 0.66164424, 0.83424585,\n",
       "       0.38597082, 0.69993553, 0.79203604, 0.92113387, 0.0249742 ,\n",
       "       0.93093797, 0.45267343, 0.92152128, 0.18480639, 0.26958004,\n",
       "       0.87197512, 0.56665277, 0.73271579, 0.27201363, 0.66777224,\n",
       "       0.52053311, 0.31405582, 0.09801228, 0.15315777, 0.68266918,\n",
       "       0.36180935, 0.542988  , 0.5633424 , 0.66462024, 0.72658095,\n",
       "       0.08394863, 0.39622445, 0.45980876, 0.97520087, 0.04170328,\n",
       "       0.65671967, 0.06648604, 0.11402724, 0.52743097, 0.47231777,\n",
       "       0.55697146, 0.80109156, 0.76413985, 0.16981664, 0.85675594,\n",
       "       0.20071596, 0.65433075, 0.87995207, 0.75706521, 0.33190561,\n",
       "       0.91256906, 0.39894198, 0.69786973, 0.72561531, 0.65493654,\n",
       "       0.74039803, 0.72473118, 0.68172699, 0.32996598, 0.07143979,\n",
       "       0.792486  , 0.88352935, 0.23200688, 0.61655797, 0.19565961,\n",
       "       0.16608287, 0.81214351, 0.55193096, 0.41322031, 0.35243647,\n",
       "       0.32497274, 0.49699165, 0.37526253, 0.70576865, 0.67181005,\n",
       "       0.57860124, 0.9210819 , 0.32636869, 0.41243796, 0.1910801 ,\n",
       "       0.6646947 , 0.2536903 , 0.42330434, 0.16892458, 0.62230088,\n",
       "       0.22117487, 0.96579883, 0.13998515, 0.7526758 , 0.64146817,\n",
       "       0.51851784, 0.75093527, 0.59483285, 0.60762923, 0.26323421,\n",
       "       0.90619174, 0.56514657, 0.11609897, 0.19243858, 0.48350016,\n",
       "       0.98347535, 0.20749276, 0.11290899, 0.42926819, 0.08219149,\n",
       "       0.92209664, 0.33549379, 0.30888796, 0.81999728, 0.93212736,\n",
       "       0.80085131, 0.23733983, 0.0417633 , 0.90056654, 0.68961883,\n",
       "       0.65347804, 0.99020067, 0.74891405, 0.1287056 , 0.0223039 ,\n",
       "       0.80063476, 0.03609316, 0.31870733, 0.75790339, 0.2660565 ,\n",
       "       0.33937144, 0.86772271, 0.41442401, 0.65796145, 0.49629957,\n",
       "       0.99531478, 0.25427678, 0.43819094, 0.82001057, 0.73502035,\n",
       "       0.35881186, 0.31228365, 0.51918641, 0.26994568, 0.76334697,\n",
       "       0.91494269, 0.17738653, 0.23362485, 0.90380618, 0.37186006,\n",
       "       0.88076783, 0.05607916, 0.53697074, 0.07756118, 0.19823761,\n",
       "       0.10386665, 0.04737133, 0.39881548, 0.50607972, 0.69411755,\n",
       "       0.40240578, 0.78709659, 0.79365043, 0.47510948, 0.68410129,\n",
       "       0.4132705 , 0.07652836, 0.67104821, 0.52515728, 0.9388701 ,\n",
       "       0.70299155, 0.47788191, 0.08361054, 0.21623844, 0.0444566 ,\n",
       "       0.85445795, 0.1688673 , 0.13519254, 0.2297307 , 0.77303295,\n",
       "       0.08513769, 0.30210652, 0.31796418, 0.75450922, 0.72195162,\n",
       "       0.44497424, 0.0317044 , 0.59258157, 0.244321  , 0.45839892,\n",
       "       0.75528419, 0.12386404, 0.61586733, 0.69212444, 0.78472829,\n",
       "       0.26163341, 0.26061924, 0.02697796, 0.49057489, 0.10611081,\n",
       "       0.58421345, 0.04746095, 0.41495216, 0.36978714, 0.05394982,\n",
       "       0.26357832, 0.94559542, 0.36327554, 0.08433068, 0.38219791,\n",
       "       0.33256867, 0.68717992, 0.99823567, 0.64883554, 0.23220532,\n",
       "       0.5477137 , 0.97055757, 0.06184868, 0.16861868, 0.39608745,\n",
       "       0.87455134, 0.01996038, 0.53042763, 0.54033656, 0.79346622,\n",
       "       0.89059058, 0.23461383, 0.74431733, 0.72324192, 0.67469114,\n",
       "       0.8782398 , 0.10321737, 0.00228219, 0.44880948, 0.50793671,\n",
       "       0.33137845, 0.24022994, 0.22047735, 0.12366674, 0.78361105,\n",
       "       0.6739262 , 0.71142574, 0.30725875, 0.14311195, 0.42019567,\n",
       "       0.87875965, 0.46758388, 0.36384115, 0.502496  , 0.50686104,\n",
       "       0.37691772, 0.7765351 , 0.02256683, 0.61802179, 0.67082802,\n",
       "       0.76841613, 0.22739682, 0.32482051, 0.66043085, 0.0033564 ,\n",
       "       0.14405772, 0.72169531, 0.96307971, 0.02125317, 0.21202021,\n",
       "       0.64547774, 0.0632346 , 0.42666865, 0.13296913, 0.30456517,\n",
       "       0.34501912, 0.22171933, 0.661976  , 0.9293386 , 0.27339272,\n",
       "       0.90754007, 0.78660088, 0.3175808 , 0.72792254, 0.70316042,\n",
       "       0.53341798, 0.45418489, 0.90122219, 0.14269807, 0.87515282,\n",
       "       0.43637384, 0.24212191, 0.70248882, 0.14377571, 0.25844914,\n",
       "       0.01904365, 0.99213111, 0.61494385, 0.90031831, 0.8277686 ,\n",
       "       0.62884359, 0.81694698, 0.45859659, 0.73656901, 0.55545553,\n",
       "       0.48996994, 0.86961862, 0.88170262, 0.0694223 , 0.957857  ,\n",
       "       0.1394982 , 0.75915299, 0.17909774, 0.30953847, 0.15321013,\n",
       "       0.1693237 , 0.91303385, 0.78820918, 0.1047229 , 0.96390498,\n",
       "       0.43050674, 0.421524  , 0.83472722, 0.4153994 , 0.0190015 ,\n",
       "       0.7475328 , 0.87051814, 0.66103711, 0.73528524, 0.39231574,\n",
       "       0.11882849, 0.64963297, 0.24973952, 0.74219347, 0.90798096,\n",
       "       0.83524543, 0.88464841, 0.77847862, 0.12130508, 0.46001659,\n",
       "       0.72318461, 0.2991569 , 0.17404425, 0.41084113, 0.34433413,\n",
       "       0.91334246, 0.88455914, 0.34471538, 0.58744903, 0.7000157 ,\n",
       "       0.48817143, 0.09645649, 0.1049565 , 0.12408112, 0.66705684,\n",
       "       0.75074618, 0.71027206, 0.56039994, 0.5647218 , 0.00779888,\n",
       "       0.66287723, 0.43667788, 0.35445023, 0.5016715 , 0.59007944,\n",
       "       0.91543922, 0.05118259, 0.20426972, 0.09630725, 0.82560167,\n",
       "       0.36250611, 0.33816215, 0.25387427, 0.64633825, 0.95029788,\n",
       "       0.75753997, 0.2411725 , 0.07840152, 0.26997982, 0.39063121,\n",
       "       0.50769698, 0.45196657, 0.31291063, 0.98032892, 0.70011981,\n",
       "       0.14996394, 0.28553788, 0.20158524, 0.07229733, 0.39415033,\n",
       "       0.53076265, 0.54851427, 0.04469977, 0.46976198, 0.01673091,\n",
       "       0.54697094, 0.24529372, 0.92861237, 0.59313814, 0.17829425,\n",
       "       0.82526617, 0.127445  , 0.80747009, 0.16073875, 0.86854566,\n",
       "       0.96235787, 0.29121574, 0.2497244 , 0.83802553, 0.15967314,\n",
       "       0.74116736, 0.85465392, 0.1187139 , 0.86518185, 0.8215036 ,\n",
       "       0.92889133, 0.99170377, 0.65439772, 0.42958213, 0.41107367,\n",
       "       0.66373643, 0.92059833, 0.70048875, 0.46814001, 0.50607972,\n",
       "       0.48994493, 0.69730913, 0.43027788, 0.57101363, 0.38131781,\n",
       "       0.38046507, 0.30882774, 0.18106958, 0.86276737, 0.78802371,\n",
       "       0.45375381, 0.6533684 , 0.41806764, 0.37887413, 0.55070948,\n",
       "       0.91990421, 0.89375468, 0.53690423, 0.5499505 , 0.4801806 ,\n",
       "       0.57074687, 0.55926387, 0.98260365, 0.72148071, 0.66226131,\n",
       "       0.69478849, 0.34310797, 0.86387851, 0.17647571, 0.8740321 ,\n",
       "       0.69134678, 0.52038198, 0.16399301, 0.27185752, 0.58051115,\n",
       "       0.76121552, 0.71841635, 0.57317038, 0.36742345, 0.80217677,\n",
       "       0.97623981, 0.16222342, 0.01093444, 0.95695376, 0.05910429,\n",
       "       0.43865403, 0.64927034, 0.40055175, 0.56747361, 0.25377632,\n",
       "       0.61160567, 0.55983828, 0.98697146, 0.3569739 , 0.61090208,\n",
       "       0.43379415, 0.15050676, 0.91615227, 0.24421224, 0.6967107 ,\n",
       "       0.60905487, 0.89879206, 0.51808707, 0.36162058, 0.9165239 ,\n",
       "       0.73252974, 0.15863925, 0.09939805, 0.8691155 , 0.02417596,\n",
       "       0.43123231, 0.70946676, 0.57467136, 0.93902417, 0.91271806,\n",
       "       0.85757677, 0.34222549, 0.68424413, 0.67171502, 0.68127401,\n",
       "       0.7652286 , 0.47561113, 0.43965668, 0.42835243, 0.99096415,\n",
       "       0.99889206, 0.64324392, 0.082662  , 0.02678578, 0.73736855,\n",
       "       0.11724355, 0.61344047, 0.34657532, 0.99164462, 0.06537277,\n",
       "       0.8883072 , 0.23872807, 0.93071566, 0.50767001, 0.20266252,\n",
       "       0.979394  , 0.22668428, 0.66014387, 0.88475732, 0.95718147,\n",
       "       0.26813568, 0.69284963, 0.31085633, 0.32674732, 0.40617868,\n",
       "       0.01742492, 0.00370854, 0.40338579, 0.99231799, 0.8418415 ,\n",
       "       0.56837107, 0.83793708, 0.06277344, 0.76134565, 0.85489582,\n",
       "       0.5613531 , 0.54308568, 0.68167669, 0.92307217, 0.28264423,\n",
       "       0.14470343, 0.76212913, 0.05290268, 0.44404243, 0.44152473,\n",
       "       0.65033621, 0.13021348, 0.1965148 , 0.40681434, 0.32049664,\n",
       "       0.97806507, 0.97179441, 0.94115025, 0.4403875 , 0.77551224,\n",
       "       0.87651809, 0.97727526, 0.532329  , 0.99330572, 0.76077207,\n",
       "       0.91911169, 0.82547421, 0.09066838, 0.05790431, 0.81565427,\n",
       "       0.22576838, 0.25032157, 0.45362355, 0.7860112 , 0.97306059,\n",
       "       0.63267057, 0.21179361, 0.44722385, 0.82611331, 0.33989133,\n",
       "       0.21801112, 0.33037503, 0.91974152, 0.55180517, 0.14630662,\n",
       "       0.53757873, 0.80868297, 0.19303163, 0.46522756, 0.40205402,\n",
       "       0.66800913, 0.10520096, 0.81578935, 0.09676071, 0.61360402,\n",
       "       0.17278698, 0.80657046, 0.43559837, 0.6752851 , 0.30633074,\n",
       "       0.10098738, 0.95811732, 0.87092465, 0.73867767, 0.41717907,\n",
       "       0.51518236, 0.11232987, 0.72002015, 0.38958709, 0.36332268,\n",
       "       0.28372435, 0.52757911, 0.57283568, 0.55346721, 0.37656718,\n",
       "       0.70715157, 0.0705685 , 0.30291196, 0.83642013, 0.07413872,\n",
       "       0.35502729, 0.89216192, 0.0593463 , 0.72205077, 0.44249093,\n",
       "       0.35638208, 0.36643729, 0.95366687, 0.62763494, 0.73070589,\n",
       "       0.06041197, 0.35423228, 0.51151737, 0.00473795, 0.01254077,\n",
       "       0.59072648, 0.72055771, 0.88186164, 0.74734589, 0.49334127,\n",
       "       0.10415966, 0.49981833, 0.23661524, 0.85675594, 0.86915078,\n",
       "       0.62040303, 0.27465946, 0.53315438, 0.66704137, 0.82379462,\n",
       "       0.77008337, 0.2134094 , 0.48886305, 0.82828157, 0.6553651 ,\n",
       "       0.37913281, 0.38017228, 0.46196785, 0.44941881, 0.08678458,\n",
       "       0.44396045, 0.11114066, 0.95284951, 0.52157587, 0.1160987 ,\n",
       "       0.30745423, 0.70208132, 0.7799358 , 0.29490706, 0.66046557,\n",
       "       0.90434163, 0.66985164, 0.18842101, 0.78104621, 0.45207914,\n",
       "       0.93085262, 0.16277079, 0.09202013, 0.30237133, 0.11999153,\n",
       "       0.19696882, 0.10569251, 0.42724585, 0.90501054, 0.44750262,\n",
       "       0.82169195, 0.74637842, 0.20572721, 0.79319197, 0.76108338,\n",
       "       0.42737928, 0.0839395 , 0.5851495 , 0.89625709, 0.40567801,\n",
       "       0.33708886, 0.99692165, 0.93982059, 0.20075721, 0.97794071,\n",
       "       0.92616118, 0.35227264, 0.71566261, 0.62941078, 0.45796845,\n",
       "       0.52068242, 0.56181698, 0.17480628, 0.40129019, 0.35184296,\n",
       "       0.97739315, 0.45910464, 0.20571343, 0.82982154, 0.3850957 ,\n",
       "       0.15687559, 0.64066681, 0.96710572, 0.6484914 , 0.95147814,\n",
       "       0.15388021, 0.10968149, 0.10962502, 0.56208043, 0.82354098,\n",
       "       0.46045218, 0.64945183, 0.66888224, 0.43529731, 0.2338223 ,\n",
       "       0.29017004, 0.53363864, 0.2985265 , 0.50079576, 0.19356953,\n",
       "       0.52317662, 0.24429863, 0.86639559, 0.39746464, 0.16331699,\n",
       "       0.25870696, 0.39945493, 0.73524127, 0.24073134, 0.37394528,\n",
       "       0.520788  , 0.50178098, 0.97793895, 0.66081367, 0.92922453,\n",
       "       0.21792843, 0.54965118, 0.80971051, 0.92971902, 0.37538436,\n",
       "       0.02378834, 0.87105318, 0.54886042, 0.16749649, 0.90871958,\n",
       "       0.75774329, 0.41714545, 0.38130052, 0.63178072, 0.5278035 ,\n",
       "       0.12033489, 0.0754034 , 0.6204381 , 0.31491237, 0.92428132,\n",
       "       0.07193102, 0.28930871, 0.66876775, 0.37946827, 0.14361641,\n",
       "       0.12049249, 0.25690379, 0.14516529, 0.88300591, 0.12920567,\n",
       "       0.95522358, 0.22790561, 0.74077242, 0.55692229, 0.40489006,\n",
       "       0.02838165, 0.51089757, 0.10410129, 0.34136881, 0.44960946,\n",
       "       0.22947571, 0.71009335, 0.51851275, 0.93703069, 0.36678066,\n",
       "       0.3129464 , 0.90127753, 0.60091798, 0.85715939, 0.06847245,\n",
       "       0.41653694, 0.63959492, 0.62914813, 0.16720918, 0.88181995,\n",
       "       0.85489582, 0.98662361, 0.40537733, 0.91223294, 0.3804598 ,\n",
       "       0.47505957, 0.83468195, 0.38523667, 0.56540542, 0.37005492,\n",
       "       0.02537235, 0.58715327, 0.35840848, 0.89881979, 0.84228365,\n",
       "       0.60682243, 0.55760327, 0.15275066, 0.63779529, 0.98967705,\n",
       "       0.25829216, 0.11432947, 0.74710628, 0.877224  , 0.7091708 ,\n",
       "       0.37159684, 0.24869962, 0.29306453, 0.22447683, 0.45078761,\n",
       "       0.57326067, 0.89446439, 0.15630024, 0.85927236, 0.7222218 ,\n",
       "       0.49443588, 0.70421706, 0.22293091, 0.49679991, 0.27861452,\n",
       "       0.07907477, 0.93700007, 0.01125321, 0.67551307, 0.18865863,\n",
       "       0.81885858, 0.3007385 , 0.25630116, 0.31162808, 0.34174256,\n",
       "       0.24735223, 0.62673231, 0.26250619, 0.16708565, 0.44837858,\n",
       "       0.68944403, 0.56338229, 0.28085669, 0.54793088, 0.20780188,\n",
       "       0.47430251, 0.03291223, 0.85002798, 0.29887591, 0.01022602,\n",
       "       0.09484   , 0.28416706, 0.50603957, 0.21989806, 0.58934415,\n",
       "       0.98217111, 0.3625859 , 0.4088476 , 0.14112722, 0.90876363,\n",
       "       0.89370143, 0.24897267, 0.7877891 , 0.17317381, 0.19318666])"
      ]
     },
     "execution_count": 50,
     "metadata": {},
     "output_type": "execute_result"
    }
   ],
   "source": [
    "# Draw Samples\n",
    "sample=np.random.choice(uni,1000)\n",
    "sample"
   ]
  },
  {
   "cell_type": "markdown",
   "metadata": {},
   "source": [
    "- Now compute the mean of this sample store it in an array \n",
    "- No repeat sampling and compute them mean for 10000 times\n",
    "- plot the distribution of sample means\n"
   ]
  },
  {
   "cell_type": "code",
   "execution_count": 53,
   "metadata": {},
   "outputs": [],
   "source": [
    "sample_mean=np.zeros(100000)\n",
    "for i in range(len(sample_mean)):\n",
    "    sample_mean[i]=np.mean(np.random.choice(uni,100))"
   ]
  },
  {
   "cell_type": "code",
   "execution_count": 54,
   "metadata": {},
   "outputs": [
    {
     "data": {
      "text/plain": [
       "(array([6.000e+00, 8.000e+00, 1.000e+01, 1.400e+01, 4.300e+01, 7.100e+01,\n",
       "        9.900e+01, 1.690e+02, 2.500e+02, 4.080e+02, 5.520e+02, 8.590e+02,\n",
       "        1.206e+03, 1.700e+03, 2.227e+03, 2.892e+03, 3.489e+03, 4.340e+03,\n",
       "        4.883e+03, 5.555e+03, 6.425e+03, 6.611e+03, 6.888e+03, 6.901e+03,\n",
       "        6.793e+03, 6.364e+03, 5.942e+03, 5.343e+03, 4.533e+03, 3.766e+03,\n",
       "        3.090e+03, 2.365e+03, 1.888e+03, 1.385e+03, 9.770e+02, 6.790e+02,\n",
       "        4.670e+02, 3.120e+02, 2.000e+02, 1.120e+02, 8.700e+01, 3.900e+01,\n",
       "        2.500e+01, 1.300e+01, 6.000e+00, 4.000e+00, 2.000e+00, 0.000e+00,\n",
       "        0.000e+00, 2.000e+00]),\n",
       " array([0.38273127, 0.38776892, 0.39280656, 0.3978442 , 0.40288184,\n",
       "        0.40791948, 0.41295712, 0.41799477, 0.42303241, 0.42807005,\n",
       "        0.43310769, 0.43814533, 0.44318297, 0.44822062, 0.45325826,\n",
       "        0.4582959 , 0.46333354, 0.46837118, 0.47340882, 0.47844647,\n",
       "        0.48348411, 0.48852175, 0.49355939, 0.49859703, 0.50363467,\n",
       "        0.50867232, 0.51370996, 0.5187476 , 0.52378524, 0.52882288,\n",
       "        0.53386052, 0.53889817, 0.54393581, 0.54897345, 0.55401109,\n",
       "        0.55904873, 0.56408637, 0.56912402, 0.57416166, 0.5791993 ,\n",
       "        0.58423694, 0.58927458, 0.59431222, 0.59934987, 0.60438751,\n",
       "        0.60942515, 0.61446279, 0.61950043, 0.62453807, 0.62957572,\n",
       "        0.63461336]),\n",
       " <a list of 50 Patch objects>)"
      ]
     },
     "execution_count": 54,
     "metadata": {},
     "output_type": "execute_result"
    },
    {
     "data": {
      "image/png": "[encoded data removed]",
      "text/plain": [
       "<Figure size 432x288 with 1 Axes>"
      ]
     },
     "metadata": {
      "needs_background": "light"
     },
     "output_type": "display_data"
    }
   ],
   "source": [
    "plt.hist(sample_mean,bins=50)"
   ]
  },
  {
   "cell_type": "markdown",
   "metadata": {},
   "source": [
    "- This is the central limit theorem\n",
    "- Try it again using another distribution"
   ]
  },
  {
   "cell_type": "code",
   "execution_count": 77,
   "metadata": {},
   "outputs": [
    {
     "data": {
      "text/plain": [
       "<matplotlib.axes._subplots.AxesSubplot at 0x19e18a6dc50>"
      ]
     },
     "execution_count": 77,
     "metadata": {},
     "output_type": "execute_result"
    },
    {
     "data": {
      "image/png": "[encoded data removed]",
      "text/plain": [
       "<Figure size 432x288 with 1 Axes>"
      ]
     },
     "metadata": {
      "needs_background": "light"
     },
     "output_type": "display_data"
    }
   ],
   "source": [
    "# S&P 500 histogram\n",
    "SP500[\"Returns\"].hist(bins=50)"
   ]
  },
  {
   "cell_type": "markdown",
   "metadata": {},
   "source": [
    "-Does this appear normal?"
   ]
  },
  {
   "cell_type": "code",
   "execution_count": 84,
   "metadata": {},
   "outputs": [
    {
     "data": {
      "text/plain": [
       "-1.283391514420287"
      ]
     },
     "execution_count": 84,
     "metadata": {},
     "output_type": "execute_result"
    }
   ],
   "source": [
    "Yearly_data[\"Returns\"].skew()"
   ]
  },
  {
   "cell_type": "code",
   "execution_count": 85,
   "metadata": {},
   "outputs": [
    {
     "data": {
      "text/plain": [
       "5.649465524140172"
      ]
     },
     "execution_count": 85,
     "metadata": {},
     "output_type": "execute_result"
    }
   ],
   "source": [
    "Yearly_data[\"Returns\"].kurt()"
   ]
  },
  {
   "cell_type": "code",
   "execution_count": 86,
   "metadata": {},
   "outputs": [
    {
     "data": {
      "text/plain": [
       "17.65359123385136"
      ]
     },
     "execution_count": 86,
     "metadata": {},
     "output_type": "execute_result"
    }
   ],
   "source": [
    "SP500[\"Returns\"].kurt()"
   ]
  },
  {
   "cell_type": "code",
   "execution_count": null,
   "metadata": {},
   "outputs": [],
   "source": []
  }
 ],
 "metadata": {
  "kernelspec": {
   "display_name": "Python 3",
   "language": "python",
   "name": "python3"
  },
  "language_info": {
   "codemirror_mode": {
    "name": "ipython",
    "version": 3
   },
   "file_extension": ".py",
   "mimetype": "text/x-python",
   "name": "python",
   "nbconvert_exporter": "python",
   "pygments_lexer": "ipython3",
   "version": "3.6.4"
  },
  "latex_envs": {
   "LaTeX_envs_menu_present": true,
   "autoclose": false,
   "autocomplete": true,
   "bibliofile": "biblio.bib",
   "cite_by": "apalike",
   "current_citInitial": 1,
   "eqLabelWithNumbers": true,
   "eqNumInitial": 1,
   "hotkeys": {
    "equation": "Ctrl-E",
    "itemize": "Ctrl-I"
   },
   "labels_anchors": false,
   "latex_user_defs": false,
   "report_style_numbering": false,
   "user_envs_cfg": false
  }
 },
 "nbformat": 4,
 "nbformat_minor": 2
}
